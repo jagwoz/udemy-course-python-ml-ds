{
 "cells": [
  {
   "cell_type": "code",
   "execution_count": 1,
   "metadata": {
    "collapsed": false,
    "pycharm": {
     "name": "#%%\n"
    }
   },
   "outputs": [
    {
     "data": {
      "text/html": "        <script type=\"text/javascript\">\n        window.PlotlyConfig = {MathJaxConfig: 'local'};\n        if (window.MathJax && window.MathJax.Hub && window.MathJax.Hub.Config) {window.MathJax.Hub.Config({SVG: {font: \"STIX-Web\"}});}\n        if (typeof require !== 'undefined') {\n        require.undef(\"plotly\");\n        requirejs.config({\n            paths: {\n                'plotly': ['https://cdn.plot.ly/plotly-2.12.1.min']\n            }\n        });\n        require(['plotly'], function(Plotly) {\n            window._Plotly = Plotly;\n        });\n        }\n        </script>\n        "
     },
     "metadata": {},
     "output_type": "display_data"
    }
   ],
   "source": [
    "import plotly.graph_objs as go \n",
    "from plotly.offline import init_notebook_mode,iplot,plot\n",
    "init_notebook_mode(connected=True)"
   ]
  },
  {
   "cell_type": "code",
   "execution_count": 2,
   "metadata": {
    "collapsed": true,
    "pycharm": {
     "name": "#%%\n"
    }
   },
   "outputs": [],
   "source": [
    "import pandas as pd"
   ]
  },
  {
   "cell_type": "code",
   "execution_count": 3,
   "metadata": {
    "collapsed": false,
    "pycharm": {
     "name": "#%%\n"
    }
   },
   "outputs": [],
   "source": [
    "df = pd.read_csv('2014_World_Power_Consumption')"
   ]
  },
  {
   "cell_type": "code",
   "execution_count": 4,
   "metadata": {
    "collapsed": false,
    "pycharm": {
     "name": "#%%\n"
    }
   },
   "outputs": [
    {
     "data": {
      "text/plain": "         Country  Power Consumption KWH                        Text\n0          China           5.523000e+12     China 5,523,000,000,000\n1  United States           3.832000e+12    United 3,832,000,000,000\n2       European           2.771000e+12  European 2,771,000,000,000\n3         Russia           1.065000e+12    Russia 1,065,000,000,000\n4          Japan           9.210000e+11       Japan 921,000,000,000",
      "text/html": "<div>\n<style scoped>\n    .dataframe tbody tr th:only-of-type {\n        vertical-align: middle;\n    }\n\n    .dataframe tbody tr th {\n        vertical-align: top;\n    }\n\n    .dataframe thead th {\n        text-align: right;\n    }\n</style>\n<table border=\"1\" class=\"dataframe\">\n  <thead>\n    <tr style=\"text-align: right;\">\n      <th></th>\n      <th>Country</th>\n      <th>Power Consumption KWH</th>\n      <th>Text</th>\n    </tr>\n  </thead>\n  <tbody>\n    <tr>\n      <th>0</th>\n      <td>China</td>\n      <td>5.523000e+12</td>\n      <td>China 5,523,000,000,000</td>\n    </tr>\n    <tr>\n      <th>1</th>\n      <td>United States</td>\n      <td>3.832000e+12</td>\n      <td>United 3,832,000,000,000</td>\n    </tr>\n    <tr>\n      <th>2</th>\n      <td>European</td>\n      <td>2.771000e+12</td>\n      <td>European 2,771,000,000,000</td>\n    </tr>\n    <tr>\n      <th>3</th>\n      <td>Russia</td>\n      <td>1.065000e+12</td>\n      <td>Russia 1,065,000,000,000</td>\n    </tr>\n    <tr>\n      <th>4</th>\n      <td>Japan</td>\n      <td>9.210000e+11</td>\n      <td>Japan 921,000,000,000</td>\n    </tr>\n  </tbody>\n</table>\n</div>"
     },
     "execution_count": 4,
     "metadata": {},
     "output_type": "execute_result"
    }
   ],
   "source": [
    "df.head()"
   ]
  },
  {
   "cell_type": "code",
   "execution_count": 9,
   "metadata": {
    "collapsed": true,
    "pycharm": {
     "name": "#%%\n"
    }
   },
   "outputs": [],
   "source": [
    "data = dict(\n",
    "            type='choropleth',\n",
    "            colorscale='hot',\n",
    "            reversescale=True,\n",
    "            locations=df['Country'],\n",
    "            locationmode=\"country names\",\n",
    "            z=df['Power Consumption KWH'],\n",
    "            text=df['Country'],\n",
    "            colorbar={'title': 'Power Consumption KWH'}\n",
    "        )\n",
    "\n",
    "layout = dict(\n",
    "            title='2014 Power Consumption KWH',\n",
    "            geo=dict(showframe=False, projection={'type': 'stereographic'})\n",
    "        )"
   ]
  },
  {
   "cell_type": "code",
   "execution_count": 10,
   "outputs": [
    {
     "data": {
      "text/plain": "'temp-plot.html'"
     },
     "execution_count": 10,
     "metadata": {},
     "output_type": "execute_result"
    }
   ],
   "source": [
    "world_map = go.Figure(data=[data], layout=layout)\n",
    "plot(world_map, validate=False)"
   ],
   "metadata": {
    "collapsed": false,
    "pycharm": {
     "name": "#%%\n"
    }
   }
  }
 ],
 "metadata": {
  "kernelspec": {
   "display_name": "Python 3",
   "language": "python",
   "name": "python3"
  },
  "language_info": {
   "codemirror_mode": {
    "name": "ipython",
    "version": 3
   },
   "file_extension": ".py",
   "mimetype": "text/x-python",
   "name": "python",
   "nbconvert_exporter": "python",
   "pygments_lexer": "ipython3",
   "version": "3.5.1"
  }
 },
 "nbformat": 4,
 "nbformat_minor": 0
}