{
 "cells": [
  {
   "cell_type": "code",
   "execution_count": 1,
   "outputs": [],
   "source": [
    "import pandas as pd\n",
    "import numpy as np"
   ],
   "metadata": {
    "collapsed": false,
    "pycharm": {
     "name": "#%%\n"
    }
   }
  },
  {
   "cell_type": "code",
   "execution_count": 2,
   "outputs": [],
   "source": [
    "from plotly.offline import download_plotlyjs, init_notebook_mode, plot, iplot"
   ],
   "metadata": {
    "collapsed": false,
    "pycharm": {
     "name": "#%%\n"
    }
   }
  },
  {
   "cell_type": "code",
   "execution_count": 3,
   "outputs": [],
   "source": [
    "#%pip install cufflinks\n",
    "import cufflinks as cf"
   ],
   "metadata": {
    "collapsed": false,
    "pycharm": {
     "name": "#%%\n"
    }
   }
  },
  {
   "cell_type": "code",
   "execution_count": 5,
   "outputs": [
    {
     "data": {
      "text/html": "        <script type=\"text/javascript\">\n        window.PlotlyConfig = {MathJaxConfig: 'local'};\n        if (window.MathJax && window.MathJax.Hub && window.MathJax.Hub.Config) {window.MathJax.Hub.Config({SVG: {font: \"STIX-Web\"}});}\n        if (typeof require !== 'undefined') {\n        require.undef(\"plotly\");\n        requirejs.config({\n            paths: {\n                'plotly': ['https://cdn.plot.ly/plotly-2.12.1.min']\n            }\n        });\n        require(['plotly'], function(Plotly) {\n            window._Plotly = Plotly;\n        });\n        }\n        </script>\n        "
     },
     "metadata": {},
     "output_type": "display_data"
    }
   ],
   "source": [
    "init_notebook_mode(connected=True)"
   ],
   "metadata": {
    "collapsed": false,
    "pycharm": {
     "name": "#%%\n"
    }
   }
  },
  {
   "cell_type": "code",
   "execution_count": 6,
   "outputs": [
    {
     "data": {
      "text/html": "        <script type=\"text/javascript\">\n        window.PlotlyConfig = {MathJaxConfig: 'local'};\n        if (window.MathJax && window.MathJax.Hub && window.MathJax.Hub.Config) {window.MathJax.Hub.Config({SVG: {font: \"STIX-Web\"}});}\n        if (typeof require !== 'undefined') {\n        require.undef(\"plotly\");\n        requirejs.config({\n            paths: {\n                'plotly': ['https://cdn.plot.ly/plotly-2.12.1.min']\n            }\n        });\n        require(['plotly'], function(Plotly) {\n            window._Plotly = Plotly;\n        });\n        }\n        </script>\n        "
     },
     "metadata": {},
     "output_type": "display_data"
    }
   ],
   "source": [
    "cf.go_offline()"
   ],
   "metadata": {
    "collapsed": false,
    "pycharm": {
     "name": "#%%\n"
    }
   }
  },
  {
   "cell_type": "code",
   "execution_count": 7,
   "outputs": [
    {
     "data": {
      "text/plain": "          A         B         C         D\n0  0.148221  0.093356 -1.695369 -0.169337\n1 -0.346089  0.635263  1.819472  0.015463\n2  0.249013  0.419079 -0.683131  1.167543\n3  0.424064 -0.227981  0.578125  0.195102\n4  1.044098 -0.497908  1.671682  0.023245",
      "text/html": "<div>\n<style scoped>\n    .dataframe tbody tr th:only-of-type {\n        vertical-align: middle;\n    }\n\n    .dataframe tbody tr th {\n        vertical-align: top;\n    }\n\n    .dataframe thead th {\n        text-align: right;\n    }\n</style>\n<table border=\"1\" class=\"dataframe\">\n  <thead>\n    <tr style=\"text-align: right;\">\n      <th></th>\n      <th>A</th>\n      <th>B</th>\n      <th>C</th>\n      <th>D</th>\n    </tr>\n  </thead>\n  <tbody>\n    <tr>\n      <th>0</th>\n      <td>0.148221</td>\n      <td>0.093356</td>\n      <td>-1.695369</td>\n      <td>-0.169337</td>\n    </tr>\n    <tr>\n      <th>1</th>\n      <td>-0.346089</td>\n      <td>0.635263</td>\n      <td>1.819472</td>\n      <td>0.015463</td>\n    </tr>\n    <tr>\n      <th>2</th>\n      <td>0.249013</td>\n      <td>0.419079</td>\n      <td>-0.683131</td>\n      <td>1.167543</td>\n    </tr>\n    <tr>\n      <th>3</th>\n      <td>0.424064</td>\n      <td>-0.227981</td>\n      <td>0.578125</td>\n      <td>0.195102</td>\n    </tr>\n    <tr>\n      <th>4</th>\n      <td>1.044098</td>\n      <td>-0.497908</td>\n      <td>1.671682</td>\n      <td>0.023245</td>\n    </tr>\n  </tbody>\n</table>\n</div>"
     },
     "execution_count": 7,
     "metadata": {},
     "output_type": "execute_result"
    }
   ],
   "source": [
    "df = pd.DataFrame(np.random.randn(100, 4), columns=['A', 'B', 'C', 'D'])\n",
    "df.head()"
   ],
   "metadata": {
    "collapsed": false,
    "pycharm": {
     "name": "#%%\n"
    }
   }
  },
  {
   "cell_type": "code",
   "execution_count": 8,
   "outputs": [
    {
     "data": {
      "text/plain": "  category  value\n0        A      0\n1        B      1\n2        C      2",
      "text/html": "<div>\n<style scoped>\n    .dataframe tbody tr th:only-of-type {\n        vertical-align: middle;\n    }\n\n    .dataframe tbody tr th {\n        vertical-align: top;\n    }\n\n    .dataframe thead th {\n        text-align: right;\n    }\n</style>\n<table border=\"1\" class=\"dataframe\">\n  <thead>\n    <tr style=\"text-align: right;\">\n      <th></th>\n      <th>category</th>\n      <th>value</th>\n    </tr>\n  </thead>\n  <tbody>\n    <tr>\n      <th>0</th>\n      <td>A</td>\n      <td>0</td>\n    </tr>\n    <tr>\n      <th>1</th>\n      <td>B</td>\n      <td>1</td>\n    </tr>\n    <tr>\n      <th>2</th>\n      <td>C</td>\n      <td>2</td>\n    </tr>\n  </tbody>\n</table>\n</div>"
     },
     "execution_count": 8,
     "metadata": {},
     "output_type": "execute_result"
    }
   ],
   "source": [
    "df_2 = pd.DataFrame({'category': ['A', 'B', 'C'], 'value': [0, 1, 2]})\n",
    "df_2.head()"
   ],
   "metadata": {
    "collapsed": false,
    "pycharm": {
     "name": "#%%\n"
    }
   }
  },
  {
   "cell_type": "code",
   "execution_count": null,
   "outputs": [],
   "source": [
    "df.iplot()"
   ],
   "metadata": {
    "collapsed": false,
    "pycharm": {
     "name": "#%%\n",
     "is_executing": true
    }
   }
  },
  {
   "cell_type": "code",
   "execution_count": null,
   "outputs": [],
   "source": [
    "df.iplot(kind='scatter', x='A', y='B',  mode='markers')"
   ],
   "metadata": {
    "collapsed": false,
    "pycharm": {
     "name": "#%%\n",
     "is_executing": true
    }
   }
  },
  {
   "cell_type": "code",
   "execution_count": null,
   "outputs": [],
   "source": [
    "df_2.iplot(kind='bar', x='category', y='value')"
   ],
   "metadata": {
    "collapsed": false,
    "pycharm": {
     "name": "#%%\n",
     "is_executing": true
    }
   }
  },
  {
   "cell_type": "code",
   "execution_count": null,
   "outputs": [],
   "source": [
    "df.sum().abs().iplot(kind='bar')"
   ],
   "metadata": {
    "collapsed": false,
    "pycharm": {
     "name": "#%%\n",
     "is_executing": true
    }
   }
  },
  {
   "cell_type": "code",
   "execution_count": null,
   "outputs": [],
   "source": [
    "df.iplot(kind='box')"
   ],
   "metadata": {
    "collapsed": false,
    "pycharm": {
     "name": "#%%\n",
     "is_executing": true
    }
   }
  },
  {
   "cell_type": "code",
   "execution_count": 26,
   "outputs": [
    {
     "data": {
      "application/vnd.plotly.v1+json": {
       "data": [
        {
         "colorscale": [
          [
           0.0,
           "rgb(165,0,38)"
          ],
          [
           0.1,
           "rgb(215,48,39)"
          ],
          [
           0.2,
           "rgb(244,109,67)"
          ],
          [
           0.3,
           "rgb(253,174,97)"
          ],
          [
           0.4,
           "rgb(254,224,144)"
          ],
          [
           0.5,
           "rgb(255,255,191)"
          ],
          [
           0.6,
           "rgb(224,243,248)"
          ],
          [
           0.7,
           "rgb(171,217,233)"
          ],
          [
           0.8,
           "rgb(116,173,209)"
          ],
          [
           0.9,
           "rgb(69,117,180)"
          ],
          [
           1.0,
           "rgb(49,54,149)"
          ]
         ],
         "x": [
          0,
          1,
          2,
          3,
          4,
          5
         ],
         "y": [
          "x",
          "y",
          "z"
         ],
         "z": [
          [
           0,
           1,
           2,
           3,
           4,
           5
          ],
          [
           200,
           300,
           400,
           500,
           600,
           800
          ],
          [
           50,
           30,
           40,
           50,
           50,
           50
          ]
         ],
         "type": "surface"
        }
       ],
       "layout": {
        "legend": {
         "bgcolor": "#F5F6F9",
         "font": {
          "color": "#4D5663"
         }
        },
        "paper_bgcolor": "#F5F6F9",
        "plot_bgcolor": "#F5F6F9",
        "template": {
         "data": {
          "barpolar": [
           {
            "marker": {
             "line": {
              "color": "rgb(17,17,17)",
              "width": 0.5
             },
             "pattern": {
              "fillmode": "overlay",
              "size": 10,
              "solidity": 0.2
             }
            },
            "type": "barpolar"
           }
          ],
          "bar": [
           {
            "error_x": {
             "color": "#f2f5fa"
            },
            "error_y": {
             "color": "#f2f5fa"
            },
            "marker": {
             "line": {
              "color": "rgb(17,17,17)",
              "width": 0.5
             },
             "pattern": {
              "fillmode": "overlay",
              "size": 10,
              "solidity": 0.2
             }
            },
            "type": "bar"
           }
          ],
          "carpet": [
           {
            "aaxis": {
             "endlinecolor": "#A2B1C6",
             "gridcolor": "#506784",
             "linecolor": "#506784",
             "minorgridcolor": "#506784",
             "startlinecolor": "#A2B1C6"
            },
            "baxis": {
             "endlinecolor": "#A2B1C6",
             "gridcolor": "#506784",
             "linecolor": "#506784",
             "minorgridcolor": "#506784",
             "startlinecolor": "#A2B1C6"
            },
            "type": "carpet"
           }
          ],
          "choropleth": [
           {
            "colorbar": {
             "outlinewidth": 0,
             "ticks": ""
            },
            "type": "choropleth"
           }
          ],
          "contourcarpet": [
           {
            "colorbar": {
             "outlinewidth": 0,
             "ticks": ""
            },
            "type": "contourcarpet"
           }
          ],
          "contour": [
           {
            "colorbar": {
             "outlinewidth": 0,
             "ticks": ""
            },
            "colorscale": [
             [
              0.0,
              "#0d0887"
             ],
             [
              0.1111111111111111,
              "#46039f"
             ],
             [
              0.2222222222222222,
              "#7201a8"
             ],
             [
              0.3333333333333333,
              "#9c179e"
             ],
             [
              0.4444444444444444,
              "#bd3786"
             ],
             [
              0.5555555555555556,
              "#d8576b"
             ],
             [
              0.6666666666666666,
              "#ed7953"
             ],
             [
              0.7777777777777778,
              "#fb9f3a"
             ],
             [
              0.8888888888888888,
              "#fdca26"
             ],
             [
              1.0,
              "#f0f921"
             ]
            ],
            "type": "contour"
           }
          ],
          "heatmapgl": [
           {
            "colorbar": {
             "outlinewidth": 0,
             "ticks": ""
            },
            "colorscale": [
             [
              0.0,
              "#0d0887"
             ],
             [
              0.1111111111111111,
              "#46039f"
             ],
             [
              0.2222222222222222,
              "#7201a8"
             ],
             [
              0.3333333333333333,
              "#9c179e"
             ],
             [
              0.4444444444444444,
              "#bd3786"
             ],
             [
              0.5555555555555556,
              "#d8576b"
             ],
             [
              0.6666666666666666,
              "#ed7953"
             ],
             [
              0.7777777777777778,
              "#fb9f3a"
             ],
             [
              0.8888888888888888,
              "#fdca26"
             ],
             [
              1.0,
              "#f0f921"
             ]
            ],
            "type": "heatmapgl"
           }
          ],
          "heatmap": [
           {
            "colorbar": {
             "outlinewidth": 0,
             "ticks": ""
            },
            "colorscale": [
             [
              0.0,
              "#0d0887"
             ],
             [
              0.1111111111111111,
              "#46039f"
             ],
             [
              0.2222222222222222,
              "#7201a8"
             ],
             [
              0.3333333333333333,
              "#9c179e"
             ],
             [
              0.4444444444444444,
              "#bd3786"
             ],
             [
              0.5555555555555556,
              "#d8576b"
             ],
             [
              0.6666666666666666,
              "#ed7953"
             ],
             [
              0.7777777777777778,
              "#fb9f3a"
             ],
             [
              0.8888888888888888,
              "#fdca26"
             ],
             [
              1.0,
              "#f0f921"
             ]
            ],
            "type": "heatmap"
           }
          ],
          "histogram2dcontour": [
           {
            "colorbar": {
             "outlinewidth": 0,
             "ticks": ""
            },
            "colorscale": [
             [
              0.0,
              "#0d0887"
             ],
             [
              0.1111111111111111,
              "#46039f"
             ],
             [
              0.2222222222222222,
              "#7201a8"
             ],
             [
              0.3333333333333333,
              "#9c179e"
             ],
             [
              0.4444444444444444,
              "#bd3786"
             ],
             [
              0.5555555555555556,
              "#d8576b"
             ],
             [
              0.6666666666666666,
              "#ed7953"
             ],
             [
              0.7777777777777778,
              "#fb9f3a"
             ],
             [
              0.8888888888888888,
              "#fdca26"
             ],
             [
              1.0,
              "#f0f921"
             ]
            ],
            "type": "histogram2dcontour"
           }
          ],
          "histogram2d": [
           {
            "colorbar": {
             "outlinewidth": 0,
             "ticks": ""
            },
            "colorscale": [
             [
              0.0,
              "#0d0887"
             ],
             [
              0.1111111111111111,
              "#46039f"
             ],
             [
              0.2222222222222222,
              "#7201a8"
             ],
             [
              0.3333333333333333,
              "#9c179e"
             ],
             [
              0.4444444444444444,
              "#bd3786"
             ],
             [
              0.5555555555555556,
              "#d8576b"
             ],
             [
              0.6666666666666666,
              "#ed7953"
             ],
             [
              0.7777777777777778,
              "#fb9f3a"
             ],
             [
              0.8888888888888888,
              "#fdca26"
             ],
             [
              1.0,
              "#f0f921"
             ]
            ],
            "type": "histogram2d"
           }
          ],
          "histogram": [
           {
            "marker": {
             "pattern": {
              "fillmode": "overlay",
              "size": 10,
              "solidity": 0.2
             }
            },
            "type": "histogram"
           }
          ],
          "mesh3d": [
           {
            "colorbar": {
             "outlinewidth": 0,
             "ticks": ""
            },
            "type": "mesh3d"
           }
          ],
          "parcoords": [
           {
            "line": {
             "colorbar": {
              "outlinewidth": 0,
              "ticks": ""
             }
            },
            "type": "parcoords"
           }
          ],
          "pie": [
           {
            "automargin": true,
            "type": "pie"
           }
          ],
          "scatter3d": [
           {
            "line": {
             "colorbar": {
              "outlinewidth": 0,
              "ticks": ""
             }
            },
            "marker": {
             "colorbar": {
              "outlinewidth": 0,
              "ticks": ""
             }
            },
            "type": "scatter3d"
           }
          ],
          "scattercarpet": [
           {
            "marker": {
             "colorbar": {
              "outlinewidth": 0,
              "ticks": ""
             }
            },
            "type": "scattercarpet"
           }
          ],
          "scattergeo": [
           {
            "marker": {
             "colorbar": {
              "outlinewidth": 0,
              "ticks": ""
             }
            },
            "type": "scattergeo"
           }
          ],
          "scattergl": [
           {
            "marker": {
             "line": {
              "color": "#283442"
             }
            },
            "type": "scattergl"
           }
          ],
          "scattermapbox": [
           {
            "marker": {
             "colorbar": {
              "outlinewidth": 0,
              "ticks": ""
             }
            },
            "type": "scattermapbox"
           }
          ],
          "scatterpolargl": [
           {
            "marker": {
             "colorbar": {
              "outlinewidth": 0,
              "ticks": ""
             }
            },
            "type": "scatterpolargl"
           }
          ],
          "scatterpolar": [
           {
            "marker": {
             "colorbar": {
              "outlinewidth": 0,
              "ticks": ""
             }
            },
            "type": "scatterpolar"
           }
          ],
          "scatter": [
           {
            "marker": {
             "line": {
              "color": "#283442"
             }
            },
            "type": "scatter"
           }
          ],
          "scatterternary": [
           {
            "marker": {
             "colorbar": {
              "outlinewidth": 0,
              "ticks": ""
             }
            },
            "type": "scatterternary"
           }
          ],
          "surface": [
           {
            "colorbar": {
             "outlinewidth": 0,
             "ticks": ""
            },
            "colorscale": [
             [
              0.0,
              "#0d0887"
             ],
             [
              0.1111111111111111,
              "#46039f"
             ],
             [
              0.2222222222222222,
              "#7201a8"
             ],
             [
              0.3333333333333333,
              "#9c179e"
             ],
             [
              0.4444444444444444,
              "#bd3786"
             ],
             [
              0.5555555555555556,
              "#d8576b"
             ],
             [
              0.6666666666666666,
              "#ed7953"
             ],
             [
              0.7777777777777778,
              "#fb9f3a"
             ],
             [
              0.8888888888888888,
              "#fdca26"
             ],
             [
              1.0,
              "#f0f921"
             ]
            ],
            "type": "surface"
           }
          ],
          "table": [
           {
            "cells": {
             "fill": {
              "color": "#506784"
             },
             "line": {
              "color": "rgb(17,17,17)"
             }
            },
            "header": {
             "fill": {
              "color": "#2a3f5f"
             },
             "line": {
              "color": "rgb(17,17,17)"
             }
            },
            "type": "table"
           }
          ]
         },
         "layout": {
          "annotationdefaults": {
           "arrowcolor": "#f2f5fa",
           "arrowhead": 0,
           "arrowwidth": 1
          },
          "autotypenumbers": "strict",
          "coloraxis": {
           "colorbar": {
            "outlinewidth": 0,
            "ticks": ""
           }
          },
          "colorscale": {
           "diverging": [
            [
             0,
             "#8e0152"
            ],
            [
             0.1,
             "#c51b7d"
            ],
            [
             0.2,
             "#de77ae"
            ],
            [
             0.3,
             "#f1b6da"
            ],
            [
             0.4,
             "#fde0ef"
            ],
            [
             0.5,
             "#f7f7f7"
            ],
            [
             0.6,
             "#e6f5d0"
            ],
            [
             0.7,
             "#b8e186"
            ],
            [
             0.8,
             "#7fbc41"
            ],
            [
             0.9,
             "#4d9221"
            ],
            [
             1,
             "#276419"
            ]
           ],
           "sequential": [
            [
             0.0,
             "#0d0887"
            ],
            [
             0.1111111111111111,
             "#46039f"
            ],
            [
             0.2222222222222222,
             "#7201a8"
            ],
            [
             0.3333333333333333,
             "#9c179e"
            ],
            [
             0.4444444444444444,
             "#bd3786"
            ],
            [
             0.5555555555555556,
             "#d8576b"
            ],
            [
             0.6666666666666666,
             "#ed7953"
            ],
            [
             0.7777777777777778,
             "#fb9f3a"
            ],
            [
             0.8888888888888888,
             "#fdca26"
            ],
            [
             1.0,
             "#f0f921"
            ]
           ],
           "sequentialminus": [
            [
             0.0,
             "#0d0887"
            ],
            [
             0.1111111111111111,
             "#46039f"
            ],
            [
             0.2222222222222222,
             "#7201a8"
            ],
            [
             0.3333333333333333,
             "#9c179e"
            ],
            [
             0.4444444444444444,
             "#bd3786"
            ],
            [
             0.5555555555555556,
             "#d8576b"
            ],
            [
             0.6666666666666666,
             "#ed7953"
            ],
            [
             0.7777777777777778,
             "#fb9f3a"
            ],
            [
             0.8888888888888888,
             "#fdca26"
            ],
            [
             1.0,
             "#f0f921"
            ]
           ]
          },
          "colorway": [
           "#636efa",
           "#EF553B",
           "#00cc96",
           "#ab63fa",
           "#FFA15A",
           "#19d3f3",
           "#FF6692",
           "#B6E880",
           "#FF97FF",
           "#FECB52"
          ],
          "font": {
           "color": "#f2f5fa"
          },
          "geo": {
           "bgcolor": "rgb(17,17,17)",
           "lakecolor": "rgb(17,17,17)",
           "landcolor": "rgb(17,17,17)",
           "showlakes": true,
           "showland": true,
           "subunitcolor": "#506784"
          },
          "hoverlabel": {
           "align": "left"
          },
          "hovermode": "closest",
          "mapbox": {
           "style": "dark"
          },
          "paper_bgcolor": "rgb(17,17,17)",
          "plot_bgcolor": "rgb(17,17,17)",
          "polar": {
           "angularaxis": {
            "gridcolor": "#506784",
            "linecolor": "#506784",
            "ticks": ""
           },
           "bgcolor": "rgb(17,17,17)",
           "radialaxis": {
            "gridcolor": "#506784",
            "linecolor": "#506784",
            "ticks": ""
           }
          },
          "scene": {
           "xaxis": {
            "backgroundcolor": "rgb(17,17,17)",
            "gridcolor": "#506784",
            "gridwidth": 2,
            "linecolor": "#506784",
            "showbackground": true,
            "ticks": "",
            "zerolinecolor": "#C8D4E3"
           },
           "yaxis": {
            "backgroundcolor": "rgb(17,17,17)",
            "gridcolor": "#506784",
            "gridwidth": 2,
            "linecolor": "#506784",
            "showbackground": true,
            "ticks": "",
            "zerolinecolor": "#C8D4E3"
           },
           "zaxis": {
            "backgroundcolor": "rgb(17,17,17)",
            "gridcolor": "#506784",
            "gridwidth": 2,
            "linecolor": "#506784",
            "showbackground": true,
            "ticks": "",
            "zerolinecolor": "#C8D4E3"
           }
          },
          "shapedefaults": {
           "line": {
            "color": "#f2f5fa"
           }
          },
          "sliderdefaults": {
           "bgcolor": "#C8D4E3",
           "bordercolor": "rgb(17,17,17)",
           "borderwidth": 1,
           "tickwidth": 0
          },
          "ternary": {
           "aaxis": {
            "gridcolor": "#506784",
            "linecolor": "#506784",
            "ticks": ""
           },
           "baxis": {
            "gridcolor": "#506784",
            "linecolor": "#506784",
            "ticks": ""
           },
           "bgcolor": "rgb(17,17,17)",
           "caxis": {
            "gridcolor": "#506784",
            "linecolor": "#506784",
            "ticks": ""
           }
          },
          "title": {
           "x": 0.05
          },
          "updatemenudefaults": {
           "bgcolor": "#506784",
           "borderwidth": 0
          },
          "xaxis": {
           "automargin": true,
           "gridcolor": "#283442",
           "linecolor": "#506784",
           "ticks": "",
           "title": {
            "standoff": 15
           },
           "zerolinecolor": "#283442",
           "zerolinewidth": 2
          },
          "yaxis": {
           "automargin": true,
           "gridcolor": "#283442",
           "linecolor": "#506784",
           "ticks": "",
           "title": {
            "standoff": 15
           },
           "zerolinecolor": "#283442",
           "zerolinewidth": 2
          }
         }
        },
        "title": {
         "font": {
          "color": "#4D5663"
         }
        },
        "xaxis": {
         "gridcolor": "#E1E5ED",
         "showgrid": true,
         "tickfont": {
          "color": "#4D5663"
         },
         "title": {
          "font": {
           "color": "#4D5663"
          },
          "text": ""
         },
         "zerolinecolor": "#E1E5ED"
        },
        "yaxis": {
         "gridcolor": "#E1E5ED",
         "showgrid": true,
         "tickfont": {
          "color": "#4D5663"
         },
         "title": {
          "font": {
           "color": "#4D5663"
          },
          "text": ""
         },
         "zerolinecolor": "#E1E5ED"
        }
       },
       "config": {
        "showLink": true,
        "linkText": "Export to plot.ly",
        "plotlyServerURL": "https://plot.ly"
       }
      },
      "text/html": "<div>                            <div id=\"a18a3b1e-3759-4adf-a839-9d1df9338e7f\" class=\"plotly-graph-div\" style=\"height:525px; width:100%;\"></div>            <script type=\"text/javascript\">                require([\"plotly\"], function(Plotly) {                    window.PLOTLYENV=window.PLOTLYENV || {};\n                    window.PLOTLYENV.BASE_URL='https://plot.ly';                                    if (document.getElementById(\"a18a3b1e-3759-4adf-a839-9d1df9338e7f\")) {                    Plotly.newPlot(                        \"a18a3b1e-3759-4adf-a839-9d1df9338e7f\",                        [{\"colorscale\":[[0.0,\"rgb(165,0,38)\"],[0.1,\"rgb(215,48,39)\"],[0.2,\"rgb(244,109,67)\"],[0.3,\"rgb(253,174,97)\"],[0.4,\"rgb(254,224,144)\"],[0.5,\"rgb(255,255,191)\"],[0.6,\"rgb(224,243,248)\"],[0.7,\"rgb(171,217,233)\"],[0.8,\"rgb(116,173,209)\"],[0.9,\"rgb(69,117,180)\"],[1.0,\"rgb(49,54,149)\"]],\"x\":[0,1,2,3,4,5],\"y\":[\"x\",\"y\",\"z\"],\"z\":[[0,1,2,3,4,5],[200,300,400,500,600,800],[50,30,40,50,50,50]],\"type\":\"surface\"}],                        {\"legend\":{\"bgcolor\":\"#F5F6F9\",\"font\":{\"color\":\"#4D5663\"}},\"paper_bgcolor\":\"#F5F6F9\",\"plot_bgcolor\":\"#F5F6F9\",\"template\":{\"data\":{\"barpolar\":[{\"marker\":{\"line\":{\"color\":\"rgb(17,17,17)\",\"width\":0.5},\"pattern\":{\"fillmode\":\"overlay\",\"size\":10,\"solidity\":0.2}},\"type\":\"barpolar\"}],\"bar\":[{\"error_x\":{\"color\":\"#f2f5fa\"},\"error_y\":{\"color\":\"#f2f5fa\"},\"marker\":{\"line\":{\"color\":\"rgb(17,17,17)\",\"width\":0.5},\"pattern\":{\"fillmode\":\"overlay\",\"size\":10,\"solidity\":0.2}},\"type\":\"bar\"}],\"carpet\":[{\"aaxis\":{\"endlinecolor\":\"#A2B1C6\",\"gridcolor\":\"#506784\",\"linecolor\":\"#506784\",\"minorgridcolor\":\"#506784\",\"startlinecolor\":\"#A2B1C6\"},\"baxis\":{\"endlinecolor\":\"#A2B1C6\",\"gridcolor\":\"#506784\",\"linecolor\":\"#506784\",\"minorgridcolor\":\"#506784\",\"startlinecolor\":\"#A2B1C6\"},\"type\":\"carpet\"}],\"choropleth\":[{\"colorbar\":{\"outlinewidth\":0,\"ticks\":\"\"},\"type\":\"choropleth\"}],\"contourcarpet\":[{\"colorbar\":{\"outlinewidth\":0,\"ticks\":\"\"},\"type\":\"contourcarpet\"}],\"contour\":[{\"colorbar\":{\"outlinewidth\":0,\"ticks\":\"\"},\"colorscale\":[[0.0,\"#0d0887\"],[0.1111111111111111,\"#46039f\"],[0.2222222222222222,\"#7201a8\"],[0.3333333333333333,\"#9c179e\"],[0.4444444444444444,\"#bd3786\"],[0.5555555555555556,\"#d8576b\"],[0.6666666666666666,\"#ed7953\"],[0.7777777777777778,\"#fb9f3a\"],[0.8888888888888888,\"#fdca26\"],[1.0,\"#f0f921\"]],\"type\":\"contour\"}],\"heatmapgl\":[{\"colorbar\":{\"outlinewidth\":0,\"ticks\":\"\"},\"colorscale\":[[0.0,\"#0d0887\"],[0.1111111111111111,\"#46039f\"],[0.2222222222222222,\"#7201a8\"],[0.3333333333333333,\"#9c179e\"],[0.4444444444444444,\"#bd3786\"],[0.5555555555555556,\"#d8576b\"],[0.6666666666666666,\"#ed7953\"],[0.7777777777777778,\"#fb9f3a\"],[0.8888888888888888,\"#fdca26\"],[1.0,\"#f0f921\"]],\"type\":\"heatmapgl\"}],\"heatmap\":[{\"colorbar\":{\"outlinewidth\":0,\"ticks\":\"\"},\"colorscale\":[[0.0,\"#0d0887\"],[0.1111111111111111,\"#46039f\"],[0.2222222222222222,\"#7201a8\"],[0.3333333333333333,\"#9c179e\"],[0.4444444444444444,\"#bd3786\"],[0.5555555555555556,\"#d8576b\"],[0.6666666666666666,\"#ed7953\"],[0.7777777777777778,\"#fb9f3a\"],[0.8888888888888888,\"#fdca26\"],[1.0,\"#f0f921\"]],\"type\":\"heatmap\"}],\"histogram2dcontour\":[{\"colorbar\":{\"outlinewidth\":0,\"ticks\":\"\"},\"colorscale\":[[0.0,\"#0d0887\"],[0.1111111111111111,\"#46039f\"],[0.2222222222222222,\"#7201a8\"],[0.3333333333333333,\"#9c179e\"],[0.4444444444444444,\"#bd3786\"],[0.5555555555555556,\"#d8576b\"],[0.6666666666666666,\"#ed7953\"],[0.7777777777777778,\"#fb9f3a\"],[0.8888888888888888,\"#fdca26\"],[1.0,\"#f0f921\"]],\"type\":\"histogram2dcontour\"}],\"histogram2d\":[{\"colorbar\":{\"outlinewidth\":0,\"ticks\":\"\"},\"colorscale\":[[0.0,\"#0d0887\"],[0.1111111111111111,\"#46039f\"],[0.2222222222222222,\"#7201a8\"],[0.3333333333333333,\"#9c179e\"],[0.4444444444444444,\"#bd3786\"],[0.5555555555555556,\"#d8576b\"],[0.6666666666666666,\"#ed7953\"],[0.7777777777777778,\"#fb9f3a\"],[0.8888888888888888,\"#fdca26\"],[1.0,\"#f0f921\"]],\"type\":\"histogram2d\"}],\"histogram\":[{\"marker\":{\"pattern\":{\"fillmode\":\"overlay\",\"size\":10,\"solidity\":0.2}},\"type\":\"histogram\"}],\"mesh3d\":[{\"colorbar\":{\"outlinewidth\":0,\"ticks\":\"\"},\"type\":\"mesh3d\"}],\"parcoords\":[{\"line\":{\"colorbar\":{\"outlinewidth\":0,\"ticks\":\"\"}},\"type\":\"parcoords\"}],\"pie\":[{\"automargin\":true,\"type\":\"pie\"}],\"scatter3d\":[{\"line\":{\"colorbar\":{\"outlinewidth\":0,\"ticks\":\"\"}},\"marker\":{\"colorbar\":{\"outlinewidth\":0,\"ticks\":\"\"}},\"type\":\"scatter3d\"}],\"scattercarpet\":[{\"marker\":{\"colorbar\":{\"outlinewidth\":0,\"ticks\":\"\"}},\"type\":\"scattercarpet\"}],\"scattergeo\":[{\"marker\":{\"colorbar\":{\"outlinewidth\":0,\"ticks\":\"\"}},\"type\":\"scattergeo\"}],\"scattergl\":[{\"marker\":{\"line\":{\"color\":\"#283442\"}},\"type\":\"scattergl\"}],\"scattermapbox\":[{\"marker\":{\"colorbar\":{\"outlinewidth\":0,\"ticks\":\"\"}},\"type\":\"scattermapbox\"}],\"scatterpolargl\":[{\"marker\":{\"colorbar\":{\"outlinewidth\":0,\"ticks\":\"\"}},\"type\":\"scatterpolargl\"}],\"scatterpolar\":[{\"marker\":{\"colorbar\":{\"outlinewidth\":0,\"ticks\":\"\"}},\"type\":\"scatterpolar\"}],\"scatter\":[{\"marker\":{\"line\":{\"color\":\"#283442\"}},\"type\":\"scatter\"}],\"scatterternary\":[{\"marker\":{\"colorbar\":{\"outlinewidth\":0,\"ticks\":\"\"}},\"type\":\"scatterternary\"}],\"surface\":[{\"colorbar\":{\"outlinewidth\":0,\"ticks\":\"\"},\"colorscale\":[[0.0,\"#0d0887\"],[0.1111111111111111,\"#46039f\"],[0.2222222222222222,\"#7201a8\"],[0.3333333333333333,\"#9c179e\"],[0.4444444444444444,\"#bd3786\"],[0.5555555555555556,\"#d8576b\"],[0.6666666666666666,\"#ed7953\"],[0.7777777777777778,\"#fb9f3a\"],[0.8888888888888888,\"#fdca26\"],[1.0,\"#f0f921\"]],\"type\":\"surface\"}],\"table\":[{\"cells\":{\"fill\":{\"color\":\"#506784\"},\"line\":{\"color\":\"rgb(17,17,17)\"}},\"header\":{\"fill\":{\"color\":\"#2a3f5f\"},\"line\":{\"color\":\"rgb(17,17,17)\"}},\"type\":\"table\"}]},\"layout\":{\"annotationdefaults\":{\"arrowcolor\":\"#f2f5fa\",\"arrowhead\":0,\"arrowwidth\":1},\"autotypenumbers\":\"strict\",\"coloraxis\":{\"colorbar\":{\"outlinewidth\":0,\"ticks\":\"\"}},\"colorscale\":{\"diverging\":[[0,\"#8e0152\"],[0.1,\"#c51b7d\"],[0.2,\"#de77ae\"],[0.3,\"#f1b6da\"],[0.4,\"#fde0ef\"],[0.5,\"#f7f7f7\"],[0.6,\"#e6f5d0\"],[0.7,\"#b8e186\"],[0.8,\"#7fbc41\"],[0.9,\"#4d9221\"],[1,\"#276419\"]],\"sequential\":[[0.0,\"#0d0887\"],[0.1111111111111111,\"#46039f\"],[0.2222222222222222,\"#7201a8\"],[0.3333333333333333,\"#9c179e\"],[0.4444444444444444,\"#bd3786\"],[0.5555555555555556,\"#d8576b\"],[0.6666666666666666,\"#ed7953\"],[0.7777777777777778,\"#fb9f3a\"],[0.8888888888888888,\"#fdca26\"],[1.0,\"#f0f921\"]],\"sequentialminus\":[[0.0,\"#0d0887\"],[0.1111111111111111,\"#46039f\"],[0.2222222222222222,\"#7201a8\"],[0.3333333333333333,\"#9c179e\"],[0.4444444444444444,\"#bd3786\"],[0.5555555555555556,\"#d8576b\"],[0.6666666666666666,\"#ed7953\"],[0.7777777777777778,\"#fb9f3a\"],[0.8888888888888888,\"#fdca26\"],[1.0,\"#f0f921\"]]},\"colorway\":[\"#636efa\",\"#EF553B\",\"#00cc96\",\"#ab63fa\",\"#FFA15A\",\"#19d3f3\",\"#FF6692\",\"#B6E880\",\"#FF97FF\",\"#FECB52\"],\"font\":{\"color\":\"#f2f5fa\"},\"geo\":{\"bgcolor\":\"rgb(17,17,17)\",\"lakecolor\":\"rgb(17,17,17)\",\"landcolor\":\"rgb(17,17,17)\",\"showlakes\":true,\"showland\":true,\"subunitcolor\":\"#506784\"},\"hoverlabel\":{\"align\":\"left\"},\"hovermode\":\"closest\",\"mapbox\":{\"style\":\"dark\"},\"paper_bgcolor\":\"rgb(17,17,17)\",\"plot_bgcolor\":\"rgb(17,17,17)\",\"polar\":{\"angularaxis\":{\"gridcolor\":\"#506784\",\"linecolor\":\"#506784\",\"ticks\":\"\"},\"bgcolor\":\"rgb(17,17,17)\",\"radialaxis\":{\"gridcolor\":\"#506784\",\"linecolor\":\"#506784\",\"ticks\":\"\"}},\"scene\":{\"xaxis\":{\"backgroundcolor\":\"rgb(17,17,17)\",\"gridcolor\":\"#506784\",\"gridwidth\":2,\"linecolor\":\"#506784\",\"showbackground\":true,\"ticks\":\"\",\"zerolinecolor\":\"#C8D4E3\"},\"yaxis\":{\"backgroundcolor\":\"rgb(17,17,17)\",\"gridcolor\":\"#506784\",\"gridwidth\":2,\"linecolor\":\"#506784\",\"showbackground\":true,\"ticks\":\"\",\"zerolinecolor\":\"#C8D4E3\"},\"zaxis\":{\"backgroundcolor\":\"rgb(17,17,17)\",\"gridcolor\":\"#506784\",\"gridwidth\":2,\"linecolor\":\"#506784\",\"showbackground\":true,\"ticks\":\"\",\"zerolinecolor\":\"#C8D4E3\"}},\"shapedefaults\":{\"line\":{\"color\":\"#f2f5fa\"}},\"sliderdefaults\":{\"bgcolor\":\"#C8D4E3\",\"bordercolor\":\"rgb(17,17,17)\",\"borderwidth\":1,\"tickwidth\":0},\"ternary\":{\"aaxis\":{\"gridcolor\":\"#506784\",\"linecolor\":\"#506784\",\"ticks\":\"\"},\"baxis\":{\"gridcolor\":\"#506784\",\"linecolor\":\"#506784\",\"ticks\":\"\"},\"bgcolor\":\"rgb(17,17,17)\",\"caxis\":{\"gridcolor\":\"#506784\",\"linecolor\":\"#506784\",\"ticks\":\"\"}},\"title\":{\"x\":0.05},\"updatemenudefaults\":{\"bgcolor\":\"#506784\",\"borderwidth\":0},\"xaxis\":{\"automargin\":true,\"gridcolor\":\"#283442\",\"linecolor\":\"#506784\",\"ticks\":\"\",\"title\":{\"standoff\":15},\"zerolinecolor\":\"#283442\",\"zerolinewidth\":2},\"yaxis\":{\"automargin\":true,\"gridcolor\":\"#283442\",\"linecolor\":\"#506784\",\"ticks\":\"\",\"title\":{\"standoff\":15},\"zerolinecolor\":\"#283442\",\"zerolinewidth\":2}}},\"title\":{\"font\":{\"color\":\"#4D5663\"}},\"xaxis\":{\"gridcolor\":\"#E1E5ED\",\"showgrid\":true,\"tickfont\":{\"color\":\"#4D5663\"},\"title\":{\"font\":{\"color\":\"#4D5663\"},\"text\":\"\"},\"zerolinecolor\":\"#E1E5ED\"},\"yaxis\":{\"gridcolor\":\"#E1E5ED\",\"showgrid\":true,\"tickfont\":{\"color\":\"#4D5663\"},\"title\":{\"font\":{\"color\":\"#4D5663\"},\"text\":\"\"},\"zerolinecolor\":\"#E1E5ED\"}},                        {\"showLink\": true, \"linkText\": \"Export to plot.ly\", \"plotlyServerURL\": \"https://plot.ly\", \"responsive\": true}                    ).then(function(){\n                            \nvar gd = document.getElementById('a18a3b1e-3759-4adf-a839-9d1df9338e7f');\nvar x = new MutationObserver(function (mutations, observer) {{\n        var display = window.getComputedStyle(gd).display;\n        if (!display || display === 'none') {{\n            console.log([gd, 'removed!']);\n            Plotly.purge(gd);\n            observer.disconnect();\n        }}\n}});\n\n// Listen for the removal of the full notebook cells\nvar notebookContainer = gd.closest('#notebook-container');\nif (notebookContainer) {{\n    x.observe(notebookContainer, {childList: true});\n}}\n\n// Listen for the clearing of the current output cell\nvar outputEl = gd.closest('.output');\nif (outputEl) {{\n    x.observe(outputEl, {childList: true});\n}}\n\n                        })                };                });            </script>        </div>"
     },
     "metadata": {},
     "output_type": "display_data"
    }
   ],
   "source": [
    "df_3 = pd.DataFrame({'x': [0, 1, 2, 3, 4, 5], 'y': [200, 300, 400, 500, 600, 800], 'z': [50, 30, 40, 50, 50, 50]})\n",
    "df_3.iplot(kind='surface', colorscale='rdylbu')"
   ],
   "metadata": {
    "collapsed": false,
    "pycharm": {
     "name": "#%%\n"
    }
   }
  },
  {
   "cell_type": "code",
   "execution_count": null,
   "outputs": [],
   "source": [
    "# df['A'].iplot(kind='hist')\n",
    "df.iplot(kind='hist')"
   ],
   "metadata": {
    "collapsed": false,
    "pycharm": {
     "name": "#%%\n",
     "is_executing": true
    }
   }
  },
  {
   "cell_type": "code",
   "execution_count": 30,
   "outputs": [
    {
     "name": "stderr",
     "output_type": "stream",
     "text": [
      "/Users/jakubgwozdz/opt/anaconda3/lib/python3.9/site-packages/cufflinks/plotlytools.py:849: FutureWarning:\n",
      "\n",
      "The pandas.np module is deprecated and will be removed from pandas in a future version. Import numpy directly instead.\n",
      "\n",
      "/Users/jakubgwozdz/opt/anaconda3/lib/python3.9/site-packages/cufflinks/plotlytools.py:850: FutureWarning:\n",
      "\n",
      "The pandas.np module is deprecated and will be removed from pandas in a future version. Import numpy directly instead.\n",
      "\n"
     ]
    },
    {
     "data": {
      "application/vnd.plotly.v1+json": {
       "data": [
        {
         "line": {
          "color": "rgba(255, 153, 51, 1.0)",
          "dash": "solid",
          "shape": "linear",
          "width": 1.3
         },
         "mode": "lines",
         "name": "A",
         "text": "",
         "x": [
          0,
          1,
          2,
          3,
          4,
          5,
          6,
          7,
          8,
          9,
          10,
          11,
          12,
          13,
          14,
          15,
          16,
          17,
          18,
          19,
          20,
          21,
          22,
          23,
          24,
          25,
          26,
          27,
          28,
          29,
          30,
          31,
          32,
          33,
          34,
          35,
          36,
          37,
          38,
          39,
          40,
          41,
          42,
          43,
          44,
          45,
          46,
          47,
          48,
          49,
          50,
          51,
          52,
          53,
          54,
          55,
          56,
          57,
          58,
          59,
          60,
          61,
          62,
          63,
          64,
          65,
          66,
          67,
          68,
          69,
          70,
          71,
          72,
          73,
          74,
          75,
          76,
          77,
          78,
          79,
          80,
          81,
          82,
          83,
          84,
          85,
          86,
          87,
          88,
          89,
          90,
          91,
          92,
          93,
          94,
          95,
          96,
          97,
          98,
          99
         ],
         "y": [
          0.14822082851313306,
          -0.34608891272282194,
          0.24901271287272922,
          0.4240644884392381,
          1.0440983662883718,
          -1.276609077470786,
          0.7173135837709251,
          0.1724501564227296,
          -1.1216704493486236,
          0.781576014372293,
          1.1620631939397135,
          0.4150420570889104,
          -1.5521396830291718,
          -1.3169847130470722,
          -0.2781776254151489,
          0.06309633174302318,
          0.556436849059671,
          0.42210247531905687,
          -0.6290252194921633,
          2.0482652926239022,
          0.0780057701894443,
          -1.0368652381136363,
          -1.2541662496048762,
          1.3641269677974222,
          -0.5815112531984108,
          1.6930307786117214,
          -0.4427147377234606,
          -0.7445688117897638,
          -0.20096265500627905,
          -0.5983181907981495,
          -0.3337980932863787,
          0.6955202873612363,
          0.8211640518761578,
          0.058440132841781366,
          -0.9974922958576941,
          2.4395074569855955,
          0.3575072897242947,
          1.9390462165207785,
          0.7312082349367491,
          1.3447152116928895,
          0.444713249935464,
          -1.169786449791424,
          1.0023170061399884,
          -1.1243268576932697,
          1.4503665582180947,
          -0.2900040053277371,
          -0.5088719735190952,
          1.2334075477037256,
          0.22499907847027323,
          -0.024049951245375886,
          -0.8758256834084206,
          -0.3420189487010926,
          -0.8434583722408066,
          0.9204550472988404,
          0.30177024477047126,
          -0.377492562579996,
          -1.2884965453566963,
          0.7746009127096465,
          -1.64245210047636,
          0.8542126775410289,
          -1.3735030353907403,
          0.8781625056604911,
          -0.5396336594025676,
          -1.240198135750007,
          -0.09794950347543442,
          -1.312279745338373,
          0.17805532615954506,
          0.4299075147494006,
          -1.1404548328899988,
          -0.12310121442137532,
          0.4479245793802654,
          0.4070954259101387,
          0.16963828515414067,
          0.1973157313110605,
          0.5324630926125037,
          0.21260533811136523,
          0.12716194356615354,
          1.2611059982970452,
          -0.6971439837941964,
          -1.4514082154439494,
          0.6677974863476068,
          0.5997598573702173,
          0.2808773015398909,
          -1.0440558332737448,
          1.4802503737188173,
          0.05153994766676817,
          0.7364419340533024,
          -0.22705203539660515,
          -0.6021806468835678,
          0.4846678743214728,
          0.4093408586133741,
          -0.013933365361420797,
          -0.3141274672417357,
          0.7403120144688332,
          0.2110029004515611,
          -0.33877135624166815,
          1.6276636601277281,
          1.3798040926121122,
          -0.4122807594505736,
          -1.4787853580946055
         ],
         "type": "scatter"
        },
        {
         "line": {
          "color": "rgba(55, 128, 191, 1.0)",
          "dash": "solid",
          "shape": "linear",
          "width": 1.3
         },
         "mode": "lines",
         "name": "C",
         "text": "",
         "x": [
          0,
          1,
          2,
          3,
          4,
          5,
          6,
          7,
          8,
          9,
          10,
          11,
          12,
          13,
          14,
          15,
          16,
          17,
          18,
          19,
          20,
          21,
          22,
          23,
          24,
          25,
          26,
          27,
          28,
          29,
          30,
          31,
          32,
          33,
          34,
          35,
          36,
          37,
          38,
          39,
          40,
          41,
          42,
          43,
          44,
          45,
          46,
          47,
          48,
          49,
          50,
          51,
          52,
          53,
          54,
          55,
          56,
          57,
          58,
          59,
          60,
          61,
          62,
          63,
          64,
          65,
          66,
          67,
          68,
          69,
          70,
          71,
          72,
          73,
          74,
          75,
          76,
          77,
          78,
          79,
          80,
          81,
          82,
          83,
          84,
          85,
          86,
          87,
          88,
          89,
          90,
          91,
          92,
          93,
          94,
          95,
          96,
          97,
          98,
          99
         ],
         "y": [
          -1.6953689677756643,
          1.8194720346242286,
          -0.6831311730543547,
          0.5781253867149284,
          1.6716821802956356,
          0.5213057287780627,
          1.4582252043915573,
          0.10514172777912444,
          0.5236167417267704,
          -0.03565465227963288,
          -0.020885680628682363,
          1.200145550200681,
          -0.9846904469215673,
          0.10950711263964928,
          1.0445853242309007,
          0.27529157697533474,
          0.5983208824340993,
          -0.3681703126977821,
          0.5264459784317566,
          -1.8901304008258482,
          0.41053724058531343,
          2.149413721393953,
          -0.14829351925723355,
          0.28481667406600414,
          1.2966105484939134,
          1.7764474949850584,
          -0.8658047995647816,
          0.5308213817143275,
          -1.120788356364344,
          1.9454034638537745,
          1.0587558084959137,
          -0.7674713924003651,
          -0.6267594064371546,
          -0.04346827274230348,
          -1.0422634069846766,
          0.09969074130040292,
          0.39073622722129364,
          -0.5928957144835026,
          -0.9641123834614155,
          -0.2677946868200473,
          -0.7777178807479489,
          0.7158199246051675,
          0.8143290570752546,
          -0.20654314807608365,
          -0.6537455646422298,
          0.22089986844224546,
          -0.2225633079250923,
          -0.4534145079716638,
          0.5861747969856174,
          -0.8359347930593233,
          -1.1263047126460155,
          -0.8262738830817886,
          -1.7113495932158238,
          0.08988046821639137,
          0.17889806708828568,
          0.6012322374099268,
          -2.292343144986237,
          -0.37576863802106686,
          -0.5461466161962525,
          -1.1285084981517282,
          0.25345271040546635,
          -0.7382027317539311,
          -0.4164404058879414,
          0.34892979575774963,
          -0.5162902086952994,
          0.10384774185504225,
          0.04891738989556161,
          -0.19568143903196195,
          -0.29457643181972093,
          1.68215698400926,
          -0.991347167285361,
          0.10168122028707241,
          0.7650140058185785,
          -0.38206239630257804,
          0.5662355891522727,
          0.4099861289131352,
          1.5423675075616017,
          -0.2184266039919825,
          -0.995442082795395,
          0.4697414139371775,
          0.8434702620443851,
          0.21731369535359624,
          -1.4495647123157822,
          1.2389903416842123,
          0.6192037649559717,
          -0.29962795697765315,
          0.12043705971204607,
          0.20746825573080724,
          -0.6924691888855892,
          -0.5135158353185701,
          1.7586618431631418,
          0.11614058265889382,
          1.2664850969917103,
          -0.4829830914711651,
          -0.7037313752472822,
          -0.7411842833636715,
          -0.3546797425798537,
          0.575255402927518,
          1.8261781483347446,
          0.40500211093860605
         ],
         "type": "scatter"
        },
        {
         "connectgaps": false,
         "fill": "tozeroy",
         "line": {
          "color": "green",
          "dash": "solid",
          "shape": "linear",
          "width": 0.5
         },
         "mode": "lines",
         "name": "Spread",
         "showlegend": false,
         "x": [
          0,
          1,
          2,
          3,
          4,
          5,
          6,
          7,
          8,
          9,
          10,
          11,
          12,
          13,
          14,
          15,
          16,
          17,
          18,
          19,
          20,
          21,
          22,
          23,
          24,
          25,
          26,
          27,
          28,
          29,
          30,
          31,
          32,
          33,
          34,
          35,
          36,
          37,
          38,
          39,
          40,
          41,
          42,
          43,
          44,
          45,
          46,
          47,
          48,
          49,
          50,
          51,
          52,
          53,
          54,
          55,
          56,
          57,
          58,
          59,
          60,
          61,
          62,
          63,
          64,
          65,
          66,
          67,
          68,
          69,
          70,
          71,
          72,
          73,
          74,
          75,
          76,
          77,
          78,
          79,
          80,
          81,
          82,
          83,
          84,
          85,
          86,
          87,
          88,
          89,
          90,
          91,
          92,
          93,
          94,
          95,
          96,
          97,
          98,
          99
         ],
         "xaxis": "x2",
         "y": [
          1.8435897962887973,
          "",
          0.9321438859270839,
          "",
          "",
          "",
          "",
          0.06730842864360516,
          "",
          0.8172306666519258,
          1.1829488745683958,
          "",
          "",
          "",
          "",
          "",
          "",
          0.790272788016839,
          "",
          3.9383956934497504,
          "",
          "",
          "",
          1.079310293731418,
          "",
          "",
          0.42309006184132103,
          "",
          0.9198257013580649,
          "",
          "",
          1.4629916797616014,
          1.4479234583133125,
          0.10190840558408484,
          0.04477111112698251,
          2.3398167156851923,
          "",
          2.531941931004281,
          1.6953206183981646,
          1.612509898512937,
          1.2224311306834128,
          "",
          0.18798794906473382,
          "",
          2.1041121228603243,
          "",
          "",
          1.6868220556753895,
          "",
          0.8118848418139474,
          0.2504790292375949,
          0.484254934380696,
          0.8678912209750173,
          0.830574579082449,
          0.12287217768218558,
          "",
          1.0038465996295407,
          1.1503695507307135,
          "",
          1.982721175692757,
          "",
          1.6163652374144224,
          "",
          "",
          0.418340705219865,
          "",
          0.12913793626398345,
          0.6255889537813626,
          "",
          "",
          1.4392717466656264,
          0.3054142056230663,
          "",
          0.5793781276136385,
          "",
          "",
          "",
          1.4795326022890276,
          0.29829809900119864,
          "",
          "",
          0.38244616201662107,
          1.730442013855673,
          "",
          0.8610466087628456,
          0.3511679046444213,
          0.6160048743412563,
          "",
          0.09028854200202141,
          0.998183709640043,
          "",
          "",
          "",
          1.2232951059399984,
          0.9147342756988434,
          0.4024129271220033,
          1.9823434027075817,
          0.8045486896845943,
          "",
          ""
         ],
         "yaxis": "y2",
         "type": "scatter"
        },
        {
         "connectgaps": false,
         "fill": "tozeroy",
         "line": {
          "color": "red",
          "dash": "solid",
          "shape": "linear",
          "width": 0.5
         },
         "mode": "lines",
         "name": "Spread",
         "showlegend": false,
         "x": [
          0,
          1,
          2,
          3,
          4,
          5,
          6,
          7,
          8,
          9,
          10,
          11,
          12,
          13,
          14,
          15,
          16,
          17,
          18,
          19,
          20,
          21,
          22,
          23,
          24,
          25,
          26,
          27,
          28,
          29,
          30,
          31,
          32,
          33,
          34,
          35,
          36,
          37,
          38,
          39,
          40,
          41,
          42,
          43,
          44,
          45,
          46,
          47,
          48,
          49,
          50,
          51,
          52,
          53,
          54,
          55,
          56,
          57,
          58,
          59,
          60,
          61,
          62,
          63,
          64,
          65,
          66,
          67,
          68,
          69,
          70,
          71,
          72,
          73,
          74,
          75,
          76,
          77,
          78,
          79,
          80,
          81,
          82,
          83,
          84,
          85,
          86,
          87,
          88,
          89,
          90,
          91,
          92,
          93,
          94,
          95,
          96,
          97,
          98,
          99
         ],
         "xaxis": "x2",
         "y": [
          "",
          -2.1655609473470507,
          "",
          -0.1540608982756903,
          -0.6275838140072638,
          -1.7979148062488486,
          -0.7409116206206322,
          "",
          -1.645287191075394,
          "",
          "",
          -0.7851034931117706,
          -0.5674492361076046,
          -1.4264918256867214,
          -1.3227629496460496,
          -0.21219524523231156,
          -0.041884033374428364,
          "",
          -1.1554711979239198,
          "",
          -0.33253147039586917,
          -3.1862789595075895,
          -1.1058727303476426,
          "",
          -1.8781218016923242,
          -0.08341671637333703,
          "",
          -1.2753901935040912,
          "",
          -2.543721654651924,
          -1.3925539017822923,
          "",
          "",
          "",
          "",
          "",
          -0.033228937496998956,
          "",
          "",
          "",
          "",
          -1.8856063743965916,
          "",
          -0.917783709617186,
          "",
          -0.5109038737699826,
          -0.2863086655940029,
          "",
          -0.36117571851534414,
          "",
          "",
          "",
          "",
          "",
          "",
          -0.9787247999899229,
          "",
          "",
          -1.0963054842801074,
          "",
          -1.6269557457962067,
          "",
          -0.12319325351462618,
          -1.5891279315077567,
          "",
          -1.4161274871934153,
          "",
          "",
          -0.8458784010702779,
          -1.8052581984306353,
          "",
          "",
          -0.5953757206644378,
          "",
          -0.03377249653976899,
          -0.19738079080176996,
          -1.4152055639954482,
          "",
          "",
          -1.921149629381127,
          -0.1756727756967783,
          "",
          "",
          -2.283046174957957,
          "",
          "",
          "",
          -0.4345202911274124,
          "",
          "",
          -1.3493209845497676,
          -0.1300739480203146,
          -1.580612564233446,
          "",
          "",
          "",
          "",
          "",
          -2.238458907785318,
          -1.8837874690332117
         ],
         "yaxis": "y2",
         "type": "scatter"
        }
       ],
       "layout": {
        "hovermode": "x",
        "legend": {
         "bgcolor": "#F5F6F9",
         "font": {
          "color": "#4D5663"
         }
        },
        "paper_bgcolor": "#F5F6F9",
        "plot_bgcolor": "#F5F6F9",
        "template": {
         "data": {
          "barpolar": [
           {
            "marker": {
             "line": {
              "color": "rgb(17,17,17)",
              "width": 0.5
             },
             "pattern": {
              "fillmode": "overlay",
              "size": 10,
              "solidity": 0.2
             }
            },
            "type": "barpolar"
           }
          ],
          "bar": [
           {
            "error_x": {
             "color": "#f2f5fa"
            },
            "error_y": {
             "color": "#f2f5fa"
            },
            "marker": {
             "line": {
              "color": "rgb(17,17,17)",
              "width": 0.5
             },
             "pattern": {
              "fillmode": "overlay",
              "size": 10,
              "solidity": 0.2
             }
            },
            "type": "bar"
           }
          ],
          "carpet": [
           {
            "aaxis": {
             "endlinecolor": "#A2B1C6",
             "gridcolor": "#506784",
             "linecolor": "#506784",
             "minorgridcolor": "#506784",
             "startlinecolor": "#A2B1C6"
            },
            "baxis": {
             "endlinecolor": "#A2B1C6",
             "gridcolor": "#506784",
             "linecolor": "#506784",
             "minorgridcolor": "#506784",
             "startlinecolor": "#A2B1C6"
            },
            "type": "carpet"
           }
          ],
          "choropleth": [
           {
            "colorbar": {
             "outlinewidth": 0,
             "ticks": ""
            },
            "type": "choropleth"
           }
          ],
          "contourcarpet": [
           {
            "colorbar": {
             "outlinewidth": 0,
             "ticks": ""
            },
            "type": "contourcarpet"
           }
          ],
          "contour": [
           {
            "colorbar": {
             "outlinewidth": 0,
             "ticks": ""
            },
            "colorscale": [
             [
              0.0,
              "#0d0887"
             ],
             [
              0.1111111111111111,
              "#46039f"
             ],
             [
              0.2222222222222222,
              "#7201a8"
             ],
             [
              0.3333333333333333,
              "#9c179e"
             ],
             [
              0.4444444444444444,
              "#bd3786"
             ],
             [
              0.5555555555555556,
              "#d8576b"
             ],
             [
              0.6666666666666666,
              "#ed7953"
             ],
             [
              0.7777777777777778,
              "#fb9f3a"
             ],
             [
              0.8888888888888888,
              "#fdca26"
             ],
             [
              1.0,
              "#f0f921"
             ]
            ],
            "type": "contour"
           }
          ],
          "heatmapgl": [
           {
            "colorbar": {
             "outlinewidth": 0,
             "ticks": ""
            },
            "colorscale": [
             [
              0.0,
              "#0d0887"
             ],
             [
              0.1111111111111111,
              "#46039f"
             ],
             [
              0.2222222222222222,
              "#7201a8"
             ],
             [
              0.3333333333333333,
              "#9c179e"
             ],
             [
              0.4444444444444444,
              "#bd3786"
             ],
             [
              0.5555555555555556,
              "#d8576b"
             ],
             [
              0.6666666666666666,
              "#ed7953"
             ],
             [
              0.7777777777777778,
              "#fb9f3a"
             ],
             [
              0.8888888888888888,
              "#fdca26"
             ],
             [
              1.0,
              "#f0f921"
             ]
            ],
            "type": "heatmapgl"
           }
          ],
          "heatmap": [
           {
            "colorbar": {
             "outlinewidth": 0,
             "ticks": ""
            },
            "colorscale": [
             [
              0.0,
              "#0d0887"
             ],
             [
              0.1111111111111111,
              "#46039f"
             ],
             [
              0.2222222222222222,
              "#7201a8"
             ],
             [
              0.3333333333333333,
              "#9c179e"
             ],
             [
              0.4444444444444444,
              "#bd3786"
             ],
             [
              0.5555555555555556,
              "#d8576b"
             ],
             [
              0.6666666666666666,
              "#ed7953"
             ],
             [
              0.7777777777777778,
              "#fb9f3a"
             ],
             [
              0.8888888888888888,
              "#fdca26"
             ],
             [
              1.0,
              "#f0f921"
             ]
            ],
            "type": "heatmap"
           }
          ],
          "histogram2dcontour": [
           {
            "colorbar": {
             "outlinewidth": 0,
             "ticks": ""
            },
            "colorscale": [
             [
              0.0,
              "#0d0887"
             ],
             [
              0.1111111111111111,
              "#46039f"
             ],
             [
              0.2222222222222222,
              "#7201a8"
             ],
             [
              0.3333333333333333,
              "#9c179e"
             ],
             [
              0.4444444444444444,
              "#bd3786"
             ],
             [
              0.5555555555555556,
              "#d8576b"
             ],
             [
              0.6666666666666666,
              "#ed7953"
             ],
             [
              0.7777777777777778,
              "#fb9f3a"
             ],
             [
              0.8888888888888888,
              "#fdca26"
             ],
             [
              1.0,
              "#f0f921"
             ]
            ],
            "type": "histogram2dcontour"
           }
          ],
          "histogram2d": [
           {
            "colorbar": {
             "outlinewidth": 0,
             "ticks": ""
            },
            "colorscale": [
             [
              0.0,
              "#0d0887"
             ],
             [
              0.1111111111111111,
              "#46039f"
             ],
             [
              0.2222222222222222,
              "#7201a8"
             ],
             [
              0.3333333333333333,
              "#9c179e"
             ],
             [
              0.4444444444444444,
              "#bd3786"
             ],
             [
              0.5555555555555556,
              "#d8576b"
             ],
             [
              0.6666666666666666,
              "#ed7953"
             ],
             [
              0.7777777777777778,
              "#fb9f3a"
             ],
             [
              0.8888888888888888,
              "#fdca26"
             ],
             [
              1.0,
              "#f0f921"
             ]
            ],
            "type": "histogram2d"
           }
          ],
          "histogram": [
           {
            "marker": {
             "pattern": {
              "fillmode": "overlay",
              "size": 10,
              "solidity": 0.2
             }
            },
            "type": "histogram"
           }
          ],
          "mesh3d": [
           {
            "colorbar": {
             "outlinewidth": 0,
             "ticks": ""
            },
            "type": "mesh3d"
           }
          ],
          "parcoords": [
           {
            "line": {
             "colorbar": {
              "outlinewidth": 0,
              "ticks": ""
             }
            },
            "type": "parcoords"
           }
          ],
          "pie": [
           {
            "automargin": true,
            "type": "pie"
           }
          ],
          "scatter3d": [
           {
            "line": {
             "colorbar": {
              "outlinewidth": 0,
              "ticks": ""
             }
            },
            "marker": {
             "colorbar": {
              "outlinewidth": 0,
              "ticks": ""
             }
            },
            "type": "scatter3d"
           }
          ],
          "scattercarpet": [
           {
            "marker": {
             "colorbar": {
              "outlinewidth": 0,
              "ticks": ""
             }
            },
            "type": "scattercarpet"
           }
          ],
          "scattergeo": [
           {
            "marker": {
             "colorbar": {
              "outlinewidth": 0,
              "ticks": ""
             }
            },
            "type": "scattergeo"
           }
          ],
          "scattergl": [
           {
            "marker": {
             "line": {
              "color": "#283442"
             }
            },
            "type": "scattergl"
           }
          ],
          "scattermapbox": [
           {
            "marker": {
             "colorbar": {
              "outlinewidth": 0,
              "ticks": ""
             }
            },
            "type": "scattermapbox"
           }
          ],
          "scatterpolargl": [
           {
            "marker": {
             "colorbar": {
              "outlinewidth": 0,
              "ticks": ""
             }
            },
            "type": "scatterpolargl"
           }
          ],
          "scatterpolar": [
           {
            "marker": {
             "colorbar": {
              "outlinewidth": 0,
              "ticks": ""
             }
            },
            "type": "scatterpolar"
           }
          ],
          "scatter": [
           {
            "marker": {
             "line": {
              "color": "#283442"
             }
            },
            "type": "scatter"
           }
          ],
          "scatterternary": [
           {
            "marker": {
             "colorbar": {
              "outlinewidth": 0,
              "ticks": ""
             }
            },
            "type": "scatterternary"
           }
          ],
          "surface": [
           {
            "colorbar": {
             "outlinewidth": 0,
             "ticks": ""
            },
            "colorscale": [
             [
              0.0,
              "#0d0887"
             ],
             [
              0.1111111111111111,
              "#46039f"
             ],
             [
              0.2222222222222222,
              "#7201a8"
             ],
             [
              0.3333333333333333,
              "#9c179e"
             ],
             [
              0.4444444444444444,
              "#bd3786"
             ],
             [
              0.5555555555555556,
              "#d8576b"
             ],
             [
              0.6666666666666666,
              "#ed7953"
             ],
             [
              0.7777777777777778,
              "#fb9f3a"
             ],
             [
              0.8888888888888888,
              "#fdca26"
             ],
             [
              1.0,
              "#f0f921"
             ]
            ],
            "type": "surface"
           }
          ],
          "table": [
           {
            "cells": {
             "fill": {
              "color": "#506784"
             },
             "line": {
              "color": "rgb(17,17,17)"
             }
            },
            "header": {
             "fill": {
              "color": "#2a3f5f"
             },
             "line": {
              "color": "rgb(17,17,17)"
             }
            },
            "type": "table"
           }
          ]
         },
         "layout": {
          "annotationdefaults": {
           "arrowcolor": "#f2f5fa",
           "arrowhead": 0,
           "arrowwidth": 1
          },
          "autotypenumbers": "strict",
          "coloraxis": {
           "colorbar": {
            "outlinewidth": 0,
            "ticks": ""
           }
          },
          "colorscale": {
           "diverging": [
            [
             0,
             "#8e0152"
            ],
            [
             0.1,
             "#c51b7d"
            ],
            [
             0.2,
             "#de77ae"
            ],
            [
             0.3,
             "#f1b6da"
            ],
            [
             0.4,
             "#fde0ef"
            ],
            [
             0.5,
             "#f7f7f7"
            ],
            [
             0.6,
             "#e6f5d0"
            ],
            [
             0.7,
             "#b8e186"
            ],
            [
             0.8,
             "#7fbc41"
            ],
            [
             0.9,
             "#4d9221"
            ],
            [
             1,
             "#276419"
            ]
           ],
           "sequential": [
            [
             0.0,
             "#0d0887"
            ],
            [
             0.1111111111111111,
             "#46039f"
            ],
            [
             0.2222222222222222,
             "#7201a8"
            ],
            [
             0.3333333333333333,
             "#9c179e"
            ],
            [
             0.4444444444444444,
             "#bd3786"
            ],
            [
             0.5555555555555556,
             "#d8576b"
            ],
            [
             0.6666666666666666,
             "#ed7953"
            ],
            [
             0.7777777777777778,
             "#fb9f3a"
            ],
            [
             0.8888888888888888,
             "#fdca26"
            ],
            [
             1.0,
             "#f0f921"
            ]
           ],
           "sequentialminus": [
            [
             0.0,
             "#0d0887"
            ],
            [
             0.1111111111111111,
             "#46039f"
            ],
            [
             0.2222222222222222,
             "#7201a8"
            ],
            [
             0.3333333333333333,
             "#9c179e"
            ],
            [
             0.4444444444444444,
             "#bd3786"
            ],
            [
             0.5555555555555556,
             "#d8576b"
            ],
            [
             0.6666666666666666,
             "#ed7953"
            ],
            [
             0.7777777777777778,
             "#fb9f3a"
            ],
            [
             0.8888888888888888,
             "#fdca26"
            ],
            [
             1.0,
             "#f0f921"
            ]
           ]
          },
          "colorway": [
           "#636efa",
           "#EF553B",
           "#00cc96",
           "#ab63fa",
           "#FFA15A",
           "#19d3f3",
           "#FF6692",
           "#B6E880",
           "#FF97FF",
           "#FECB52"
          ],
          "font": {
           "color": "#f2f5fa"
          },
          "geo": {
           "bgcolor": "rgb(17,17,17)",
           "lakecolor": "rgb(17,17,17)",
           "landcolor": "rgb(17,17,17)",
           "showlakes": true,
           "showland": true,
           "subunitcolor": "#506784"
          },
          "hoverlabel": {
           "align": "left"
          },
          "hovermode": "closest",
          "mapbox": {
           "style": "dark"
          },
          "paper_bgcolor": "rgb(17,17,17)",
          "plot_bgcolor": "rgb(17,17,17)",
          "polar": {
           "angularaxis": {
            "gridcolor": "#506784",
            "linecolor": "#506784",
            "ticks": ""
           },
           "bgcolor": "rgb(17,17,17)",
           "radialaxis": {
            "gridcolor": "#506784",
            "linecolor": "#506784",
            "ticks": ""
           }
          },
          "scene": {
           "xaxis": {
            "backgroundcolor": "rgb(17,17,17)",
            "gridcolor": "#506784",
            "gridwidth": 2,
            "linecolor": "#506784",
            "showbackground": true,
            "ticks": "",
            "zerolinecolor": "#C8D4E3"
           },
           "yaxis": {
            "backgroundcolor": "rgb(17,17,17)",
            "gridcolor": "#506784",
            "gridwidth": 2,
            "linecolor": "#506784",
            "showbackground": true,
            "ticks": "",
            "zerolinecolor": "#C8D4E3"
           },
           "zaxis": {
            "backgroundcolor": "rgb(17,17,17)",
            "gridcolor": "#506784",
            "gridwidth": 2,
            "linecolor": "#506784",
            "showbackground": true,
            "ticks": "",
            "zerolinecolor": "#C8D4E3"
           }
          },
          "shapedefaults": {
           "line": {
            "color": "#f2f5fa"
           }
          },
          "sliderdefaults": {
           "bgcolor": "#C8D4E3",
           "bordercolor": "rgb(17,17,17)",
           "borderwidth": 1,
           "tickwidth": 0
          },
          "ternary": {
           "aaxis": {
            "gridcolor": "#506784",
            "linecolor": "#506784",
            "ticks": ""
           },
           "baxis": {
            "gridcolor": "#506784",
            "linecolor": "#506784",
            "ticks": ""
           },
           "bgcolor": "rgb(17,17,17)",
           "caxis": {
            "gridcolor": "#506784",
            "linecolor": "#506784",
            "ticks": ""
           }
          },
          "title": {
           "x": 0.05
          },
          "updatemenudefaults": {
           "bgcolor": "#506784",
           "borderwidth": 0
          },
          "xaxis": {
           "automargin": true,
           "gridcolor": "#283442",
           "linecolor": "#506784",
           "ticks": "",
           "title": {
            "standoff": 15
           },
           "zerolinecolor": "#283442",
           "zerolinewidth": 2
          },
          "yaxis": {
           "automargin": true,
           "gridcolor": "#283442",
           "linecolor": "#506784",
           "ticks": "",
           "title": {
            "standoff": 15
           },
           "zerolinecolor": "#283442",
           "zerolinewidth": 2
          }
         }
        },
        "title": {
         "font": {
          "color": "#4D5663"
         }
        },
        "xaxis": {
         "gridcolor": "#E1E5ED",
         "showgrid": true,
         "tickfont": {
          "color": "#4D5663"
         },
         "title": {
          "font": {
           "color": "#4D5663"
          },
          "text": ""
         },
         "zerolinecolor": "#E1E5ED"
        },
        "yaxis": {
         "domain": [
          0.3,
          1
         ],
         "gridcolor": "#E1E5ED",
         "showgrid": true,
         "tickfont": {
          "color": "#4D5663"
         },
         "title": {
          "font": {
           "color": "#4D5663"
          },
          "text": ""
         },
         "zerolinecolor": "#E1E5ED"
        },
        "yaxis2": {
         "domain": [
          0,
          0.25
         ],
         "gridcolor": "#E1E5ED",
         "showgrid": true,
         "tickfont": {
          "color": "#4D5663"
         },
         "title": {
          "font": {
           "color": "#4D5663"
          },
          "text": "Spread"
         },
         "zerolinecolor": "#E1E5ED"
        },
        "xaxis2": {
         "anchor": "y2",
         "gridcolor": "#E1E5ED",
         "showgrid": true,
         "showticklabels": false,
         "tickfont": {
          "color": "#4D5663"
         },
         "title": {
          "font": {
           "color": "#4D5663"
          },
          "text": ""
         },
         "zerolinecolor": "#E1E5ED"
        }
       },
       "config": {
        "showLink": true,
        "linkText": "Export to plot.ly",
        "plotlyServerURL": "https://plot.ly"
       }
      },
      "text/html": "<div>                            <div id=\"cd2ff741-1a4b-4af0-86f1-eb23ab10acda\" class=\"plotly-graph-div\" style=\"height:525px; width:100%;\"></div>            <script type=\"text/javascript\">                require([\"plotly\"], function(Plotly) {                    window.PLOTLYENV=window.PLOTLYENV || {};\n                    window.PLOTLYENV.BASE_URL='https://plot.ly';                                    if (document.getElementById(\"cd2ff741-1a4b-4af0-86f1-eb23ab10acda\")) {                    Plotly.newPlot(                        \"cd2ff741-1a4b-4af0-86f1-eb23ab10acda\",                        [{\"line\":{\"color\":\"rgba(255, 153, 51, 1.0)\",\"dash\":\"solid\",\"shape\":\"linear\",\"width\":1.3},\"mode\":\"lines\",\"name\":\"A\",\"text\":\"\",\"x\":[0,1,2,3,4,5,6,7,8,9,10,11,12,13,14,15,16,17,18,19,20,21,22,23,24,25,26,27,28,29,30,31,32,33,34,35,36,37,38,39,40,41,42,43,44,45,46,47,48,49,50,51,52,53,54,55,56,57,58,59,60,61,62,63,64,65,66,67,68,69,70,71,72,73,74,75,76,77,78,79,80,81,82,83,84,85,86,87,88,89,90,91,92,93,94,95,96,97,98,99],\"y\":[0.14822082851313306,-0.34608891272282194,0.24901271287272922,0.4240644884392381,1.0440983662883718,-1.276609077470786,0.7173135837709251,0.1724501564227296,-1.1216704493486236,0.781576014372293,1.1620631939397135,0.4150420570889104,-1.5521396830291718,-1.3169847130470722,-0.2781776254151489,0.06309633174302318,0.556436849059671,0.42210247531905687,-0.6290252194921633,2.0482652926239022,0.0780057701894443,-1.0368652381136363,-1.2541662496048762,1.3641269677974222,-0.5815112531984108,1.6930307786117214,-0.4427147377234606,-0.7445688117897638,-0.20096265500627905,-0.5983181907981495,-0.3337980932863787,0.6955202873612363,0.8211640518761578,0.058440132841781366,-0.9974922958576941,2.4395074569855955,0.3575072897242947,1.9390462165207785,0.7312082349367491,1.3447152116928895,0.444713249935464,-1.169786449791424,1.0023170061399884,-1.1243268576932697,1.4503665582180947,-0.2900040053277371,-0.5088719735190952,1.2334075477037256,0.22499907847027323,-0.024049951245375886,-0.8758256834084206,-0.3420189487010926,-0.8434583722408066,0.9204550472988404,0.30177024477047126,-0.377492562579996,-1.2884965453566963,0.7746009127096465,-1.64245210047636,0.8542126775410289,-1.3735030353907403,0.8781625056604911,-0.5396336594025676,-1.240198135750007,-0.09794950347543442,-1.312279745338373,0.17805532615954506,0.4299075147494006,-1.1404548328899988,-0.12310121442137532,0.4479245793802654,0.4070954259101387,0.16963828515414067,0.1973157313110605,0.5324630926125037,0.21260533811136523,0.12716194356615354,1.2611059982970452,-0.6971439837941964,-1.4514082154439494,0.6677974863476068,0.5997598573702173,0.2808773015398909,-1.0440558332737448,1.4802503737188173,0.05153994766676817,0.7364419340533024,-0.22705203539660515,-0.6021806468835678,0.4846678743214728,0.4093408586133741,-0.013933365361420797,-0.3141274672417357,0.7403120144688332,0.2110029004515611,-0.33877135624166815,1.6276636601277281,1.3798040926121122,-0.4122807594505736,-1.4787853580946055],\"type\":\"scatter\"},{\"line\":{\"color\":\"rgba(55, 128, 191, 1.0)\",\"dash\":\"solid\",\"shape\":\"linear\",\"width\":1.3},\"mode\":\"lines\",\"name\":\"C\",\"text\":\"\",\"x\":[0,1,2,3,4,5,6,7,8,9,10,11,12,13,14,15,16,17,18,19,20,21,22,23,24,25,26,27,28,29,30,31,32,33,34,35,36,37,38,39,40,41,42,43,44,45,46,47,48,49,50,51,52,53,54,55,56,57,58,59,60,61,62,63,64,65,66,67,68,69,70,71,72,73,74,75,76,77,78,79,80,81,82,83,84,85,86,87,88,89,90,91,92,93,94,95,96,97,98,99],\"y\":[-1.6953689677756643,1.8194720346242286,-0.6831311730543547,0.5781253867149284,1.6716821802956356,0.5213057287780627,1.4582252043915573,0.10514172777912444,0.5236167417267704,-0.03565465227963288,-0.020885680628682363,1.200145550200681,-0.9846904469215673,0.10950711263964928,1.0445853242309007,0.27529157697533474,0.5983208824340993,-0.3681703126977821,0.5264459784317566,-1.8901304008258482,0.41053724058531343,2.149413721393953,-0.14829351925723355,0.28481667406600414,1.2966105484939134,1.7764474949850584,-0.8658047995647816,0.5308213817143275,-1.120788356364344,1.9454034638537745,1.0587558084959137,-0.7674713924003651,-0.6267594064371546,-0.04346827274230348,-1.0422634069846766,0.09969074130040292,0.39073622722129364,-0.5928957144835026,-0.9641123834614155,-0.2677946868200473,-0.7777178807479489,0.7158199246051675,0.8143290570752546,-0.20654314807608365,-0.6537455646422298,0.22089986844224546,-0.2225633079250923,-0.4534145079716638,0.5861747969856174,-0.8359347930593233,-1.1263047126460155,-0.8262738830817886,-1.7113495932158238,0.08988046821639137,0.17889806708828568,0.6012322374099268,-2.292343144986237,-0.37576863802106686,-0.5461466161962525,-1.1285084981517282,0.25345271040546635,-0.7382027317539311,-0.4164404058879414,0.34892979575774963,-0.5162902086952994,0.10384774185504225,0.04891738989556161,-0.19568143903196195,-0.29457643181972093,1.68215698400926,-0.991347167285361,0.10168122028707241,0.7650140058185785,-0.38206239630257804,0.5662355891522727,0.4099861289131352,1.5423675075616017,-0.2184266039919825,-0.995442082795395,0.4697414139371775,0.8434702620443851,0.21731369535359624,-1.4495647123157822,1.2389903416842123,0.6192037649559717,-0.29962795697765315,0.12043705971204607,0.20746825573080724,-0.6924691888855892,-0.5135158353185701,1.7586618431631418,0.11614058265889382,1.2664850969917103,-0.4829830914711651,-0.7037313752472822,-0.7411842833636715,-0.3546797425798537,0.575255402927518,1.8261781483347446,0.40500211093860605],\"type\":\"scatter\"},{\"connectgaps\":false,\"fill\":\"tozeroy\",\"line\":{\"color\":\"green\",\"dash\":\"solid\",\"shape\":\"linear\",\"width\":0.5},\"mode\":\"lines\",\"name\":\"Spread\",\"showlegend\":false,\"x\":[0,1,2,3,4,5,6,7,8,9,10,11,12,13,14,15,16,17,18,19,20,21,22,23,24,25,26,27,28,29,30,31,32,33,34,35,36,37,38,39,40,41,42,43,44,45,46,47,48,49,50,51,52,53,54,55,56,57,58,59,60,61,62,63,64,65,66,67,68,69,70,71,72,73,74,75,76,77,78,79,80,81,82,83,84,85,86,87,88,89,90,91,92,93,94,95,96,97,98,99],\"xaxis\":\"x2\",\"y\":[1.8435897962887973,\"\",0.9321438859270839,\"\",\"\",\"\",\"\",0.06730842864360516,\"\",0.8172306666519258,1.1829488745683958,\"\",\"\",\"\",\"\",\"\",\"\",0.790272788016839,\"\",3.9383956934497504,\"\",\"\",\"\",1.079310293731418,\"\",\"\",0.42309006184132103,\"\",0.9198257013580649,\"\",\"\",1.4629916797616014,1.4479234583133125,0.10190840558408484,0.04477111112698251,2.3398167156851923,\"\",2.531941931004281,1.6953206183981646,1.612509898512937,1.2224311306834128,\"\",0.18798794906473382,\"\",2.1041121228603243,\"\",\"\",1.6868220556753895,\"\",0.8118848418139474,0.2504790292375949,0.484254934380696,0.8678912209750173,0.830574579082449,0.12287217768218558,\"\",1.0038465996295407,1.1503695507307135,\"\",1.982721175692757,\"\",1.6163652374144224,\"\",\"\",0.418340705219865,\"\",0.12913793626398345,0.6255889537813626,\"\",\"\",1.4392717466656264,0.3054142056230663,\"\",0.5793781276136385,\"\",\"\",\"\",1.4795326022890276,0.29829809900119864,\"\",\"\",0.38244616201662107,1.730442013855673,\"\",0.8610466087628456,0.3511679046444213,0.6160048743412563,\"\",0.09028854200202141,0.998183709640043,\"\",\"\",\"\",1.2232951059399984,0.9147342756988434,0.4024129271220033,1.9823434027075817,0.8045486896845943,\"\",\"\"],\"yaxis\":\"y2\",\"type\":\"scatter\"},{\"connectgaps\":false,\"fill\":\"tozeroy\",\"line\":{\"color\":\"red\",\"dash\":\"solid\",\"shape\":\"linear\",\"width\":0.5},\"mode\":\"lines\",\"name\":\"Spread\",\"showlegend\":false,\"x\":[0,1,2,3,4,5,6,7,8,9,10,11,12,13,14,15,16,17,18,19,20,21,22,23,24,25,26,27,28,29,30,31,32,33,34,35,36,37,38,39,40,41,42,43,44,45,46,47,48,49,50,51,52,53,54,55,56,57,58,59,60,61,62,63,64,65,66,67,68,69,70,71,72,73,74,75,76,77,78,79,80,81,82,83,84,85,86,87,88,89,90,91,92,93,94,95,96,97,98,99],\"xaxis\":\"x2\",\"y\":[\"\",-2.1655609473470507,\"\",-0.1540608982756903,-0.6275838140072638,-1.7979148062488486,-0.7409116206206322,\"\",-1.645287191075394,\"\",\"\",-0.7851034931117706,-0.5674492361076046,-1.4264918256867214,-1.3227629496460496,-0.21219524523231156,-0.041884033374428364,\"\",-1.1554711979239198,\"\",-0.33253147039586917,-3.1862789595075895,-1.1058727303476426,\"\",-1.8781218016923242,-0.08341671637333703,\"\",-1.2753901935040912,\"\",-2.543721654651924,-1.3925539017822923,\"\",\"\",\"\",\"\",\"\",-0.033228937496998956,\"\",\"\",\"\",\"\",-1.8856063743965916,\"\",-0.917783709617186,\"\",-0.5109038737699826,-0.2863086655940029,\"\",-0.36117571851534414,\"\",\"\",\"\",\"\",\"\",\"\",-0.9787247999899229,\"\",\"\",-1.0963054842801074,\"\",-1.6269557457962067,\"\",-0.12319325351462618,-1.5891279315077567,\"\",-1.4161274871934153,\"\",\"\",-0.8458784010702779,-1.8052581984306353,\"\",\"\",-0.5953757206644378,\"\",-0.03377249653976899,-0.19738079080176996,-1.4152055639954482,\"\",\"\",-1.921149629381127,-0.1756727756967783,\"\",\"\",-2.283046174957957,\"\",\"\",\"\",-0.4345202911274124,\"\",\"\",-1.3493209845497676,-0.1300739480203146,-1.580612564233446,\"\",\"\",\"\",\"\",\"\",-2.238458907785318,-1.8837874690332117],\"yaxis\":\"y2\",\"type\":\"scatter\"}],                        {\"hovermode\":\"x\",\"legend\":{\"bgcolor\":\"#F5F6F9\",\"font\":{\"color\":\"#4D5663\"}},\"paper_bgcolor\":\"#F5F6F9\",\"plot_bgcolor\":\"#F5F6F9\",\"template\":{\"data\":{\"barpolar\":[{\"marker\":{\"line\":{\"color\":\"rgb(17,17,17)\",\"width\":0.5},\"pattern\":{\"fillmode\":\"overlay\",\"size\":10,\"solidity\":0.2}},\"type\":\"barpolar\"}],\"bar\":[{\"error_x\":{\"color\":\"#f2f5fa\"},\"error_y\":{\"color\":\"#f2f5fa\"},\"marker\":{\"line\":{\"color\":\"rgb(17,17,17)\",\"width\":0.5},\"pattern\":{\"fillmode\":\"overlay\",\"size\":10,\"solidity\":0.2}},\"type\":\"bar\"}],\"carpet\":[{\"aaxis\":{\"endlinecolor\":\"#A2B1C6\",\"gridcolor\":\"#506784\",\"linecolor\":\"#506784\",\"minorgridcolor\":\"#506784\",\"startlinecolor\":\"#A2B1C6\"},\"baxis\":{\"endlinecolor\":\"#A2B1C6\",\"gridcolor\":\"#506784\",\"linecolor\":\"#506784\",\"minorgridcolor\":\"#506784\",\"startlinecolor\":\"#A2B1C6\"},\"type\":\"carpet\"}],\"choropleth\":[{\"colorbar\":{\"outlinewidth\":0,\"ticks\":\"\"},\"type\":\"choropleth\"}],\"contourcarpet\":[{\"colorbar\":{\"outlinewidth\":0,\"ticks\":\"\"},\"type\":\"contourcarpet\"}],\"contour\":[{\"colorbar\":{\"outlinewidth\":0,\"ticks\":\"\"},\"colorscale\":[[0.0,\"#0d0887\"],[0.1111111111111111,\"#46039f\"],[0.2222222222222222,\"#7201a8\"],[0.3333333333333333,\"#9c179e\"],[0.4444444444444444,\"#bd3786\"],[0.5555555555555556,\"#d8576b\"],[0.6666666666666666,\"#ed7953\"],[0.7777777777777778,\"#fb9f3a\"],[0.8888888888888888,\"#fdca26\"],[1.0,\"#f0f921\"]],\"type\":\"contour\"}],\"heatmapgl\":[{\"colorbar\":{\"outlinewidth\":0,\"ticks\":\"\"},\"colorscale\":[[0.0,\"#0d0887\"],[0.1111111111111111,\"#46039f\"],[0.2222222222222222,\"#7201a8\"],[0.3333333333333333,\"#9c179e\"],[0.4444444444444444,\"#bd3786\"],[0.5555555555555556,\"#d8576b\"],[0.6666666666666666,\"#ed7953\"],[0.7777777777777778,\"#fb9f3a\"],[0.8888888888888888,\"#fdca26\"],[1.0,\"#f0f921\"]],\"type\":\"heatmapgl\"}],\"heatmap\":[{\"colorbar\":{\"outlinewidth\":0,\"ticks\":\"\"},\"colorscale\":[[0.0,\"#0d0887\"],[0.1111111111111111,\"#46039f\"],[0.2222222222222222,\"#7201a8\"],[0.3333333333333333,\"#9c179e\"],[0.4444444444444444,\"#bd3786\"],[0.5555555555555556,\"#d8576b\"],[0.6666666666666666,\"#ed7953\"],[0.7777777777777778,\"#fb9f3a\"],[0.8888888888888888,\"#fdca26\"],[1.0,\"#f0f921\"]],\"type\":\"heatmap\"}],\"histogram2dcontour\":[{\"colorbar\":{\"outlinewidth\":0,\"ticks\":\"\"},\"colorscale\":[[0.0,\"#0d0887\"],[0.1111111111111111,\"#46039f\"],[0.2222222222222222,\"#7201a8\"],[0.3333333333333333,\"#9c179e\"],[0.4444444444444444,\"#bd3786\"],[0.5555555555555556,\"#d8576b\"],[0.6666666666666666,\"#ed7953\"],[0.7777777777777778,\"#fb9f3a\"],[0.8888888888888888,\"#fdca26\"],[1.0,\"#f0f921\"]],\"type\":\"histogram2dcontour\"}],\"histogram2d\":[{\"colorbar\":{\"outlinewidth\":0,\"ticks\":\"\"},\"colorscale\":[[0.0,\"#0d0887\"],[0.1111111111111111,\"#46039f\"],[0.2222222222222222,\"#7201a8\"],[0.3333333333333333,\"#9c179e\"],[0.4444444444444444,\"#bd3786\"],[0.5555555555555556,\"#d8576b\"],[0.6666666666666666,\"#ed7953\"],[0.7777777777777778,\"#fb9f3a\"],[0.8888888888888888,\"#fdca26\"],[1.0,\"#f0f921\"]],\"type\":\"histogram2d\"}],\"histogram\":[{\"marker\":{\"pattern\":{\"fillmode\":\"overlay\",\"size\":10,\"solidity\":0.2}},\"type\":\"histogram\"}],\"mesh3d\":[{\"colorbar\":{\"outlinewidth\":0,\"ticks\":\"\"},\"type\":\"mesh3d\"}],\"parcoords\":[{\"line\":{\"colorbar\":{\"outlinewidth\":0,\"ticks\":\"\"}},\"type\":\"parcoords\"}],\"pie\":[{\"automargin\":true,\"type\":\"pie\"}],\"scatter3d\":[{\"line\":{\"colorbar\":{\"outlinewidth\":0,\"ticks\":\"\"}},\"marker\":{\"colorbar\":{\"outlinewidth\":0,\"ticks\":\"\"}},\"type\":\"scatter3d\"}],\"scattercarpet\":[{\"marker\":{\"colorbar\":{\"outlinewidth\":0,\"ticks\":\"\"}},\"type\":\"scattercarpet\"}],\"scattergeo\":[{\"marker\":{\"colorbar\":{\"outlinewidth\":0,\"ticks\":\"\"}},\"type\":\"scattergeo\"}],\"scattergl\":[{\"marker\":{\"line\":{\"color\":\"#283442\"}},\"type\":\"scattergl\"}],\"scattermapbox\":[{\"marker\":{\"colorbar\":{\"outlinewidth\":0,\"ticks\":\"\"}},\"type\":\"scattermapbox\"}],\"scatterpolargl\":[{\"marker\":{\"colorbar\":{\"outlinewidth\":0,\"ticks\":\"\"}},\"type\":\"scatterpolargl\"}],\"scatterpolar\":[{\"marker\":{\"colorbar\":{\"outlinewidth\":0,\"ticks\":\"\"}},\"type\":\"scatterpolar\"}],\"scatter\":[{\"marker\":{\"line\":{\"color\":\"#283442\"}},\"type\":\"scatter\"}],\"scatterternary\":[{\"marker\":{\"colorbar\":{\"outlinewidth\":0,\"ticks\":\"\"}},\"type\":\"scatterternary\"}],\"surface\":[{\"colorbar\":{\"outlinewidth\":0,\"ticks\":\"\"},\"colorscale\":[[0.0,\"#0d0887\"],[0.1111111111111111,\"#46039f\"],[0.2222222222222222,\"#7201a8\"],[0.3333333333333333,\"#9c179e\"],[0.4444444444444444,\"#bd3786\"],[0.5555555555555556,\"#d8576b\"],[0.6666666666666666,\"#ed7953\"],[0.7777777777777778,\"#fb9f3a\"],[0.8888888888888888,\"#fdca26\"],[1.0,\"#f0f921\"]],\"type\":\"surface\"}],\"table\":[{\"cells\":{\"fill\":{\"color\":\"#506784\"},\"line\":{\"color\":\"rgb(17,17,17)\"}},\"header\":{\"fill\":{\"color\":\"#2a3f5f\"},\"line\":{\"color\":\"rgb(17,17,17)\"}},\"type\":\"table\"}]},\"layout\":{\"annotationdefaults\":{\"arrowcolor\":\"#f2f5fa\",\"arrowhead\":0,\"arrowwidth\":1},\"autotypenumbers\":\"strict\",\"coloraxis\":{\"colorbar\":{\"outlinewidth\":0,\"ticks\":\"\"}},\"colorscale\":{\"diverging\":[[0,\"#8e0152\"],[0.1,\"#c51b7d\"],[0.2,\"#de77ae\"],[0.3,\"#f1b6da\"],[0.4,\"#fde0ef\"],[0.5,\"#f7f7f7\"],[0.6,\"#e6f5d0\"],[0.7,\"#b8e186\"],[0.8,\"#7fbc41\"],[0.9,\"#4d9221\"],[1,\"#276419\"]],\"sequential\":[[0.0,\"#0d0887\"],[0.1111111111111111,\"#46039f\"],[0.2222222222222222,\"#7201a8\"],[0.3333333333333333,\"#9c179e\"],[0.4444444444444444,\"#bd3786\"],[0.5555555555555556,\"#d8576b\"],[0.6666666666666666,\"#ed7953\"],[0.7777777777777778,\"#fb9f3a\"],[0.8888888888888888,\"#fdca26\"],[1.0,\"#f0f921\"]],\"sequentialminus\":[[0.0,\"#0d0887\"],[0.1111111111111111,\"#46039f\"],[0.2222222222222222,\"#7201a8\"],[0.3333333333333333,\"#9c179e\"],[0.4444444444444444,\"#bd3786\"],[0.5555555555555556,\"#d8576b\"],[0.6666666666666666,\"#ed7953\"],[0.7777777777777778,\"#fb9f3a\"],[0.8888888888888888,\"#fdca26\"],[1.0,\"#f0f921\"]]},\"colorway\":[\"#636efa\",\"#EF553B\",\"#00cc96\",\"#ab63fa\",\"#FFA15A\",\"#19d3f3\",\"#FF6692\",\"#B6E880\",\"#FF97FF\",\"#FECB52\"],\"font\":{\"color\":\"#f2f5fa\"},\"geo\":{\"bgcolor\":\"rgb(17,17,17)\",\"lakecolor\":\"rgb(17,17,17)\",\"landcolor\":\"rgb(17,17,17)\",\"showlakes\":true,\"showland\":true,\"subunitcolor\":\"#506784\"},\"hoverlabel\":{\"align\":\"left\"},\"hovermode\":\"closest\",\"mapbox\":{\"style\":\"dark\"},\"paper_bgcolor\":\"rgb(17,17,17)\",\"plot_bgcolor\":\"rgb(17,17,17)\",\"polar\":{\"angularaxis\":{\"gridcolor\":\"#506784\",\"linecolor\":\"#506784\",\"ticks\":\"\"},\"bgcolor\":\"rgb(17,17,17)\",\"radialaxis\":{\"gridcolor\":\"#506784\",\"linecolor\":\"#506784\",\"ticks\":\"\"}},\"scene\":{\"xaxis\":{\"backgroundcolor\":\"rgb(17,17,17)\",\"gridcolor\":\"#506784\",\"gridwidth\":2,\"linecolor\":\"#506784\",\"showbackground\":true,\"ticks\":\"\",\"zerolinecolor\":\"#C8D4E3\"},\"yaxis\":{\"backgroundcolor\":\"rgb(17,17,17)\",\"gridcolor\":\"#506784\",\"gridwidth\":2,\"linecolor\":\"#506784\",\"showbackground\":true,\"ticks\":\"\",\"zerolinecolor\":\"#C8D4E3\"},\"zaxis\":{\"backgroundcolor\":\"rgb(17,17,17)\",\"gridcolor\":\"#506784\",\"gridwidth\":2,\"linecolor\":\"#506784\",\"showbackground\":true,\"ticks\":\"\",\"zerolinecolor\":\"#C8D4E3\"}},\"shapedefaults\":{\"line\":{\"color\":\"#f2f5fa\"}},\"sliderdefaults\":{\"bgcolor\":\"#C8D4E3\",\"bordercolor\":\"rgb(17,17,17)\",\"borderwidth\":1,\"tickwidth\":0},\"ternary\":{\"aaxis\":{\"gridcolor\":\"#506784\",\"linecolor\":\"#506784\",\"ticks\":\"\"},\"baxis\":{\"gridcolor\":\"#506784\",\"linecolor\":\"#506784\",\"ticks\":\"\"},\"bgcolor\":\"rgb(17,17,17)\",\"caxis\":{\"gridcolor\":\"#506784\",\"linecolor\":\"#506784\",\"ticks\":\"\"}},\"title\":{\"x\":0.05},\"updatemenudefaults\":{\"bgcolor\":\"#506784\",\"borderwidth\":0},\"xaxis\":{\"automargin\":true,\"gridcolor\":\"#283442\",\"linecolor\":\"#506784\",\"ticks\":\"\",\"title\":{\"standoff\":15},\"zerolinecolor\":\"#283442\",\"zerolinewidth\":2},\"yaxis\":{\"automargin\":true,\"gridcolor\":\"#283442\",\"linecolor\":\"#506784\",\"ticks\":\"\",\"title\":{\"standoff\":15},\"zerolinecolor\":\"#283442\",\"zerolinewidth\":2}}},\"title\":{\"font\":{\"color\":\"#4D5663\"}},\"xaxis\":{\"gridcolor\":\"#E1E5ED\",\"showgrid\":true,\"tickfont\":{\"color\":\"#4D5663\"},\"title\":{\"font\":{\"color\":\"#4D5663\"},\"text\":\"\"},\"zerolinecolor\":\"#E1E5ED\"},\"yaxis\":{\"domain\":[0.3,1],\"gridcolor\":\"#E1E5ED\",\"showgrid\":true,\"tickfont\":{\"color\":\"#4D5663\"},\"title\":{\"font\":{\"color\":\"#4D5663\"},\"text\":\"\"},\"zerolinecolor\":\"#E1E5ED\"},\"yaxis2\":{\"domain\":[0,0.25],\"gridcolor\":\"#E1E5ED\",\"showgrid\":true,\"tickfont\":{\"color\":\"#4D5663\"},\"title\":{\"font\":{\"color\":\"#4D5663\"},\"text\":\"Spread\"},\"zerolinecolor\":\"#E1E5ED\"},\"xaxis2\":{\"anchor\":\"y2\",\"gridcolor\":\"#E1E5ED\",\"showgrid\":true,\"showticklabels\":false,\"tickfont\":{\"color\":\"#4D5663\"},\"title\":{\"font\":{\"color\":\"#4D5663\"},\"text\":\"\"},\"zerolinecolor\":\"#E1E5ED\"}},                        {\"showLink\": true, \"linkText\": \"Export to plot.ly\", \"plotlyServerURL\": \"https://plot.ly\", \"responsive\": true}                    ).then(function(){\n                            \nvar gd = document.getElementById('cd2ff741-1a4b-4af0-86f1-eb23ab10acda');\nvar x = new MutationObserver(function (mutations, observer) {{\n        var display = window.getComputedStyle(gd).display;\n        if (!display || display === 'none') {{\n            console.log([gd, 'removed!']);\n            Plotly.purge(gd);\n            observer.disconnect();\n        }}\n}});\n\n// Listen for the removal of the full notebook cells\nvar notebookContainer = gd.closest('#notebook-container');\nif (notebookContainer) {{\n    x.observe(notebookContainer, {childList: true});\n}}\n\n// Listen for the clearing of the current output cell\nvar outputEl = gd.closest('.output');\nif (outputEl) {{\n    x.observe(outputEl, {childList: true});\n}}\n\n                        })                };                });            </script>        </div>"
     },
     "metadata": {},
     "output_type": "display_data"
    }
   ],
   "source": [
    "df[['A', 'C']].iplot(kind='spread')"
   ],
   "metadata": {
    "collapsed": false,
    "pycharm": {
     "name": "#%%\n"
    }
   }
  },
  {
   "cell_type": "code",
   "execution_count": null,
   "outputs": [],
   "source": [
    "df.iplot(kind='bubble', x='A', y='B', size='C')"
   ],
   "metadata": {
    "collapsed": false,
    "pycharm": {
     "name": "#%%\n",
     "is_executing": true
    }
   }
  },
  {
   "cell_type": "code",
   "execution_count": 32,
   "outputs": [
    {
     "data": {
      "application/vnd.plotly.v1+json": {
       "data": [
        {
         "histfunc": "count",
         "histnorm": "",
         "marker": {
          "color": "rgba(255, 153, 51, 1.0)",
          "line": {
           "color": "#4D5663",
           "width": 1.3
          }
         },
         "name": "A",
         "nbinsx": 10,
         "opacity": 0.8,
         "orientation": "v",
         "x": [
          0.14822082851313306,
          -0.34608891272282194,
          0.24901271287272922,
          0.4240644884392381,
          1.0440983662883718,
          -1.276609077470786,
          0.7173135837709251,
          0.1724501564227296,
          -1.1216704493486236,
          0.781576014372293,
          1.1620631939397135,
          0.4150420570889104,
          -1.5521396830291718,
          -1.3169847130470722,
          -0.2781776254151489,
          0.06309633174302318,
          0.556436849059671,
          0.42210247531905687,
          -0.6290252194921633,
          2.0482652926239022,
          0.0780057701894443,
          -1.0368652381136363,
          -1.2541662496048762,
          1.3641269677974222,
          -0.5815112531984108,
          1.6930307786117214,
          -0.4427147377234606,
          -0.7445688117897638,
          -0.20096265500627905,
          -0.5983181907981495,
          -0.3337980932863787,
          0.6955202873612363,
          0.8211640518761578,
          0.058440132841781366,
          -0.9974922958576941,
          2.4395074569855955,
          0.3575072897242947,
          1.9390462165207785,
          0.7312082349367491,
          1.3447152116928895,
          0.444713249935464,
          -1.169786449791424,
          1.0023170061399884,
          -1.1243268576932697,
          1.4503665582180947,
          -0.2900040053277371,
          -0.5088719735190952,
          1.2334075477037256,
          0.22499907847027323,
          -0.024049951245375886,
          -0.8758256834084206,
          -0.3420189487010926,
          -0.8434583722408066,
          0.9204550472988404,
          0.30177024477047126,
          -0.377492562579996,
          -1.2884965453566963,
          0.7746009127096465,
          -1.64245210047636,
          0.8542126775410289,
          -1.3735030353907403,
          0.8781625056604911,
          -0.5396336594025676,
          -1.240198135750007,
          -0.09794950347543442,
          -1.312279745338373,
          0.17805532615954506,
          0.4299075147494006,
          -1.1404548328899988,
          -0.12310121442137532,
          0.4479245793802654,
          0.4070954259101387,
          0.16963828515414067,
          0.1973157313110605,
          0.5324630926125037,
          0.21260533811136523,
          0.12716194356615354,
          1.2611059982970452,
          -0.6971439837941964,
          -1.4514082154439494,
          0.6677974863476068,
          0.5997598573702173,
          0.2808773015398909,
          -1.0440558332737448,
          1.4802503737188173,
          0.05153994766676817,
          0.7364419340533024,
          -0.22705203539660515,
          -0.6021806468835678,
          0.4846678743214728,
          0.4093408586133741,
          -0.013933365361420797,
          -0.3141274672417357,
          0.7403120144688332,
          0.2110029004515611,
          -0.33877135624166815,
          1.6276636601277281,
          1.3798040926121122,
          -0.4122807594505736,
          -1.4787853580946055
         ],
         "xaxis": "x",
         "yaxis": "y",
         "type": "histogram"
        },
        {
         "line": {
          "color": "rgba(128, 128, 128, 1.0)",
          "dash": "solid",
          "shape": "linear",
          "width": 1.3
         },
         "marker": {
          "size": 2,
          "symbol": "circle"
         },
         "mode": "markers",
         "name": "A",
         "text": "",
         "x": [
          0.09335618225132572,
          0.6352634109513319,
          0.41907936288113773,
          -0.22798076945126475,
          -0.4979082166152658,
          0.03694743289446904,
          -0.37499194262987345,
          -1.4320569215939702,
          -0.2362651597312885,
          -0.18580302242834376,
          -2.170568749583378,
          -0.2527090527912323,
          -0.3177640387438962,
          1.3882022876173679,
          0.5087337692119102,
          1.7927682536553873,
          1.2236875377203562,
          0.21001523755733584,
          -0.7705541428181553,
          -0.43484129193107846,
          -1.4119778801694032,
          0.9229043979660734,
          -0.9299146017445847,
          0.6939271421218565,
          -0.27618229521632587,
          2.793021145864615,
          1.2992340751988656,
          -1.555370384056118,
          0.9211366472786398,
          0.23246834371802508,
          -1.4410620003372667,
          -1.1594196104741066,
          -0.7549479395256614,
          0.5320441673034443,
          -1.302371037353287,
          0.584221182953409,
          -0.5033363547574853,
          0.6400333546853904,
          0.5184263100005203,
          -0.6092283231484559,
          -0.8908992929710426,
          -1.9029428961269146,
          -0.18158043368950857,
          0.5008460201718647,
          -0.1809839430908216,
          0.7513366197730661,
          1.922128688864836,
          0.27485200154688366,
          -1.3545615921278709,
          -1.2563620191833995,
          -0.9748758879945009,
          -1.9347921316496997,
          1.5480818687161126,
          0.12803884189053585,
          0.6578478863662082,
          1.2550663929317016,
          -0.15789460063418348,
          0.70624349330054,
          2.110389847005232,
          -0.8613836802255759,
          2.430361827827879,
          -1.1822130719974753,
          0.7822023619471686,
          -0.035320864702165104,
          0.18972620513775132,
          0.7294931706303271,
          -0.03774964034918003,
          1.8175022537610461,
          0.6367475715019699,
          -1.29353184816196,
          0.13556306215106625,
          -1.1271960376428591,
          -1.6224500213091382,
          -0.2626706502000504,
          -1.0563994576913762,
          0.14360288063488147,
          -0.4303216252174318,
          -1.135237282678753,
          0.3914594104893218,
          1.2882790913971087,
          -0.8583955336919064,
          -0.5164129539465653,
          -0.9847788181104075,
          -0.5640171075998446,
          1.117732906799216,
          -0.672617658730878,
          0.47756166289699004,
          -1.3525120817432912,
          -1.015732220293894,
          -0.5234140283791064,
          -1.2756075837861574,
          -0.4061080448964347,
          -0.545509458282861,
          -0.8687754951278084,
          0.19169077957013955,
          -0.960008089175775,
          1.2222908778070325,
          0.1644915055542513,
          0.9533726745254081,
          -0.5249693115821974
         ],
         "xaxis": "x2",
         "y": [
          0.14822082851313306,
          -0.34608891272282194,
          0.24901271287272922,
          0.4240644884392381,
          1.0440983662883718,
          -1.276609077470786,
          0.7173135837709251,
          0.1724501564227296,
          -1.1216704493486236,
          0.781576014372293,
          1.1620631939397135,
          0.4150420570889104,
          -1.5521396830291718,
          -1.3169847130470722,
          -0.2781776254151489,
          0.06309633174302318,
          0.556436849059671,
          0.42210247531905687,
          -0.6290252194921633,
          2.0482652926239022,
          0.0780057701894443,
          -1.0368652381136363,
          -1.2541662496048762,
          1.3641269677974222,
          -0.5815112531984108,
          1.6930307786117214,
          -0.4427147377234606,
          -0.7445688117897638,
          -0.20096265500627905,
          -0.5983181907981495,
          -0.3337980932863787,
          0.6955202873612363,
          0.8211640518761578,
          0.058440132841781366,
          -0.9974922958576941,
          2.4395074569855955,
          0.3575072897242947,
          1.9390462165207785,
          0.7312082349367491,
          1.3447152116928895,
          0.444713249935464,
          -1.169786449791424,
          1.0023170061399884,
          -1.1243268576932697,
          1.4503665582180947,
          -0.2900040053277371,
          -0.5088719735190952,
          1.2334075477037256,
          0.22499907847027323,
          -0.024049951245375886,
          -0.8758256834084206,
          -0.3420189487010926,
          -0.8434583722408066,
          0.9204550472988404,
          0.30177024477047126,
          -0.377492562579996,
          -1.2884965453566963,
          0.7746009127096465,
          -1.64245210047636,
          0.8542126775410289,
          -1.3735030353907403,
          0.8781625056604911,
          -0.5396336594025676,
          -1.240198135750007,
          -0.09794950347543442,
          -1.312279745338373,
          0.17805532615954506,
          0.4299075147494006,
          -1.1404548328899988,
          -0.12310121442137532,
          0.4479245793802654,
          0.4070954259101387,
          0.16963828515414067,
          0.1973157313110605,
          0.5324630926125037,
          0.21260533811136523,
          0.12716194356615354,
          1.2611059982970452,
          -0.6971439837941964,
          -1.4514082154439494,
          0.6677974863476068,
          0.5997598573702173,
          0.2808773015398909,
          -1.0440558332737448,
          1.4802503737188173,
          0.05153994766676817,
          0.7364419340533024,
          -0.22705203539660515,
          -0.6021806468835678,
          0.4846678743214728,
          0.4093408586133741,
          -0.013933365361420797,
          -0.3141274672417357,
          0.7403120144688332,
          0.2110029004515611,
          -0.33877135624166815,
          1.6276636601277281,
          1.3798040926121122,
          -0.4122807594505736,
          -1.4787853580946055
         ],
         "yaxis": "y2",
         "type": "scatter"
        },
        {
         "line": {
          "color": "rgba(128, 128, 128, 1.0)",
          "dash": "solid",
          "shape": "linear",
          "width": 1.3
         },
         "marker": {
          "size": 2,
          "symbol": "circle"
         },
         "mode": "markers",
         "name": "A",
         "text": "",
         "x": [
          -1.6953689677756643,
          1.8194720346242286,
          -0.6831311730543547,
          0.5781253867149284,
          1.6716821802956356,
          0.5213057287780627,
          1.4582252043915573,
          0.10514172777912444,
          0.5236167417267704,
          -0.03565465227963288,
          -0.020885680628682363,
          1.200145550200681,
          -0.9846904469215673,
          0.10950711263964928,
          1.0445853242309007,
          0.27529157697533474,
          0.5983208824340993,
          -0.3681703126977821,
          0.5264459784317566,
          -1.8901304008258482,
          0.41053724058531343,
          2.149413721393953,
          -0.14829351925723355,
          0.28481667406600414,
          1.2966105484939134,
          1.7764474949850584,
          -0.8658047995647816,
          0.5308213817143275,
          -1.120788356364344,
          1.9454034638537745,
          1.0587558084959137,
          -0.7674713924003651,
          -0.6267594064371546,
          -0.04346827274230348,
          -1.0422634069846766,
          0.09969074130040292,
          0.39073622722129364,
          -0.5928957144835026,
          -0.9641123834614155,
          -0.2677946868200473,
          -0.7777178807479489,
          0.7158199246051675,
          0.8143290570752546,
          -0.20654314807608365,
          -0.6537455646422298,
          0.22089986844224546,
          -0.2225633079250923,
          -0.4534145079716638,
          0.5861747969856174,
          -0.8359347930593233,
          -1.1263047126460155,
          -0.8262738830817886,
          -1.7113495932158238,
          0.08988046821639137,
          0.17889806708828568,
          0.6012322374099268,
          -2.292343144986237,
          -0.37576863802106686,
          -0.5461466161962525,
          -1.1285084981517282,
          0.25345271040546635,
          -0.7382027317539311,
          -0.4164404058879414,
          0.34892979575774963,
          -0.5162902086952994,
          0.10384774185504225,
          0.04891738989556161,
          -0.19568143903196195,
          -0.29457643181972093,
          1.68215698400926,
          -0.991347167285361,
          0.10168122028707241,
          0.7650140058185785,
          -0.38206239630257804,
          0.5662355891522727,
          0.4099861289131352,
          1.5423675075616017,
          -0.2184266039919825,
          -0.995442082795395,
          0.4697414139371775,
          0.8434702620443851,
          0.21731369535359624,
          -1.4495647123157822,
          1.2389903416842123,
          0.6192037649559717,
          -0.29962795697765315,
          0.12043705971204607,
          0.20746825573080724,
          -0.6924691888855892,
          -0.5135158353185701,
          1.7586618431631418,
          0.11614058265889382,
          1.2664850969917103,
          -0.4829830914711651,
          -0.7037313752472822,
          -0.7411842833636715,
          -0.3546797425798537,
          0.575255402927518,
          1.8261781483347446,
          0.40500211093860605
         ],
         "xaxis": "x3",
         "y": [
          0.14822082851313306,
          -0.34608891272282194,
          0.24901271287272922,
          0.4240644884392381,
          1.0440983662883718,
          -1.276609077470786,
          0.7173135837709251,
          0.1724501564227296,
          -1.1216704493486236,
          0.781576014372293,
          1.1620631939397135,
          0.4150420570889104,
          -1.5521396830291718,
          -1.3169847130470722,
          -0.2781776254151489,
          0.06309633174302318,
          0.556436849059671,
          0.42210247531905687,
          -0.6290252194921633,
          2.0482652926239022,
          0.0780057701894443,
          -1.0368652381136363,
          -1.2541662496048762,
          1.3641269677974222,
          -0.5815112531984108,
          1.6930307786117214,
          -0.4427147377234606,
          -0.7445688117897638,
          -0.20096265500627905,
          -0.5983181907981495,
          -0.3337980932863787,
          0.6955202873612363,
          0.8211640518761578,
          0.058440132841781366,
          -0.9974922958576941,
          2.4395074569855955,
          0.3575072897242947,
          1.9390462165207785,
          0.7312082349367491,
          1.3447152116928895,
          0.444713249935464,
          -1.169786449791424,
          1.0023170061399884,
          -1.1243268576932697,
          1.4503665582180947,
          -0.2900040053277371,
          -0.5088719735190952,
          1.2334075477037256,
          0.22499907847027323,
          -0.024049951245375886,
          -0.8758256834084206,
          -0.3420189487010926,
          -0.8434583722408066,
          0.9204550472988404,
          0.30177024477047126,
          -0.377492562579996,
          -1.2884965453566963,
          0.7746009127096465,
          -1.64245210047636,
          0.8542126775410289,
          -1.3735030353907403,
          0.8781625056604911,
          -0.5396336594025676,
          -1.240198135750007,
          -0.09794950347543442,
          -1.312279745338373,
          0.17805532615954506,
          0.4299075147494006,
          -1.1404548328899988,
          -0.12310121442137532,
          0.4479245793802654,
          0.4070954259101387,
          0.16963828515414067,
          0.1973157313110605,
          0.5324630926125037,
          0.21260533811136523,
          0.12716194356615354,
          1.2611059982970452,
          -0.6971439837941964,
          -1.4514082154439494,
          0.6677974863476068,
          0.5997598573702173,
          0.2808773015398909,
          -1.0440558332737448,
          1.4802503737188173,
          0.05153994766676817,
          0.7364419340533024,
          -0.22705203539660515,
          -0.6021806468835678,
          0.4846678743214728,
          0.4093408586133741,
          -0.013933365361420797,
          -0.3141274672417357,
          0.7403120144688332,
          0.2110029004515611,
          -0.33877135624166815,
          1.6276636601277281,
          1.3798040926121122,
          -0.4122807594505736,
          -1.4787853580946055
         ],
         "yaxis": "y3",
         "type": "scatter"
        },
        {
         "line": {
          "color": "rgba(128, 128, 128, 1.0)",
          "dash": "solid",
          "shape": "linear",
          "width": 1.3
         },
         "marker": {
          "size": 2,
          "symbol": "circle"
         },
         "mode": "markers",
         "name": "A",
         "text": "",
         "x": [
          -0.16933702153120564,
          0.015463130330103832,
          1.1675431867274206,
          0.19510235270609524,
          0.023244950986804076,
          -0.37084609411017183,
          0.6548316799850522,
          -0.5189778691535102,
          0.2342070769750843,
          -1.3154796961121293,
          0.07527562161836437,
          -1.3697340353562337,
          -0.06697804745639586,
          1.867587665665157,
          -0.8791349758077466,
          -0.13386295401003215,
          1.1106756300478267,
          0.3273515579371792,
          0.8318787857317058,
          -1.4787163202440299,
          0.4333955884638258,
          -0.0770530734167716,
          1.526949947941122,
          -2.6779294588249183,
          0.19503577800948696,
          -0.5008917242815318,
          -1.2531748428674667,
          -1.1186659050017485,
          -1.2209454510933775,
          0.7104124836933191,
          -0.8391663887848211,
          -1.9153402613109618,
          0.17494802244639612,
          -2.106112580988103,
          0.0639331682961319,
          0.13762601799049493,
          -1.2848517178910825,
          0.35066226007728657,
          -0.6855730595214085,
          -1.1029537437208903,
          1.1712444443711851,
          0.7015001766568368,
          -0.807228931851719,
          0.793150685361422,
          0.05898327588761141,
          -0.04896712168972895,
          0.6167559996629923,
          0.7742544408088669,
          -0.3631227773459395,
          -0.4582538474457079,
          0.6660470856420727,
          1.9672804673117001,
          0.6173397582651268,
          1.622227103562318,
          0.8209377515075237,
          0.14434093083396204,
          -0.5949426378441042,
          -1.3223803511042727,
          -0.42172174268526674,
          -0.08188115397897601,
          -0.36198727855559226,
          -0.5680999366641512,
          -0.45572150400210526,
          0.34972678193727913,
          -0.0976013864021273,
          0.6797156066515974,
          0.7468042045420421,
          1.1682632978663434,
          1.959349756903216,
          1.5395954090028838,
          -0.2499787291211412,
          0.4225481189522686,
          -0.6409770800538417,
          -2.114163622529517,
          -0.21237873104875202,
          -0.07289603503302809,
          0.4600098844886235,
          -0.7872652085433337,
          -0.6159552178726073,
          -0.7685467376113275,
          1.442924207863347,
          0.07116527971277739,
          -0.17232643285380164,
          -0.5198406428874589,
          -0.7427047695555723,
          0.6738139606718887,
          -1.577760071005201,
          -0.36124234958398077,
          0.3778100226106513,
          0.9786286951256322,
          1.8715841745997923,
          0.7703852378780824,
          0.39024405309669197,
          2.092360580059444,
          -0.5922001644371345,
          -1.1485583853852506,
          -0.21989667043942174,
          -1.7498720338018705,
          0.6132968045817001,
          0.28378004178725824
         ],
         "xaxis": "x4",
         "y": [
          0.14822082851313306,
          -0.34608891272282194,
          0.24901271287272922,
          0.4240644884392381,
          1.0440983662883718,
          -1.276609077470786,
          0.7173135837709251,
          0.1724501564227296,
          -1.1216704493486236,
          0.781576014372293,
          1.1620631939397135,
          0.4150420570889104,
          -1.5521396830291718,
          -1.3169847130470722,
          -0.2781776254151489,
          0.06309633174302318,
          0.556436849059671,
          0.42210247531905687,
          -0.6290252194921633,
          2.0482652926239022,
          0.0780057701894443,
          -1.0368652381136363,
          -1.2541662496048762,
          1.3641269677974222,
          -0.5815112531984108,
          1.6930307786117214,
          -0.4427147377234606,
          -0.7445688117897638,
          -0.20096265500627905,
          -0.5983181907981495,
          -0.3337980932863787,
          0.6955202873612363,
          0.8211640518761578,
          0.058440132841781366,
          -0.9974922958576941,
          2.4395074569855955,
          0.3575072897242947,
          1.9390462165207785,
          0.7312082349367491,
          1.3447152116928895,
          0.444713249935464,
          -1.169786449791424,
          1.0023170061399884,
          -1.1243268576932697,
          1.4503665582180947,
          -0.2900040053277371,
          -0.5088719735190952,
          1.2334075477037256,
          0.22499907847027323,
          -0.024049951245375886,
          -0.8758256834084206,
          -0.3420189487010926,
          -0.8434583722408066,
          0.9204550472988404,
          0.30177024477047126,
          -0.377492562579996,
          -1.2884965453566963,
          0.7746009127096465,
          -1.64245210047636,
          0.8542126775410289,
          -1.3735030353907403,
          0.8781625056604911,
          -0.5396336594025676,
          -1.240198135750007,
          -0.09794950347543442,
          -1.312279745338373,
          0.17805532615954506,
          0.4299075147494006,
          -1.1404548328899988,
          -0.12310121442137532,
          0.4479245793802654,
          0.4070954259101387,
          0.16963828515414067,
          0.1973157313110605,
          0.5324630926125037,
          0.21260533811136523,
          0.12716194356615354,
          1.2611059982970452,
          -0.6971439837941964,
          -1.4514082154439494,
          0.6677974863476068,
          0.5997598573702173,
          0.2808773015398909,
          -1.0440558332737448,
          1.4802503737188173,
          0.05153994766676817,
          0.7364419340533024,
          -0.22705203539660515,
          -0.6021806468835678,
          0.4846678743214728,
          0.4093408586133741,
          -0.013933365361420797,
          -0.3141274672417357,
          0.7403120144688332,
          0.2110029004515611,
          -0.33877135624166815,
          1.6276636601277281,
          1.3798040926121122,
          -0.4122807594505736,
          -1.4787853580946055
         ],
         "yaxis": "y4",
         "type": "scatter"
        },
        {
         "line": {
          "color": "rgba(128, 128, 128, 1.0)",
          "dash": "solid",
          "shape": "linear",
          "width": 1.3
         },
         "marker": {
          "size": 2,
          "symbol": "circle"
         },
         "mode": "markers",
         "name": "B",
         "text": "",
         "x": [
          0.14822082851313306,
          -0.34608891272282194,
          0.24901271287272922,
          0.4240644884392381,
          1.0440983662883718,
          -1.276609077470786,
          0.7173135837709251,
          0.1724501564227296,
          -1.1216704493486236,
          0.781576014372293,
          1.1620631939397135,
          0.4150420570889104,
          -1.5521396830291718,
          -1.3169847130470722,
          -0.2781776254151489,
          0.06309633174302318,
          0.556436849059671,
          0.42210247531905687,
          -0.6290252194921633,
          2.0482652926239022,
          0.0780057701894443,
          -1.0368652381136363,
          -1.2541662496048762,
          1.3641269677974222,
          -0.5815112531984108,
          1.6930307786117214,
          -0.4427147377234606,
          -0.7445688117897638,
          -0.20096265500627905,
          -0.5983181907981495,
          -0.3337980932863787,
          0.6955202873612363,
          0.8211640518761578,
          0.058440132841781366,
          -0.9974922958576941,
          2.4395074569855955,
          0.3575072897242947,
          1.9390462165207785,
          0.7312082349367491,
          1.3447152116928895,
          0.444713249935464,
          -1.169786449791424,
          1.0023170061399884,
          -1.1243268576932697,
          1.4503665582180947,
          -0.2900040053277371,
          -0.5088719735190952,
          1.2334075477037256,
          0.22499907847027323,
          -0.024049951245375886,
          -0.8758256834084206,
          -0.3420189487010926,
          -0.8434583722408066,
          0.9204550472988404,
          0.30177024477047126,
          -0.377492562579996,
          -1.2884965453566963,
          0.7746009127096465,
          -1.64245210047636,
          0.8542126775410289,
          -1.3735030353907403,
          0.8781625056604911,
          -0.5396336594025676,
          -1.240198135750007,
          -0.09794950347543442,
          -1.312279745338373,
          0.17805532615954506,
          0.4299075147494006,
          -1.1404548328899988,
          -0.12310121442137532,
          0.4479245793802654,
          0.4070954259101387,
          0.16963828515414067,
          0.1973157313110605,
          0.5324630926125037,
          0.21260533811136523,
          0.12716194356615354,
          1.2611059982970452,
          -0.6971439837941964,
          -1.4514082154439494,
          0.6677974863476068,
          0.5997598573702173,
          0.2808773015398909,
          -1.0440558332737448,
          1.4802503737188173,
          0.05153994766676817,
          0.7364419340533024,
          -0.22705203539660515,
          -0.6021806468835678,
          0.4846678743214728,
          0.4093408586133741,
          -0.013933365361420797,
          -0.3141274672417357,
          0.7403120144688332,
          0.2110029004515611,
          -0.33877135624166815,
          1.6276636601277281,
          1.3798040926121122,
          -0.4122807594505736,
          -1.4787853580946055
         ],
         "xaxis": "x5",
         "y": [
          0.09335618225132572,
          0.6352634109513319,
          0.41907936288113773,
          -0.22798076945126475,
          -0.4979082166152658,
          0.03694743289446904,
          -0.37499194262987345,
          -1.4320569215939702,
          -0.2362651597312885,
          -0.18580302242834376,
          -2.170568749583378,
          -0.2527090527912323,
          -0.3177640387438962,
          1.3882022876173679,
          0.5087337692119102,
          1.7927682536553873,
          1.2236875377203562,
          0.21001523755733584,
          -0.7705541428181553,
          -0.43484129193107846,
          -1.4119778801694032,
          0.9229043979660734,
          -0.9299146017445847,
          0.6939271421218565,
          -0.27618229521632587,
          2.793021145864615,
          1.2992340751988656,
          -1.555370384056118,
          0.9211366472786398,
          0.23246834371802508,
          -1.4410620003372667,
          -1.1594196104741066,
          -0.7549479395256614,
          0.5320441673034443,
          -1.302371037353287,
          0.584221182953409,
          -0.5033363547574853,
          0.6400333546853904,
          0.5184263100005203,
          -0.6092283231484559,
          -0.8908992929710426,
          -1.9029428961269146,
          -0.18158043368950857,
          0.5008460201718647,
          -0.1809839430908216,
          0.7513366197730661,
          1.922128688864836,
          0.27485200154688366,
          -1.3545615921278709,
          -1.2563620191833995,
          -0.9748758879945009,
          -1.9347921316496997,
          1.5480818687161126,
          0.12803884189053585,
          0.6578478863662082,
          1.2550663929317016,
          -0.15789460063418348,
          0.70624349330054,
          2.110389847005232,
          -0.8613836802255759,
          2.430361827827879,
          -1.1822130719974753,
          0.7822023619471686,
          -0.035320864702165104,
          0.18972620513775132,
          0.7294931706303271,
          -0.03774964034918003,
          1.8175022537610461,
          0.6367475715019699,
          -1.29353184816196,
          0.13556306215106625,
          -1.1271960376428591,
          -1.6224500213091382,
          -0.2626706502000504,
          -1.0563994576913762,
          0.14360288063488147,
          -0.4303216252174318,
          -1.135237282678753,
          0.3914594104893218,
          1.2882790913971087,
          -0.8583955336919064,
          -0.5164129539465653,
          -0.9847788181104075,
          -0.5640171075998446,
          1.117732906799216,
          -0.672617658730878,
          0.47756166289699004,
          -1.3525120817432912,
          -1.015732220293894,
          -0.5234140283791064,
          -1.2756075837861574,
          -0.4061080448964347,
          -0.545509458282861,
          -0.8687754951278084,
          0.19169077957013955,
          -0.960008089175775,
          1.2222908778070325,
          0.1644915055542513,
          0.9533726745254081,
          -0.5249693115821974
         ],
         "yaxis": "y5",
         "type": "scatter"
        },
        {
         "histfunc": "count",
         "histnorm": "",
         "marker": {
          "color": "rgba(55, 128, 191, 1.0)",
          "line": {
           "color": "#4D5663",
           "width": 1.3
          }
         },
         "name": "B",
         "nbinsx": 10,
         "opacity": 0.8,
         "orientation": "v",
         "x": [
          0.09335618225132572,
          0.6352634109513319,
          0.41907936288113773,
          -0.22798076945126475,
          -0.4979082166152658,
          0.03694743289446904,
          -0.37499194262987345,
          -1.4320569215939702,
          -0.2362651597312885,
          -0.18580302242834376,
          -2.170568749583378,
          -0.2527090527912323,
          -0.3177640387438962,
          1.3882022876173679,
          0.5087337692119102,
          1.7927682536553873,
          1.2236875377203562,
          0.21001523755733584,
          -0.7705541428181553,
          -0.43484129193107846,
          -1.4119778801694032,
          0.9229043979660734,
          -0.9299146017445847,
          0.6939271421218565,
          -0.27618229521632587,
          2.793021145864615,
          1.2992340751988656,
          -1.555370384056118,
          0.9211366472786398,
          0.23246834371802508,
          -1.4410620003372667,
          -1.1594196104741066,
          -0.7549479395256614,
          0.5320441673034443,
          -1.302371037353287,
          0.584221182953409,
          -0.5033363547574853,
          0.6400333546853904,
          0.5184263100005203,
          -0.6092283231484559,
          -0.8908992929710426,
          -1.9029428961269146,
          -0.18158043368950857,
          0.5008460201718647,
          -0.1809839430908216,
          0.7513366197730661,
          1.922128688864836,
          0.27485200154688366,
          -1.3545615921278709,
          -1.2563620191833995,
          -0.9748758879945009,
          -1.9347921316496997,
          1.5480818687161126,
          0.12803884189053585,
          0.6578478863662082,
          1.2550663929317016,
          -0.15789460063418348,
          0.70624349330054,
          2.110389847005232,
          -0.8613836802255759,
          2.430361827827879,
          -1.1822130719974753,
          0.7822023619471686,
          -0.035320864702165104,
          0.18972620513775132,
          0.7294931706303271,
          -0.03774964034918003,
          1.8175022537610461,
          0.6367475715019699,
          -1.29353184816196,
          0.13556306215106625,
          -1.1271960376428591,
          -1.6224500213091382,
          -0.2626706502000504,
          -1.0563994576913762,
          0.14360288063488147,
          -0.4303216252174318,
          -1.135237282678753,
          0.3914594104893218,
          1.2882790913971087,
          -0.8583955336919064,
          -0.5164129539465653,
          -0.9847788181104075,
          -0.5640171075998446,
          1.117732906799216,
          -0.672617658730878,
          0.47756166289699004,
          -1.3525120817432912,
          -1.015732220293894,
          -0.5234140283791064,
          -1.2756075837861574,
          -0.4061080448964347,
          -0.545509458282861,
          -0.8687754951278084,
          0.19169077957013955,
          -0.960008089175775,
          1.2222908778070325,
          0.1644915055542513,
          0.9533726745254081,
          -0.5249693115821974
         ],
         "xaxis": "x6",
         "yaxis": "y6",
         "type": "histogram"
        },
        {
         "line": {
          "color": "rgba(128, 128, 128, 1.0)",
          "dash": "solid",
          "shape": "linear",
          "width": 1.3
         },
         "marker": {
          "size": 2,
          "symbol": "circle"
         },
         "mode": "markers",
         "name": "B",
         "text": "",
         "x": [
          -1.6953689677756643,
          1.8194720346242286,
          -0.6831311730543547,
          0.5781253867149284,
          1.6716821802956356,
          0.5213057287780627,
          1.4582252043915573,
          0.10514172777912444,
          0.5236167417267704,
          -0.03565465227963288,
          -0.020885680628682363,
          1.200145550200681,
          -0.9846904469215673,
          0.10950711263964928,
          1.0445853242309007,
          0.27529157697533474,
          0.5983208824340993,
          -0.3681703126977821,
          0.5264459784317566,
          -1.8901304008258482,
          0.41053724058531343,
          2.149413721393953,
          -0.14829351925723355,
          0.28481667406600414,
          1.2966105484939134,
          1.7764474949850584,
          -0.8658047995647816,
          0.5308213817143275,
          -1.120788356364344,
          1.9454034638537745,
          1.0587558084959137,
          -0.7674713924003651,
          -0.6267594064371546,
          -0.04346827274230348,
          -1.0422634069846766,
          0.09969074130040292,
          0.39073622722129364,
          -0.5928957144835026,
          -0.9641123834614155,
          -0.2677946868200473,
          -0.7777178807479489,
          0.7158199246051675,
          0.8143290570752546,
          -0.20654314807608365,
          -0.6537455646422298,
          0.22089986844224546,
          -0.2225633079250923,
          -0.4534145079716638,
          0.5861747969856174,
          -0.8359347930593233,
          -1.1263047126460155,
          -0.8262738830817886,
          -1.7113495932158238,
          0.08988046821639137,
          0.17889806708828568,
          0.6012322374099268,
          -2.292343144986237,
          -0.37576863802106686,
          -0.5461466161962525,
          -1.1285084981517282,
          0.25345271040546635,
          -0.7382027317539311,
          -0.4164404058879414,
          0.34892979575774963,
          -0.5162902086952994,
          0.10384774185504225,
          0.04891738989556161,
          -0.19568143903196195,
          -0.29457643181972093,
          1.68215698400926,
          -0.991347167285361,
          0.10168122028707241,
          0.7650140058185785,
          -0.38206239630257804,
          0.5662355891522727,
          0.4099861289131352,
          1.5423675075616017,
          -0.2184266039919825,
          -0.995442082795395,
          0.4697414139371775,
          0.8434702620443851,
          0.21731369535359624,
          -1.4495647123157822,
          1.2389903416842123,
          0.6192037649559717,
          -0.29962795697765315,
          0.12043705971204607,
          0.20746825573080724,
          -0.6924691888855892,
          -0.5135158353185701,
          1.7586618431631418,
          0.11614058265889382,
          1.2664850969917103,
          -0.4829830914711651,
          -0.7037313752472822,
          -0.7411842833636715,
          -0.3546797425798537,
          0.575255402927518,
          1.8261781483347446,
          0.40500211093860605
         ],
         "xaxis": "x7",
         "y": [
          0.09335618225132572,
          0.6352634109513319,
          0.41907936288113773,
          -0.22798076945126475,
          -0.4979082166152658,
          0.03694743289446904,
          -0.37499194262987345,
          -1.4320569215939702,
          -0.2362651597312885,
          -0.18580302242834376,
          -2.170568749583378,
          -0.2527090527912323,
          -0.3177640387438962,
          1.3882022876173679,
          0.5087337692119102,
          1.7927682536553873,
          1.2236875377203562,
          0.21001523755733584,
          -0.7705541428181553,
          -0.43484129193107846,
          -1.4119778801694032,
          0.9229043979660734,
          -0.9299146017445847,
          0.6939271421218565,
          -0.27618229521632587,
          2.793021145864615,
          1.2992340751988656,
          -1.555370384056118,
          0.9211366472786398,
          0.23246834371802508,
          -1.4410620003372667,
          -1.1594196104741066,
          -0.7549479395256614,
          0.5320441673034443,
          -1.302371037353287,
          0.584221182953409,
          -0.5033363547574853,
          0.6400333546853904,
          0.5184263100005203,
          -0.6092283231484559,
          -0.8908992929710426,
          -1.9029428961269146,
          -0.18158043368950857,
          0.5008460201718647,
          -0.1809839430908216,
          0.7513366197730661,
          1.922128688864836,
          0.27485200154688366,
          -1.3545615921278709,
          -1.2563620191833995,
          -0.9748758879945009,
          -1.9347921316496997,
          1.5480818687161126,
          0.12803884189053585,
          0.6578478863662082,
          1.2550663929317016,
          -0.15789460063418348,
          0.70624349330054,
          2.110389847005232,
          -0.8613836802255759,
          2.430361827827879,
          -1.1822130719974753,
          0.7822023619471686,
          -0.035320864702165104,
          0.18972620513775132,
          0.7294931706303271,
          -0.03774964034918003,
          1.8175022537610461,
          0.6367475715019699,
          -1.29353184816196,
          0.13556306215106625,
          -1.1271960376428591,
          -1.6224500213091382,
          -0.2626706502000504,
          -1.0563994576913762,
          0.14360288063488147,
          -0.4303216252174318,
          -1.135237282678753,
          0.3914594104893218,
          1.2882790913971087,
          -0.8583955336919064,
          -0.5164129539465653,
          -0.9847788181104075,
          -0.5640171075998446,
          1.117732906799216,
          -0.672617658730878,
          0.47756166289699004,
          -1.3525120817432912,
          -1.015732220293894,
          -0.5234140283791064,
          -1.2756075837861574,
          -0.4061080448964347,
          -0.545509458282861,
          -0.8687754951278084,
          0.19169077957013955,
          -0.960008089175775,
          1.2222908778070325,
          0.1644915055542513,
          0.9533726745254081,
          -0.5249693115821974
         ],
         "yaxis": "y7",
         "type": "scatter"
        },
        {
         "line": {
          "color": "rgba(128, 128, 128, 1.0)",
          "dash": "solid",
          "shape": "linear",
          "width": 1.3
         },
         "marker": {
          "size": 2,
          "symbol": "circle"
         },
         "mode": "markers",
         "name": "B",
         "text": "",
         "x": [
          -0.16933702153120564,
          0.015463130330103832,
          1.1675431867274206,
          0.19510235270609524,
          0.023244950986804076,
          -0.37084609411017183,
          0.6548316799850522,
          -0.5189778691535102,
          0.2342070769750843,
          -1.3154796961121293,
          0.07527562161836437,
          -1.3697340353562337,
          -0.06697804745639586,
          1.867587665665157,
          -0.8791349758077466,
          -0.13386295401003215,
          1.1106756300478267,
          0.3273515579371792,
          0.8318787857317058,
          -1.4787163202440299,
          0.4333955884638258,
          -0.0770530734167716,
          1.526949947941122,
          -2.6779294588249183,
          0.19503577800948696,
          -0.5008917242815318,
          -1.2531748428674667,
          -1.1186659050017485,
          -1.2209454510933775,
          0.7104124836933191,
          -0.8391663887848211,
          -1.9153402613109618,
          0.17494802244639612,
          -2.106112580988103,
          0.0639331682961319,
          0.13762601799049493,
          -1.2848517178910825,
          0.35066226007728657,
          -0.6855730595214085,
          -1.1029537437208903,
          1.1712444443711851,
          0.7015001766568368,
          -0.807228931851719,
          0.793150685361422,
          0.05898327588761141,
          -0.04896712168972895,
          0.6167559996629923,
          0.7742544408088669,
          -0.3631227773459395,
          -0.4582538474457079,
          0.6660470856420727,
          1.9672804673117001,
          0.6173397582651268,
          1.622227103562318,
          0.8209377515075237,
          0.14434093083396204,
          -0.5949426378441042,
          -1.3223803511042727,
          -0.42172174268526674,
          -0.08188115397897601,
          -0.36198727855559226,
          -0.5680999366641512,
          -0.45572150400210526,
          0.34972678193727913,
          -0.0976013864021273,
          0.6797156066515974,
          0.7468042045420421,
          1.1682632978663434,
          1.959349756903216,
          1.5395954090028838,
          -0.2499787291211412,
          0.4225481189522686,
          -0.6409770800538417,
          -2.114163622529517,
          -0.21237873104875202,
          -0.07289603503302809,
          0.4600098844886235,
          -0.7872652085433337,
          -0.6159552178726073,
          -0.7685467376113275,
          1.442924207863347,
          0.07116527971277739,
          -0.17232643285380164,
          -0.5198406428874589,
          -0.7427047695555723,
          0.6738139606718887,
          -1.577760071005201,
          -0.36124234958398077,
          0.3778100226106513,
          0.9786286951256322,
          1.8715841745997923,
          0.7703852378780824,
          0.39024405309669197,
          2.092360580059444,
          -0.5922001644371345,
          -1.1485583853852506,
          -0.21989667043942174,
          -1.7498720338018705,
          0.6132968045817001,
          0.28378004178725824
         ],
         "xaxis": "x8",
         "y": [
          0.09335618225132572,
          0.6352634109513319,
          0.41907936288113773,
          -0.22798076945126475,
          -0.4979082166152658,
          0.03694743289446904,
          -0.37499194262987345,
          -1.4320569215939702,
          -0.2362651597312885,
          -0.18580302242834376,
          -2.170568749583378,
          -0.2527090527912323,
          -0.3177640387438962,
          1.3882022876173679,
          0.5087337692119102,
          1.7927682536553873,
          1.2236875377203562,
          0.21001523755733584,
          -0.7705541428181553,
          -0.43484129193107846,
          -1.4119778801694032,
          0.9229043979660734,
          -0.9299146017445847,
          0.6939271421218565,
          -0.27618229521632587,
          2.793021145864615,
          1.2992340751988656,
          -1.555370384056118,
          0.9211366472786398,
          0.23246834371802508,
          -1.4410620003372667,
          -1.1594196104741066,
          -0.7549479395256614,
          0.5320441673034443,
          -1.302371037353287,
          0.584221182953409,
          -0.5033363547574853,
          0.6400333546853904,
          0.5184263100005203,
          -0.6092283231484559,
          -0.8908992929710426,
          -1.9029428961269146,
          -0.18158043368950857,
          0.5008460201718647,
          -0.1809839430908216,
          0.7513366197730661,
          1.922128688864836,
          0.27485200154688366,
          -1.3545615921278709,
          -1.2563620191833995,
          -0.9748758879945009,
          -1.9347921316496997,
          1.5480818687161126,
          0.12803884189053585,
          0.6578478863662082,
          1.2550663929317016,
          -0.15789460063418348,
          0.70624349330054,
          2.110389847005232,
          -0.8613836802255759,
          2.430361827827879,
          -1.1822130719974753,
          0.7822023619471686,
          -0.035320864702165104,
          0.18972620513775132,
          0.7294931706303271,
          -0.03774964034918003,
          1.8175022537610461,
          0.6367475715019699,
          -1.29353184816196,
          0.13556306215106625,
          -1.1271960376428591,
          -1.6224500213091382,
          -0.2626706502000504,
          -1.0563994576913762,
          0.14360288063488147,
          -0.4303216252174318,
          -1.135237282678753,
          0.3914594104893218,
          1.2882790913971087,
          -0.8583955336919064,
          -0.5164129539465653,
          -0.9847788181104075,
          -0.5640171075998446,
          1.117732906799216,
          -0.672617658730878,
          0.47756166289699004,
          -1.3525120817432912,
          -1.015732220293894,
          -0.5234140283791064,
          -1.2756075837861574,
          -0.4061080448964347,
          -0.545509458282861,
          -0.8687754951278084,
          0.19169077957013955,
          -0.960008089175775,
          1.2222908778070325,
          0.1644915055542513,
          0.9533726745254081,
          -0.5249693115821974
         ],
         "yaxis": "y8",
         "type": "scatter"
        },
        {
         "line": {
          "color": "rgba(128, 128, 128, 1.0)",
          "dash": "solid",
          "shape": "linear",
          "width": 1.3
         },
         "marker": {
          "size": 2,
          "symbol": "circle"
         },
         "mode": "markers",
         "name": "C",
         "text": "",
         "x": [
          0.14822082851313306,
          -0.34608891272282194,
          0.24901271287272922,
          0.4240644884392381,
          1.0440983662883718,
          -1.276609077470786,
          0.7173135837709251,
          0.1724501564227296,
          -1.1216704493486236,
          0.781576014372293,
          1.1620631939397135,
          0.4150420570889104,
          -1.5521396830291718,
          -1.3169847130470722,
          -0.2781776254151489,
          0.06309633174302318,
          0.556436849059671,
          0.42210247531905687,
          -0.6290252194921633,
          2.0482652926239022,
          0.0780057701894443,
          -1.0368652381136363,
          -1.2541662496048762,
          1.3641269677974222,
          -0.5815112531984108,
          1.6930307786117214,
          -0.4427147377234606,
          -0.7445688117897638,
          -0.20096265500627905,
          -0.5983181907981495,
          -0.3337980932863787,
          0.6955202873612363,
          0.8211640518761578,
          0.058440132841781366,
          -0.9974922958576941,
          2.4395074569855955,
          0.3575072897242947,
          1.9390462165207785,
          0.7312082349367491,
          1.3447152116928895,
          0.444713249935464,
          -1.169786449791424,
          1.0023170061399884,
          -1.1243268576932697,
          1.4503665582180947,
          -0.2900040053277371,
          -0.5088719735190952,
          1.2334075477037256,
          0.22499907847027323,
          -0.024049951245375886,
          -0.8758256834084206,
          -0.3420189487010926,
          -0.8434583722408066,
          0.9204550472988404,
          0.30177024477047126,
          -0.377492562579996,
          -1.2884965453566963,
          0.7746009127096465,
          -1.64245210047636,
          0.8542126775410289,
          -1.3735030353907403,
          0.8781625056604911,
          -0.5396336594025676,
          -1.240198135750007,
          -0.09794950347543442,
          -1.312279745338373,
          0.17805532615954506,
          0.4299075147494006,
          -1.1404548328899988,
          -0.12310121442137532,
          0.4479245793802654,
          0.4070954259101387,
          0.16963828515414067,
          0.1973157313110605,
          0.5324630926125037,
          0.21260533811136523,
          0.12716194356615354,
          1.2611059982970452,
          -0.6971439837941964,
          -1.4514082154439494,
          0.6677974863476068,
          0.5997598573702173,
          0.2808773015398909,
          -1.0440558332737448,
          1.4802503737188173,
          0.05153994766676817,
          0.7364419340533024,
          -0.22705203539660515,
          -0.6021806468835678,
          0.4846678743214728,
          0.4093408586133741,
          -0.013933365361420797,
          -0.3141274672417357,
          0.7403120144688332,
          0.2110029004515611,
          -0.33877135624166815,
          1.6276636601277281,
          1.3798040926121122,
          -0.4122807594505736,
          -1.4787853580946055
         ],
         "xaxis": "x9",
         "y": [
          -1.6953689677756643,
          1.8194720346242286,
          -0.6831311730543547,
          0.5781253867149284,
          1.6716821802956356,
          0.5213057287780627,
          1.4582252043915573,
          0.10514172777912444,
          0.5236167417267704,
          -0.03565465227963288,
          -0.020885680628682363,
          1.200145550200681,
          -0.9846904469215673,
          0.10950711263964928,
          1.0445853242309007,
          0.27529157697533474,
          0.5983208824340993,
          -0.3681703126977821,
          0.5264459784317566,
          -1.8901304008258482,
          0.41053724058531343,
          2.149413721393953,
          -0.14829351925723355,
          0.28481667406600414,
          1.2966105484939134,
          1.7764474949850584,
          -0.8658047995647816,
          0.5308213817143275,
          -1.120788356364344,
          1.9454034638537745,
          1.0587558084959137,
          -0.7674713924003651,
          -0.6267594064371546,
          -0.04346827274230348,
          -1.0422634069846766,
          0.09969074130040292,
          0.39073622722129364,
          -0.5928957144835026,
          -0.9641123834614155,
          -0.2677946868200473,
          -0.7777178807479489,
          0.7158199246051675,
          0.8143290570752546,
          -0.20654314807608365,
          -0.6537455646422298,
          0.22089986844224546,
          -0.2225633079250923,
          -0.4534145079716638,
          0.5861747969856174,
          -0.8359347930593233,
          -1.1263047126460155,
          -0.8262738830817886,
          -1.7113495932158238,
          0.08988046821639137,
          0.17889806708828568,
          0.6012322374099268,
          -2.292343144986237,
          -0.37576863802106686,
          -0.5461466161962525,
          -1.1285084981517282,
          0.25345271040546635,
          -0.7382027317539311,
          -0.4164404058879414,
          0.34892979575774963,
          -0.5162902086952994,
          0.10384774185504225,
          0.04891738989556161,
          -0.19568143903196195,
          -0.29457643181972093,
          1.68215698400926,
          -0.991347167285361,
          0.10168122028707241,
          0.7650140058185785,
          -0.38206239630257804,
          0.5662355891522727,
          0.4099861289131352,
          1.5423675075616017,
          -0.2184266039919825,
          -0.995442082795395,
          0.4697414139371775,
          0.8434702620443851,
          0.21731369535359624,
          -1.4495647123157822,
          1.2389903416842123,
          0.6192037649559717,
          -0.29962795697765315,
          0.12043705971204607,
          0.20746825573080724,
          -0.6924691888855892,
          -0.5135158353185701,
          1.7586618431631418,
          0.11614058265889382,
          1.2664850969917103,
          -0.4829830914711651,
          -0.7037313752472822,
          -0.7411842833636715,
          -0.3546797425798537,
          0.575255402927518,
          1.8261781483347446,
          0.40500211093860605
         ],
         "yaxis": "y9",
         "type": "scatter"
        },
        {
         "line": {
          "color": "rgba(128, 128, 128, 1.0)",
          "dash": "solid",
          "shape": "linear",
          "width": 1.3
         },
         "marker": {
          "size": 2,
          "symbol": "circle"
         },
         "mode": "markers",
         "name": "C",
         "text": "",
         "x": [
          0.09335618225132572,
          0.6352634109513319,
          0.41907936288113773,
          -0.22798076945126475,
          -0.4979082166152658,
          0.03694743289446904,
          -0.37499194262987345,
          -1.4320569215939702,
          -0.2362651597312885,
          -0.18580302242834376,
          -2.170568749583378,
          -0.2527090527912323,
          -0.3177640387438962,
          1.3882022876173679,
          0.5087337692119102,
          1.7927682536553873,
          1.2236875377203562,
          0.21001523755733584,
          -0.7705541428181553,
          -0.43484129193107846,
          -1.4119778801694032,
          0.9229043979660734,
          -0.9299146017445847,
          0.6939271421218565,
          -0.27618229521632587,
          2.793021145864615,
          1.2992340751988656,
          -1.555370384056118,
          0.9211366472786398,
          0.23246834371802508,
          -1.4410620003372667,
          -1.1594196104741066,
          -0.7549479395256614,
          0.5320441673034443,
          -1.302371037353287,
          0.584221182953409,
          -0.5033363547574853,
          0.6400333546853904,
          0.5184263100005203,
          -0.6092283231484559,
          -0.8908992929710426,
          -1.9029428961269146,
          -0.18158043368950857,
          0.5008460201718647,
          -0.1809839430908216,
          0.7513366197730661,
          1.922128688864836,
          0.27485200154688366,
          -1.3545615921278709,
          -1.2563620191833995,
          -0.9748758879945009,
          -1.9347921316496997,
          1.5480818687161126,
          0.12803884189053585,
          0.6578478863662082,
          1.2550663929317016,
          -0.15789460063418348,
          0.70624349330054,
          2.110389847005232,
          -0.8613836802255759,
          2.430361827827879,
          -1.1822130719974753,
          0.7822023619471686,
          -0.035320864702165104,
          0.18972620513775132,
          0.7294931706303271,
          -0.03774964034918003,
          1.8175022537610461,
          0.6367475715019699,
          -1.29353184816196,
          0.13556306215106625,
          -1.1271960376428591,
          -1.6224500213091382,
          -0.2626706502000504,
          -1.0563994576913762,
          0.14360288063488147,
          -0.4303216252174318,
          -1.135237282678753,
          0.3914594104893218,
          1.2882790913971087,
          -0.8583955336919064,
          -0.5164129539465653,
          -0.9847788181104075,
          -0.5640171075998446,
          1.117732906799216,
          -0.672617658730878,
          0.47756166289699004,
          -1.3525120817432912,
          -1.015732220293894,
          -0.5234140283791064,
          -1.2756075837861574,
          -0.4061080448964347,
          -0.545509458282861,
          -0.8687754951278084,
          0.19169077957013955,
          -0.960008089175775,
          1.2222908778070325,
          0.1644915055542513,
          0.9533726745254081,
          -0.5249693115821974
         ],
         "xaxis": "x10",
         "y": [
          -1.6953689677756643,
          1.8194720346242286,
          -0.6831311730543547,
          0.5781253867149284,
          1.6716821802956356,
          0.5213057287780627,
          1.4582252043915573,
          0.10514172777912444,
          0.5236167417267704,
          -0.03565465227963288,
          -0.020885680628682363,
          1.200145550200681,
          -0.9846904469215673,
          0.10950711263964928,
          1.0445853242309007,
          0.27529157697533474,
          0.5983208824340993,
          -0.3681703126977821,
          0.5264459784317566,
          -1.8901304008258482,
          0.41053724058531343,
          2.149413721393953,
          -0.14829351925723355,
          0.28481667406600414,
          1.2966105484939134,
          1.7764474949850584,
          -0.8658047995647816,
          0.5308213817143275,
          -1.120788356364344,
          1.9454034638537745,
          1.0587558084959137,
          -0.7674713924003651,
          -0.6267594064371546,
          -0.04346827274230348,
          -1.0422634069846766,
          0.09969074130040292,
          0.39073622722129364,
          -0.5928957144835026,
          -0.9641123834614155,
          -0.2677946868200473,
          -0.7777178807479489,
          0.7158199246051675,
          0.8143290570752546,
          -0.20654314807608365,
          -0.6537455646422298,
          0.22089986844224546,
          -0.2225633079250923,
          -0.4534145079716638,
          0.5861747969856174,
          -0.8359347930593233,
          -1.1263047126460155,
          -0.8262738830817886,
          -1.7113495932158238,
          0.08988046821639137,
          0.17889806708828568,
          0.6012322374099268,
          -2.292343144986237,
          -0.37576863802106686,
          -0.5461466161962525,
          -1.1285084981517282,
          0.25345271040546635,
          -0.7382027317539311,
          -0.4164404058879414,
          0.34892979575774963,
          -0.5162902086952994,
          0.10384774185504225,
          0.04891738989556161,
          -0.19568143903196195,
          -0.29457643181972093,
          1.68215698400926,
          -0.991347167285361,
          0.10168122028707241,
          0.7650140058185785,
          -0.38206239630257804,
          0.5662355891522727,
          0.4099861289131352,
          1.5423675075616017,
          -0.2184266039919825,
          -0.995442082795395,
          0.4697414139371775,
          0.8434702620443851,
          0.21731369535359624,
          -1.4495647123157822,
          1.2389903416842123,
          0.6192037649559717,
          -0.29962795697765315,
          0.12043705971204607,
          0.20746825573080724,
          -0.6924691888855892,
          -0.5135158353185701,
          1.7586618431631418,
          0.11614058265889382,
          1.2664850969917103,
          -0.4829830914711651,
          -0.7037313752472822,
          -0.7411842833636715,
          -0.3546797425798537,
          0.575255402927518,
          1.8261781483347446,
          0.40500211093860605
         ],
         "yaxis": "y10",
         "type": "scatter"
        },
        {
         "histfunc": "count",
         "histnorm": "",
         "marker": {
          "color": "rgba(50, 171, 96, 1.0)",
          "line": {
           "color": "#4D5663",
           "width": 1.3
          }
         },
         "name": "C",
         "nbinsx": 10,
         "opacity": 0.8,
         "orientation": "v",
         "x": [
          -1.6953689677756643,
          1.8194720346242286,
          -0.6831311730543547,
          0.5781253867149284,
          1.6716821802956356,
          0.5213057287780627,
          1.4582252043915573,
          0.10514172777912444,
          0.5236167417267704,
          -0.03565465227963288,
          -0.020885680628682363,
          1.200145550200681,
          -0.9846904469215673,
          0.10950711263964928,
          1.0445853242309007,
          0.27529157697533474,
          0.5983208824340993,
          -0.3681703126977821,
          0.5264459784317566,
          -1.8901304008258482,
          0.41053724058531343,
          2.149413721393953,
          -0.14829351925723355,
          0.28481667406600414,
          1.2966105484939134,
          1.7764474949850584,
          -0.8658047995647816,
          0.5308213817143275,
          -1.120788356364344,
          1.9454034638537745,
          1.0587558084959137,
          -0.7674713924003651,
          -0.6267594064371546,
          -0.04346827274230348,
          -1.0422634069846766,
          0.09969074130040292,
          0.39073622722129364,
          -0.5928957144835026,
          -0.9641123834614155,
          -0.2677946868200473,
          -0.7777178807479489,
          0.7158199246051675,
          0.8143290570752546,
          -0.20654314807608365,
          -0.6537455646422298,
          0.22089986844224546,
          -0.2225633079250923,
          -0.4534145079716638,
          0.5861747969856174,
          -0.8359347930593233,
          -1.1263047126460155,
          -0.8262738830817886,
          -1.7113495932158238,
          0.08988046821639137,
          0.17889806708828568,
          0.6012322374099268,
          -2.292343144986237,
          -0.37576863802106686,
          -0.5461466161962525,
          -1.1285084981517282,
          0.25345271040546635,
          -0.7382027317539311,
          -0.4164404058879414,
          0.34892979575774963,
          -0.5162902086952994,
          0.10384774185504225,
          0.04891738989556161,
          -0.19568143903196195,
          -0.29457643181972093,
          1.68215698400926,
          -0.991347167285361,
          0.10168122028707241,
          0.7650140058185785,
          -0.38206239630257804,
          0.5662355891522727,
          0.4099861289131352,
          1.5423675075616017,
          -0.2184266039919825,
          -0.995442082795395,
          0.4697414139371775,
          0.8434702620443851,
          0.21731369535359624,
          -1.4495647123157822,
          1.2389903416842123,
          0.6192037649559717,
          -0.29962795697765315,
          0.12043705971204607,
          0.20746825573080724,
          -0.6924691888855892,
          -0.5135158353185701,
          1.7586618431631418,
          0.11614058265889382,
          1.2664850969917103,
          -0.4829830914711651,
          -0.7037313752472822,
          -0.7411842833636715,
          -0.3546797425798537,
          0.575255402927518,
          1.8261781483347446,
          0.40500211093860605
         ],
         "xaxis": "x11",
         "yaxis": "y11",
         "type": "histogram"
        },
        {
         "line": {
          "color": "rgba(128, 128, 128, 1.0)",
          "dash": "solid",
          "shape": "linear",
          "width": 1.3
         },
         "marker": {
          "size": 2,
          "symbol": "circle"
         },
         "mode": "markers",
         "name": "C",
         "text": "",
         "x": [
          -0.16933702153120564,
          0.015463130330103832,
          1.1675431867274206,
          0.19510235270609524,
          0.023244950986804076,
          -0.37084609411017183,
          0.6548316799850522,
          -0.5189778691535102,
          0.2342070769750843,
          -1.3154796961121293,
          0.07527562161836437,
          -1.3697340353562337,
          -0.06697804745639586,
          1.867587665665157,
          -0.8791349758077466,
          -0.13386295401003215,
          1.1106756300478267,
          0.3273515579371792,
          0.8318787857317058,
          -1.4787163202440299,
          0.4333955884638258,
          -0.0770530734167716,
          1.526949947941122,
          -2.6779294588249183,
          0.19503577800948696,
          -0.5008917242815318,
          -1.2531748428674667,
          -1.1186659050017485,
          -1.2209454510933775,
          0.7104124836933191,
          -0.8391663887848211,
          -1.9153402613109618,
          0.17494802244639612,
          -2.106112580988103,
          0.0639331682961319,
          0.13762601799049493,
          -1.2848517178910825,
          0.35066226007728657,
          -0.6855730595214085,
          -1.1029537437208903,
          1.1712444443711851,
          0.7015001766568368,
          -0.807228931851719,
          0.793150685361422,
          0.05898327588761141,
          -0.04896712168972895,
          0.6167559996629923,
          0.7742544408088669,
          -0.3631227773459395,
          -0.4582538474457079,
          0.6660470856420727,
          1.9672804673117001,
          0.6173397582651268,
          1.622227103562318,
          0.8209377515075237,
          0.14434093083396204,
          -0.5949426378441042,
          -1.3223803511042727,
          -0.42172174268526674,
          -0.08188115397897601,
          -0.36198727855559226,
          -0.5680999366641512,
          -0.45572150400210526,
          0.34972678193727913,
          -0.0976013864021273,
          0.6797156066515974,
          0.7468042045420421,
          1.1682632978663434,
          1.959349756903216,
          1.5395954090028838,
          -0.2499787291211412,
          0.4225481189522686,
          -0.6409770800538417,
          -2.114163622529517,
          -0.21237873104875202,
          -0.07289603503302809,
          0.4600098844886235,
          -0.7872652085433337,
          -0.6159552178726073,
          -0.7685467376113275,
          1.442924207863347,
          0.07116527971277739,
          -0.17232643285380164,
          -0.5198406428874589,
          -0.7427047695555723,
          0.6738139606718887,
          -1.577760071005201,
          -0.36124234958398077,
          0.3778100226106513,
          0.9786286951256322,
          1.8715841745997923,
          0.7703852378780824,
          0.39024405309669197,
          2.092360580059444,
          -0.5922001644371345,
          -1.1485583853852506,
          -0.21989667043942174,
          -1.7498720338018705,
          0.6132968045817001,
          0.28378004178725824
         ],
         "xaxis": "x12",
         "y": [
          -1.6953689677756643,
          1.8194720346242286,
          -0.6831311730543547,
          0.5781253867149284,
          1.6716821802956356,
          0.5213057287780627,
          1.4582252043915573,
          0.10514172777912444,
          0.5236167417267704,
          -0.03565465227963288,
          -0.020885680628682363,
          1.200145550200681,
          -0.9846904469215673,
          0.10950711263964928,
          1.0445853242309007,
          0.27529157697533474,
          0.5983208824340993,
          -0.3681703126977821,
          0.5264459784317566,
          -1.8901304008258482,
          0.41053724058531343,
          2.149413721393953,
          -0.14829351925723355,
          0.28481667406600414,
          1.2966105484939134,
          1.7764474949850584,
          -0.8658047995647816,
          0.5308213817143275,
          -1.120788356364344,
          1.9454034638537745,
          1.0587558084959137,
          -0.7674713924003651,
          -0.6267594064371546,
          -0.04346827274230348,
          -1.0422634069846766,
          0.09969074130040292,
          0.39073622722129364,
          -0.5928957144835026,
          -0.9641123834614155,
          -0.2677946868200473,
          -0.7777178807479489,
          0.7158199246051675,
          0.8143290570752546,
          -0.20654314807608365,
          -0.6537455646422298,
          0.22089986844224546,
          -0.2225633079250923,
          -0.4534145079716638,
          0.5861747969856174,
          -0.8359347930593233,
          -1.1263047126460155,
          -0.8262738830817886,
          -1.7113495932158238,
          0.08988046821639137,
          0.17889806708828568,
          0.6012322374099268,
          -2.292343144986237,
          -0.37576863802106686,
          -0.5461466161962525,
          -1.1285084981517282,
          0.25345271040546635,
          -0.7382027317539311,
          -0.4164404058879414,
          0.34892979575774963,
          -0.5162902086952994,
          0.10384774185504225,
          0.04891738989556161,
          -0.19568143903196195,
          -0.29457643181972093,
          1.68215698400926,
          -0.991347167285361,
          0.10168122028707241,
          0.7650140058185785,
          -0.38206239630257804,
          0.5662355891522727,
          0.4099861289131352,
          1.5423675075616017,
          -0.2184266039919825,
          -0.995442082795395,
          0.4697414139371775,
          0.8434702620443851,
          0.21731369535359624,
          -1.4495647123157822,
          1.2389903416842123,
          0.6192037649559717,
          -0.29962795697765315,
          0.12043705971204607,
          0.20746825573080724,
          -0.6924691888855892,
          -0.5135158353185701,
          1.7586618431631418,
          0.11614058265889382,
          1.2664850969917103,
          -0.4829830914711651,
          -0.7037313752472822,
          -0.7411842833636715,
          -0.3546797425798537,
          0.575255402927518,
          1.8261781483347446,
          0.40500211093860605
         ],
         "yaxis": "y12",
         "type": "scatter"
        },
        {
         "line": {
          "color": "rgba(128, 128, 128, 1.0)",
          "dash": "solid",
          "shape": "linear",
          "width": 1.3
         },
         "marker": {
          "size": 2,
          "symbol": "circle"
         },
         "mode": "markers",
         "name": "D",
         "text": "",
         "x": [
          0.14822082851313306,
          -0.34608891272282194,
          0.24901271287272922,
          0.4240644884392381,
          1.0440983662883718,
          -1.276609077470786,
          0.7173135837709251,
          0.1724501564227296,
          -1.1216704493486236,
          0.781576014372293,
          1.1620631939397135,
          0.4150420570889104,
          -1.5521396830291718,
          -1.3169847130470722,
          -0.2781776254151489,
          0.06309633174302318,
          0.556436849059671,
          0.42210247531905687,
          -0.6290252194921633,
          2.0482652926239022,
          0.0780057701894443,
          -1.0368652381136363,
          -1.2541662496048762,
          1.3641269677974222,
          -0.5815112531984108,
          1.6930307786117214,
          -0.4427147377234606,
          -0.7445688117897638,
          -0.20096265500627905,
          -0.5983181907981495,
          -0.3337980932863787,
          0.6955202873612363,
          0.8211640518761578,
          0.058440132841781366,
          -0.9974922958576941,
          2.4395074569855955,
          0.3575072897242947,
          1.9390462165207785,
          0.7312082349367491,
          1.3447152116928895,
          0.444713249935464,
          -1.169786449791424,
          1.0023170061399884,
          -1.1243268576932697,
          1.4503665582180947,
          -0.2900040053277371,
          -0.5088719735190952,
          1.2334075477037256,
          0.22499907847027323,
          -0.024049951245375886,
          -0.8758256834084206,
          -0.3420189487010926,
          -0.8434583722408066,
          0.9204550472988404,
          0.30177024477047126,
          -0.377492562579996,
          -1.2884965453566963,
          0.7746009127096465,
          -1.64245210047636,
          0.8542126775410289,
          -1.3735030353907403,
          0.8781625056604911,
          -0.5396336594025676,
          -1.240198135750007,
          -0.09794950347543442,
          -1.312279745338373,
          0.17805532615954506,
          0.4299075147494006,
          -1.1404548328899988,
          -0.12310121442137532,
          0.4479245793802654,
          0.4070954259101387,
          0.16963828515414067,
          0.1973157313110605,
          0.5324630926125037,
          0.21260533811136523,
          0.12716194356615354,
          1.2611059982970452,
          -0.6971439837941964,
          -1.4514082154439494,
          0.6677974863476068,
          0.5997598573702173,
          0.2808773015398909,
          -1.0440558332737448,
          1.4802503737188173,
          0.05153994766676817,
          0.7364419340533024,
          -0.22705203539660515,
          -0.6021806468835678,
          0.4846678743214728,
          0.4093408586133741,
          -0.013933365361420797,
          -0.3141274672417357,
          0.7403120144688332,
          0.2110029004515611,
          -0.33877135624166815,
          1.6276636601277281,
          1.3798040926121122,
          -0.4122807594505736,
          -1.4787853580946055
         ],
         "xaxis": "x13",
         "y": [
          -0.16933702153120564,
          0.015463130330103832,
          1.1675431867274206,
          0.19510235270609524,
          0.023244950986804076,
          -0.37084609411017183,
          0.6548316799850522,
          -0.5189778691535102,
          0.2342070769750843,
          -1.3154796961121293,
          0.07527562161836437,
          -1.3697340353562337,
          -0.06697804745639586,
          1.867587665665157,
          -0.8791349758077466,
          -0.13386295401003215,
          1.1106756300478267,
          0.3273515579371792,
          0.8318787857317058,
          -1.4787163202440299,
          0.4333955884638258,
          -0.0770530734167716,
          1.526949947941122,
          -2.6779294588249183,
          0.19503577800948696,
          -0.5008917242815318,
          -1.2531748428674667,
          -1.1186659050017485,
          -1.2209454510933775,
          0.7104124836933191,
          -0.8391663887848211,
          -1.9153402613109618,
          0.17494802244639612,
          -2.106112580988103,
          0.0639331682961319,
          0.13762601799049493,
          -1.2848517178910825,
          0.35066226007728657,
          -0.6855730595214085,
          -1.1029537437208903,
          1.1712444443711851,
          0.7015001766568368,
          -0.807228931851719,
          0.793150685361422,
          0.05898327588761141,
          -0.04896712168972895,
          0.6167559996629923,
          0.7742544408088669,
          -0.3631227773459395,
          -0.4582538474457079,
          0.6660470856420727,
          1.9672804673117001,
          0.6173397582651268,
          1.622227103562318,
          0.8209377515075237,
          0.14434093083396204,
          -0.5949426378441042,
          -1.3223803511042727,
          -0.42172174268526674,
          -0.08188115397897601,
          -0.36198727855559226,
          -0.5680999366641512,
          -0.45572150400210526,
          0.34972678193727913,
          -0.0976013864021273,
          0.6797156066515974,
          0.7468042045420421,
          1.1682632978663434,
          1.959349756903216,
          1.5395954090028838,
          -0.2499787291211412,
          0.4225481189522686,
          -0.6409770800538417,
          -2.114163622529517,
          -0.21237873104875202,
          -0.07289603503302809,
          0.4600098844886235,
          -0.7872652085433337,
          -0.6159552178726073,
          -0.7685467376113275,
          1.442924207863347,
          0.07116527971277739,
          -0.17232643285380164,
          -0.5198406428874589,
          -0.7427047695555723,
          0.6738139606718887,
          -1.577760071005201,
          -0.36124234958398077,
          0.3778100226106513,
          0.9786286951256322,
          1.8715841745997923,
          0.7703852378780824,
          0.39024405309669197,
          2.092360580059444,
          -0.5922001644371345,
          -1.1485583853852506,
          -0.21989667043942174,
          -1.7498720338018705,
          0.6132968045817001,
          0.28378004178725824
         ],
         "yaxis": "y13",
         "type": "scatter"
        },
        {
         "line": {
          "color": "rgba(128, 128, 128, 1.0)",
          "dash": "solid",
          "shape": "linear",
          "width": 1.3
         },
         "marker": {
          "size": 2,
          "symbol": "circle"
         },
         "mode": "markers",
         "name": "D",
         "text": "",
         "x": [
          0.09335618225132572,
          0.6352634109513319,
          0.41907936288113773,
          -0.22798076945126475,
          -0.4979082166152658,
          0.03694743289446904,
          -0.37499194262987345,
          -1.4320569215939702,
          -0.2362651597312885,
          -0.18580302242834376,
          -2.170568749583378,
          -0.2527090527912323,
          -0.3177640387438962,
          1.3882022876173679,
          0.5087337692119102,
          1.7927682536553873,
          1.2236875377203562,
          0.21001523755733584,
          -0.7705541428181553,
          -0.43484129193107846,
          -1.4119778801694032,
          0.9229043979660734,
          -0.9299146017445847,
          0.6939271421218565,
          -0.27618229521632587,
          2.793021145864615,
          1.2992340751988656,
          -1.555370384056118,
          0.9211366472786398,
          0.23246834371802508,
          -1.4410620003372667,
          -1.1594196104741066,
          -0.7549479395256614,
          0.5320441673034443,
          -1.302371037353287,
          0.584221182953409,
          -0.5033363547574853,
          0.6400333546853904,
          0.5184263100005203,
          -0.6092283231484559,
          -0.8908992929710426,
          -1.9029428961269146,
          -0.18158043368950857,
          0.5008460201718647,
          -0.1809839430908216,
          0.7513366197730661,
          1.922128688864836,
          0.27485200154688366,
          -1.3545615921278709,
          -1.2563620191833995,
          -0.9748758879945009,
          -1.9347921316496997,
          1.5480818687161126,
          0.12803884189053585,
          0.6578478863662082,
          1.2550663929317016,
          -0.15789460063418348,
          0.70624349330054,
          2.110389847005232,
          -0.8613836802255759,
          2.430361827827879,
          -1.1822130719974753,
          0.7822023619471686,
          -0.035320864702165104,
          0.18972620513775132,
          0.7294931706303271,
          -0.03774964034918003,
          1.8175022537610461,
          0.6367475715019699,
          -1.29353184816196,
          0.13556306215106625,
          -1.1271960376428591,
          -1.6224500213091382,
          -0.2626706502000504,
          -1.0563994576913762,
          0.14360288063488147,
          -0.4303216252174318,
          -1.135237282678753,
          0.3914594104893218,
          1.2882790913971087,
          -0.8583955336919064,
          -0.5164129539465653,
          -0.9847788181104075,
          -0.5640171075998446,
          1.117732906799216,
          -0.672617658730878,
          0.47756166289699004,
          -1.3525120817432912,
          -1.015732220293894,
          -0.5234140283791064,
          -1.2756075837861574,
          -0.4061080448964347,
          -0.545509458282861,
          -0.8687754951278084,
          0.19169077957013955,
          -0.960008089175775,
          1.2222908778070325,
          0.1644915055542513,
          0.9533726745254081,
          -0.5249693115821974
         ],
         "xaxis": "x14",
         "y": [
          -0.16933702153120564,
          0.015463130330103832,
          1.1675431867274206,
          0.19510235270609524,
          0.023244950986804076,
          -0.37084609411017183,
          0.6548316799850522,
          -0.5189778691535102,
          0.2342070769750843,
          -1.3154796961121293,
          0.07527562161836437,
          -1.3697340353562337,
          -0.06697804745639586,
          1.867587665665157,
          -0.8791349758077466,
          -0.13386295401003215,
          1.1106756300478267,
          0.3273515579371792,
          0.8318787857317058,
          -1.4787163202440299,
          0.4333955884638258,
          -0.0770530734167716,
          1.526949947941122,
          -2.6779294588249183,
          0.19503577800948696,
          -0.5008917242815318,
          -1.2531748428674667,
          -1.1186659050017485,
          -1.2209454510933775,
          0.7104124836933191,
          -0.8391663887848211,
          -1.9153402613109618,
          0.17494802244639612,
          -2.106112580988103,
          0.0639331682961319,
          0.13762601799049493,
          -1.2848517178910825,
          0.35066226007728657,
          -0.6855730595214085,
          -1.1029537437208903,
          1.1712444443711851,
          0.7015001766568368,
          -0.807228931851719,
          0.793150685361422,
          0.05898327588761141,
          -0.04896712168972895,
          0.6167559996629923,
          0.7742544408088669,
          -0.3631227773459395,
          -0.4582538474457079,
          0.6660470856420727,
          1.9672804673117001,
          0.6173397582651268,
          1.622227103562318,
          0.8209377515075237,
          0.14434093083396204,
          -0.5949426378441042,
          -1.3223803511042727,
          -0.42172174268526674,
          -0.08188115397897601,
          -0.36198727855559226,
          -0.5680999366641512,
          -0.45572150400210526,
          0.34972678193727913,
          -0.0976013864021273,
          0.6797156066515974,
          0.7468042045420421,
          1.1682632978663434,
          1.959349756903216,
          1.5395954090028838,
          -0.2499787291211412,
          0.4225481189522686,
          -0.6409770800538417,
          -2.114163622529517,
          -0.21237873104875202,
          -0.07289603503302809,
          0.4600098844886235,
          -0.7872652085433337,
          -0.6159552178726073,
          -0.7685467376113275,
          1.442924207863347,
          0.07116527971277739,
          -0.17232643285380164,
          -0.5198406428874589,
          -0.7427047695555723,
          0.6738139606718887,
          -1.577760071005201,
          -0.36124234958398077,
          0.3778100226106513,
          0.9786286951256322,
          1.8715841745997923,
          0.7703852378780824,
          0.39024405309669197,
          2.092360580059444,
          -0.5922001644371345,
          -1.1485583853852506,
          -0.21989667043942174,
          -1.7498720338018705,
          0.6132968045817001,
          0.28378004178725824
         ],
         "yaxis": "y14",
         "type": "scatter"
        },
        {
         "line": {
          "color": "rgba(128, 128, 128, 1.0)",
          "dash": "solid",
          "shape": "linear",
          "width": 1.3
         },
         "marker": {
          "size": 2,
          "symbol": "circle"
         },
         "mode": "markers",
         "name": "D",
         "text": "",
         "x": [
          -1.6953689677756643,
          1.8194720346242286,
          -0.6831311730543547,
          0.5781253867149284,
          1.6716821802956356,
          0.5213057287780627,
          1.4582252043915573,
          0.10514172777912444,
          0.5236167417267704,
          -0.03565465227963288,
          -0.020885680628682363,
          1.200145550200681,
          -0.9846904469215673,
          0.10950711263964928,
          1.0445853242309007,
          0.27529157697533474,
          0.5983208824340993,
          -0.3681703126977821,
          0.5264459784317566,
          -1.8901304008258482,
          0.41053724058531343,
          2.149413721393953,
          -0.14829351925723355,
          0.28481667406600414,
          1.2966105484939134,
          1.7764474949850584,
          -0.8658047995647816,
          0.5308213817143275,
          -1.120788356364344,
          1.9454034638537745,
          1.0587558084959137,
          -0.7674713924003651,
          -0.6267594064371546,
          -0.04346827274230348,
          -1.0422634069846766,
          0.09969074130040292,
          0.39073622722129364,
          -0.5928957144835026,
          -0.9641123834614155,
          -0.2677946868200473,
          -0.7777178807479489,
          0.7158199246051675,
          0.8143290570752546,
          -0.20654314807608365,
          -0.6537455646422298,
          0.22089986844224546,
          -0.2225633079250923,
          -0.4534145079716638,
          0.5861747969856174,
          -0.8359347930593233,
          -1.1263047126460155,
          -0.8262738830817886,
          -1.7113495932158238,
          0.08988046821639137,
          0.17889806708828568,
          0.6012322374099268,
          -2.292343144986237,
          -0.37576863802106686,
          -0.5461466161962525,
          -1.1285084981517282,
          0.25345271040546635,
          -0.7382027317539311,
          -0.4164404058879414,
          0.34892979575774963,
          -0.5162902086952994,
          0.10384774185504225,
          0.04891738989556161,
          -0.19568143903196195,
          -0.29457643181972093,
          1.68215698400926,
          -0.991347167285361,
          0.10168122028707241,
          0.7650140058185785,
          -0.38206239630257804,
          0.5662355891522727,
          0.4099861289131352,
          1.5423675075616017,
          -0.2184266039919825,
          -0.995442082795395,
          0.4697414139371775,
          0.8434702620443851,
          0.21731369535359624,
          -1.4495647123157822,
          1.2389903416842123,
          0.6192037649559717,
          -0.29962795697765315,
          0.12043705971204607,
          0.20746825573080724,
          -0.6924691888855892,
          -0.5135158353185701,
          1.7586618431631418,
          0.11614058265889382,
          1.2664850969917103,
          -0.4829830914711651,
          -0.7037313752472822,
          -0.7411842833636715,
          -0.3546797425798537,
          0.575255402927518,
          1.8261781483347446,
          0.40500211093860605
         ],
         "xaxis": "x15",
         "y": [
          -0.16933702153120564,
          0.015463130330103832,
          1.1675431867274206,
          0.19510235270609524,
          0.023244950986804076,
          -0.37084609411017183,
          0.6548316799850522,
          -0.5189778691535102,
          0.2342070769750843,
          -1.3154796961121293,
          0.07527562161836437,
          -1.3697340353562337,
          -0.06697804745639586,
          1.867587665665157,
          -0.8791349758077466,
          -0.13386295401003215,
          1.1106756300478267,
          0.3273515579371792,
          0.8318787857317058,
          -1.4787163202440299,
          0.4333955884638258,
          -0.0770530734167716,
          1.526949947941122,
          -2.6779294588249183,
          0.19503577800948696,
          -0.5008917242815318,
          -1.2531748428674667,
          -1.1186659050017485,
          -1.2209454510933775,
          0.7104124836933191,
          -0.8391663887848211,
          -1.9153402613109618,
          0.17494802244639612,
          -2.106112580988103,
          0.0639331682961319,
          0.13762601799049493,
          -1.2848517178910825,
          0.35066226007728657,
          -0.6855730595214085,
          -1.1029537437208903,
          1.1712444443711851,
          0.7015001766568368,
          -0.807228931851719,
          0.793150685361422,
          0.05898327588761141,
          -0.04896712168972895,
          0.6167559996629923,
          0.7742544408088669,
          -0.3631227773459395,
          -0.4582538474457079,
          0.6660470856420727,
          1.9672804673117001,
          0.6173397582651268,
          1.622227103562318,
          0.8209377515075237,
          0.14434093083396204,
          -0.5949426378441042,
          -1.3223803511042727,
          -0.42172174268526674,
          -0.08188115397897601,
          -0.36198727855559226,
          -0.5680999366641512,
          -0.45572150400210526,
          0.34972678193727913,
          -0.0976013864021273,
          0.6797156066515974,
          0.7468042045420421,
          1.1682632978663434,
          1.959349756903216,
          1.5395954090028838,
          -0.2499787291211412,
          0.4225481189522686,
          -0.6409770800538417,
          -2.114163622529517,
          -0.21237873104875202,
          -0.07289603503302809,
          0.4600098844886235,
          -0.7872652085433337,
          -0.6159552178726073,
          -0.7685467376113275,
          1.442924207863347,
          0.07116527971277739,
          -0.17232643285380164,
          -0.5198406428874589,
          -0.7427047695555723,
          0.6738139606718887,
          -1.577760071005201,
          -0.36124234958398077,
          0.3778100226106513,
          0.9786286951256322,
          1.8715841745997923,
          0.7703852378780824,
          0.39024405309669197,
          2.092360580059444,
          -0.5922001644371345,
          -1.1485583853852506,
          -0.21989667043942174,
          -1.7498720338018705,
          0.6132968045817001,
          0.28378004178725824
         ],
         "yaxis": "y15",
         "type": "scatter"
        },
        {
         "histfunc": "count",
         "histnorm": "",
         "marker": {
          "color": "rgba(128, 0, 128, 1.0)",
          "line": {
           "color": "#4D5663",
           "width": 1.3
          }
         },
         "name": "D",
         "nbinsx": 10,
         "opacity": 0.8,
         "orientation": "v",
         "x": [
          -0.16933702153120564,
          0.015463130330103832,
          1.1675431867274206,
          0.19510235270609524,
          0.023244950986804076,
          -0.37084609411017183,
          0.6548316799850522,
          -0.5189778691535102,
          0.2342070769750843,
          -1.3154796961121293,
          0.07527562161836437,
          -1.3697340353562337,
          -0.06697804745639586,
          1.867587665665157,
          -0.8791349758077466,
          -0.13386295401003215,
          1.1106756300478267,
          0.3273515579371792,
          0.8318787857317058,
          -1.4787163202440299,
          0.4333955884638258,
          -0.0770530734167716,
          1.526949947941122,
          -2.6779294588249183,
          0.19503577800948696,
          -0.5008917242815318,
          -1.2531748428674667,
          -1.1186659050017485,
          -1.2209454510933775,
          0.7104124836933191,
          -0.8391663887848211,
          -1.9153402613109618,
          0.17494802244639612,
          -2.106112580988103,
          0.0639331682961319,
          0.13762601799049493,
          -1.2848517178910825,
          0.35066226007728657,
          -0.6855730595214085,
          -1.1029537437208903,
          1.1712444443711851,
          0.7015001766568368,
          -0.807228931851719,
          0.793150685361422,
          0.05898327588761141,
          -0.04896712168972895,
          0.6167559996629923,
          0.7742544408088669,
          -0.3631227773459395,
          -0.4582538474457079,
          0.6660470856420727,
          1.9672804673117001,
          0.6173397582651268,
          1.622227103562318,
          0.8209377515075237,
          0.14434093083396204,
          -0.5949426378441042,
          -1.3223803511042727,
          -0.42172174268526674,
          -0.08188115397897601,
          -0.36198727855559226,
          -0.5680999366641512,
          -0.45572150400210526,
          0.34972678193727913,
          -0.0976013864021273,
          0.6797156066515974,
          0.7468042045420421,
          1.1682632978663434,
          1.959349756903216,
          1.5395954090028838,
          -0.2499787291211412,
          0.4225481189522686,
          -0.6409770800538417,
          -2.114163622529517,
          -0.21237873104875202,
          -0.07289603503302809,
          0.4600098844886235,
          -0.7872652085433337,
          -0.6159552178726073,
          -0.7685467376113275,
          1.442924207863347,
          0.07116527971277739,
          -0.17232643285380164,
          -0.5198406428874589,
          -0.7427047695555723,
          0.6738139606718887,
          -1.577760071005201,
          -0.36124234958398077,
          0.3778100226106513,
          0.9786286951256322,
          1.8715841745997923,
          0.7703852378780824,
          0.39024405309669197,
          2.092360580059444,
          -0.5922001644371345,
          -1.1485583853852506,
          -0.21989667043942174,
          -1.7498720338018705,
          0.6132968045817001,
          0.28378004178725824
         ],
         "xaxis": "x16",
         "yaxis": "y16",
         "type": "histogram"
        }
       ],
       "layout": {
        "bargap": 0.02,
        "legend": {
         "bgcolor": "#F5F6F9",
         "font": {
          "color": "#4D5663"
         }
        },
        "paper_bgcolor": "#F5F6F9",
        "plot_bgcolor": "#F5F6F9",
        "showlegend": false,
        "template": {
         "data": {
          "barpolar": [
           {
            "marker": {
             "line": {
              "color": "rgb(17,17,17)",
              "width": 0.5
             },
             "pattern": {
              "fillmode": "overlay",
              "size": 10,
              "solidity": 0.2
             }
            },
            "type": "barpolar"
           }
          ],
          "bar": [
           {
            "error_x": {
             "color": "#f2f5fa"
            },
            "error_y": {
             "color": "#f2f5fa"
            },
            "marker": {
             "line": {
              "color": "rgb(17,17,17)",
              "width": 0.5
             },
             "pattern": {
              "fillmode": "overlay",
              "size": 10,
              "solidity": 0.2
             }
            },
            "type": "bar"
           }
          ],
          "carpet": [
           {
            "aaxis": {
             "endlinecolor": "#A2B1C6",
             "gridcolor": "#506784",
             "linecolor": "#506784",
             "minorgridcolor": "#506784",
             "startlinecolor": "#A2B1C6"
            },
            "baxis": {
             "endlinecolor": "#A2B1C6",
             "gridcolor": "#506784",
             "linecolor": "#506784",
             "minorgridcolor": "#506784",
             "startlinecolor": "#A2B1C6"
            },
            "type": "carpet"
           }
          ],
          "choropleth": [
           {
            "colorbar": {
             "outlinewidth": 0,
             "ticks": ""
            },
            "type": "choropleth"
           }
          ],
          "contourcarpet": [
           {
            "colorbar": {
             "outlinewidth": 0,
             "ticks": ""
            },
            "type": "contourcarpet"
           }
          ],
          "contour": [
           {
            "colorbar": {
             "outlinewidth": 0,
             "ticks": ""
            },
            "colorscale": [
             [
              0.0,
              "#0d0887"
             ],
             [
              0.1111111111111111,
              "#46039f"
             ],
             [
              0.2222222222222222,
              "#7201a8"
             ],
             [
              0.3333333333333333,
              "#9c179e"
             ],
             [
              0.4444444444444444,
              "#bd3786"
             ],
             [
              0.5555555555555556,
              "#d8576b"
             ],
             [
              0.6666666666666666,
              "#ed7953"
             ],
             [
              0.7777777777777778,
              "#fb9f3a"
             ],
             [
              0.8888888888888888,
              "#fdca26"
             ],
             [
              1.0,
              "#f0f921"
             ]
            ],
            "type": "contour"
           }
          ],
          "heatmapgl": [
           {
            "colorbar": {
             "outlinewidth": 0,
             "ticks": ""
            },
            "colorscale": [
             [
              0.0,
              "#0d0887"
             ],
             [
              0.1111111111111111,
              "#46039f"
             ],
             [
              0.2222222222222222,
              "#7201a8"
             ],
             [
              0.3333333333333333,
              "#9c179e"
             ],
             [
              0.4444444444444444,
              "#bd3786"
             ],
             [
              0.5555555555555556,
              "#d8576b"
             ],
             [
              0.6666666666666666,
              "#ed7953"
             ],
             [
              0.7777777777777778,
              "#fb9f3a"
             ],
             [
              0.8888888888888888,
              "#fdca26"
             ],
             [
              1.0,
              "#f0f921"
             ]
            ],
            "type": "heatmapgl"
           }
          ],
          "heatmap": [
           {
            "colorbar": {
             "outlinewidth": 0,
             "ticks": ""
            },
            "colorscale": [
             [
              0.0,
              "#0d0887"
             ],
             [
              0.1111111111111111,
              "#46039f"
             ],
             [
              0.2222222222222222,
              "#7201a8"
             ],
             [
              0.3333333333333333,
              "#9c179e"
             ],
             [
              0.4444444444444444,
              "#bd3786"
             ],
             [
              0.5555555555555556,
              "#d8576b"
             ],
             [
              0.6666666666666666,
              "#ed7953"
             ],
             [
              0.7777777777777778,
              "#fb9f3a"
             ],
             [
              0.8888888888888888,
              "#fdca26"
             ],
             [
              1.0,
              "#f0f921"
             ]
            ],
            "type": "heatmap"
           }
          ],
          "histogram2dcontour": [
           {
            "colorbar": {
             "outlinewidth": 0,
             "ticks": ""
            },
            "colorscale": [
             [
              0.0,
              "#0d0887"
             ],
             [
              0.1111111111111111,
              "#46039f"
             ],
             [
              0.2222222222222222,
              "#7201a8"
             ],
             [
              0.3333333333333333,
              "#9c179e"
             ],
             [
              0.4444444444444444,
              "#bd3786"
             ],
             [
              0.5555555555555556,
              "#d8576b"
             ],
             [
              0.6666666666666666,
              "#ed7953"
             ],
             [
              0.7777777777777778,
              "#fb9f3a"
             ],
             [
              0.8888888888888888,
              "#fdca26"
             ],
             [
              1.0,
              "#f0f921"
             ]
            ],
            "type": "histogram2dcontour"
           }
          ],
          "histogram2d": [
           {
            "colorbar": {
             "outlinewidth": 0,
             "ticks": ""
            },
            "colorscale": [
             [
              0.0,
              "#0d0887"
             ],
             [
              0.1111111111111111,
              "#46039f"
             ],
             [
              0.2222222222222222,
              "#7201a8"
             ],
             [
              0.3333333333333333,
              "#9c179e"
             ],
             [
              0.4444444444444444,
              "#bd3786"
             ],
             [
              0.5555555555555556,
              "#d8576b"
             ],
             [
              0.6666666666666666,
              "#ed7953"
             ],
             [
              0.7777777777777778,
              "#fb9f3a"
             ],
             [
              0.8888888888888888,
              "#fdca26"
             ],
             [
              1.0,
              "#f0f921"
             ]
            ],
            "type": "histogram2d"
           }
          ],
          "histogram": [
           {
            "marker": {
             "pattern": {
              "fillmode": "overlay",
              "size": 10,
              "solidity": 0.2
             }
            },
            "type": "histogram"
           }
          ],
          "mesh3d": [
           {
            "colorbar": {
             "outlinewidth": 0,
             "ticks": ""
            },
            "type": "mesh3d"
           }
          ],
          "parcoords": [
           {
            "line": {
             "colorbar": {
              "outlinewidth": 0,
              "ticks": ""
             }
            },
            "type": "parcoords"
           }
          ],
          "pie": [
           {
            "automargin": true,
            "type": "pie"
           }
          ],
          "scatter3d": [
           {
            "line": {
             "colorbar": {
              "outlinewidth": 0,
              "ticks": ""
             }
            },
            "marker": {
             "colorbar": {
              "outlinewidth": 0,
              "ticks": ""
             }
            },
            "type": "scatter3d"
           }
          ],
          "scattercarpet": [
           {
            "marker": {
             "colorbar": {
              "outlinewidth": 0,
              "ticks": ""
             }
            },
            "type": "scattercarpet"
           }
          ],
          "scattergeo": [
           {
            "marker": {
             "colorbar": {
              "outlinewidth": 0,
              "ticks": ""
             }
            },
            "type": "scattergeo"
           }
          ],
          "scattergl": [
           {
            "marker": {
             "line": {
              "color": "#283442"
             }
            },
            "type": "scattergl"
           }
          ],
          "scattermapbox": [
           {
            "marker": {
             "colorbar": {
              "outlinewidth": 0,
              "ticks": ""
             }
            },
            "type": "scattermapbox"
           }
          ],
          "scatterpolargl": [
           {
            "marker": {
             "colorbar": {
              "outlinewidth": 0,
              "ticks": ""
             }
            },
            "type": "scatterpolargl"
           }
          ],
          "scatterpolar": [
           {
            "marker": {
             "colorbar": {
              "outlinewidth": 0,
              "ticks": ""
             }
            },
            "type": "scatterpolar"
           }
          ],
          "scatter": [
           {
            "marker": {
             "line": {
              "color": "#283442"
             }
            },
            "type": "scatter"
           }
          ],
          "scatterternary": [
           {
            "marker": {
             "colorbar": {
              "outlinewidth": 0,
              "ticks": ""
             }
            },
            "type": "scatterternary"
           }
          ],
          "surface": [
           {
            "colorbar": {
             "outlinewidth": 0,
             "ticks": ""
            },
            "colorscale": [
             [
              0.0,
              "#0d0887"
             ],
             [
              0.1111111111111111,
              "#46039f"
             ],
             [
              0.2222222222222222,
              "#7201a8"
             ],
             [
              0.3333333333333333,
              "#9c179e"
             ],
             [
              0.4444444444444444,
              "#bd3786"
             ],
             [
              0.5555555555555556,
              "#d8576b"
             ],
             [
              0.6666666666666666,
              "#ed7953"
             ],
             [
              0.7777777777777778,
              "#fb9f3a"
             ],
             [
              0.8888888888888888,
              "#fdca26"
             ],
             [
              1.0,
              "#f0f921"
             ]
            ],
            "type": "surface"
           }
          ],
          "table": [
           {
            "cells": {
             "fill": {
              "color": "#506784"
             },
             "line": {
              "color": "rgb(17,17,17)"
             }
            },
            "header": {
             "fill": {
              "color": "#2a3f5f"
             },
             "line": {
              "color": "rgb(17,17,17)"
             }
            },
            "type": "table"
           }
          ]
         },
         "layout": {
          "annotationdefaults": {
           "arrowcolor": "#f2f5fa",
           "arrowhead": 0,
           "arrowwidth": 1
          },
          "autotypenumbers": "strict",
          "coloraxis": {
           "colorbar": {
            "outlinewidth": 0,
            "ticks": ""
           }
          },
          "colorscale": {
           "diverging": [
            [
             0,
             "#8e0152"
            ],
            [
             0.1,
             "#c51b7d"
            ],
            [
             0.2,
             "#de77ae"
            ],
            [
             0.3,
             "#f1b6da"
            ],
            [
             0.4,
             "#fde0ef"
            ],
            [
             0.5,
             "#f7f7f7"
            ],
            [
             0.6,
             "#e6f5d0"
            ],
            [
             0.7,
             "#b8e186"
            ],
            [
             0.8,
             "#7fbc41"
            ],
            [
             0.9,
             "#4d9221"
            ],
            [
             1,
             "#276419"
            ]
           ],
           "sequential": [
            [
             0.0,
             "#0d0887"
            ],
            [
             0.1111111111111111,
             "#46039f"
            ],
            [
             0.2222222222222222,
             "#7201a8"
            ],
            [
             0.3333333333333333,
             "#9c179e"
            ],
            [
             0.4444444444444444,
             "#bd3786"
            ],
            [
             0.5555555555555556,
             "#d8576b"
            ],
            [
             0.6666666666666666,
             "#ed7953"
            ],
            [
             0.7777777777777778,
             "#fb9f3a"
            ],
            [
             0.8888888888888888,
             "#fdca26"
            ],
            [
             1.0,
             "#f0f921"
            ]
           ],
           "sequentialminus": [
            [
             0.0,
             "#0d0887"
            ],
            [
             0.1111111111111111,
             "#46039f"
            ],
            [
             0.2222222222222222,
             "#7201a8"
            ],
            [
             0.3333333333333333,
             "#9c179e"
            ],
            [
             0.4444444444444444,
             "#bd3786"
            ],
            [
             0.5555555555555556,
             "#d8576b"
            ],
            [
             0.6666666666666666,
             "#ed7953"
            ],
            [
             0.7777777777777778,
             "#fb9f3a"
            ],
            [
             0.8888888888888888,
             "#fdca26"
            ],
            [
             1.0,
             "#f0f921"
            ]
           ]
          },
          "colorway": [
           "#636efa",
           "#EF553B",
           "#00cc96",
           "#ab63fa",
           "#FFA15A",
           "#19d3f3",
           "#FF6692",
           "#B6E880",
           "#FF97FF",
           "#FECB52"
          ],
          "font": {
           "color": "#f2f5fa"
          },
          "geo": {
           "bgcolor": "rgb(17,17,17)",
           "lakecolor": "rgb(17,17,17)",
           "landcolor": "rgb(17,17,17)",
           "showlakes": true,
           "showland": true,
           "subunitcolor": "#506784"
          },
          "hoverlabel": {
           "align": "left"
          },
          "hovermode": "closest",
          "mapbox": {
           "style": "dark"
          },
          "paper_bgcolor": "rgb(17,17,17)",
          "plot_bgcolor": "rgb(17,17,17)",
          "polar": {
           "angularaxis": {
            "gridcolor": "#506784",
            "linecolor": "#506784",
            "ticks": ""
           },
           "bgcolor": "rgb(17,17,17)",
           "radialaxis": {
            "gridcolor": "#506784",
            "linecolor": "#506784",
            "ticks": ""
           }
          },
          "scene": {
           "xaxis": {
            "backgroundcolor": "rgb(17,17,17)",
            "gridcolor": "#506784",
            "gridwidth": 2,
            "linecolor": "#506784",
            "showbackground": true,
            "ticks": "",
            "zerolinecolor": "#C8D4E3"
           },
           "yaxis": {
            "backgroundcolor": "rgb(17,17,17)",
            "gridcolor": "#506784",
            "gridwidth": 2,
            "linecolor": "#506784",
            "showbackground": true,
            "ticks": "",
            "zerolinecolor": "#C8D4E3"
           },
           "zaxis": {
            "backgroundcolor": "rgb(17,17,17)",
            "gridcolor": "#506784",
            "gridwidth": 2,
            "linecolor": "#506784",
            "showbackground": true,
            "ticks": "",
            "zerolinecolor": "#C8D4E3"
           }
          },
          "shapedefaults": {
           "line": {
            "color": "#f2f5fa"
           }
          },
          "sliderdefaults": {
           "bgcolor": "#C8D4E3",
           "bordercolor": "rgb(17,17,17)",
           "borderwidth": 1,
           "tickwidth": 0
          },
          "ternary": {
           "aaxis": {
            "gridcolor": "#506784",
            "linecolor": "#506784",
            "ticks": ""
           },
           "baxis": {
            "gridcolor": "#506784",
            "linecolor": "#506784",
            "ticks": ""
           },
           "bgcolor": "rgb(17,17,17)",
           "caxis": {
            "gridcolor": "#506784",
            "linecolor": "#506784",
            "ticks": ""
           }
          },
          "title": {
           "x": 0.05
          },
          "updatemenudefaults": {
           "bgcolor": "#506784",
           "borderwidth": 0
          },
          "xaxis": {
           "automargin": true,
           "gridcolor": "#283442",
           "linecolor": "#506784",
           "ticks": "",
           "title": {
            "standoff": 15
           },
           "zerolinecolor": "#283442",
           "zerolinewidth": 2
          },
          "yaxis": {
           "automargin": true,
           "gridcolor": "#283442",
           "linecolor": "#506784",
           "ticks": "",
           "title": {
            "standoff": 15
           },
           "zerolinecolor": "#283442",
           "zerolinewidth": 2
          }
         }
        },
        "title": {
         "font": {
          "color": "#4D5663"
         }
        },
        "xaxis": {
         "anchor": "y",
         "domain": [
          0.0,
          0.2125
         ],
         "gridcolor": "#E1E5ED",
         "showgrid": false,
         "tickfont": {
          "color": "#4D5663"
         },
         "title": {
          "font": {
           "color": "#4D5663"
          },
          "text": ""
         },
         "zerolinecolor": "#E1E5ED"
        },
        "yaxis": {
         "anchor": "x",
         "domain": [
          0.8025,
          1.0
         ],
         "gridcolor": "#E1E5ED",
         "showgrid": false,
         "tickfont": {
          "color": "#4D5663"
         },
         "title": {
          "font": {
           "color": "#4D5663"
          },
          "text": ""
         },
         "zerolinecolor": "#E1E5ED"
        },
        "xaxis2": {
         "anchor": "y2",
         "domain": [
          0.2625,
          0.475
         ],
         "gridcolor": "#E1E5ED",
         "showgrid": false,
         "tickfont": {
          "color": "#4D5663"
         },
         "title": {
          "font": {
           "color": "#4D5663"
          },
          "text": ""
         },
         "zerolinecolor": "#E1E5ED"
        },
        "yaxis2": {
         "anchor": "x2",
         "domain": [
          0.8025,
          1.0
         ],
         "gridcolor": "#E1E5ED",
         "showgrid": false,
         "tickfont": {
          "color": "#4D5663"
         },
         "title": {
          "font": {
           "color": "#4D5663"
          },
          "text": ""
         },
         "zerolinecolor": "#E1E5ED"
        },
        "xaxis3": {
         "anchor": "y3",
         "domain": [
          0.525,
          0.7375
         ],
         "gridcolor": "#E1E5ED",
         "showgrid": false,
         "tickfont": {
          "color": "#4D5663"
         },
         "title": {
          "font": {
           "color": "#4D5663"
          },
          "text": ""
         },
         "zerolinecolor": "#E1E5ED"
        },
        "yaxis3": {
         "anchor": "x3",
         "domain": [
          0.8025,
          1.0
         ],
         "gridcolor": "#E1E5ED",
         "showgrid": false,
         "tickfont": {
          "color": "#4D5663"
         },
         "title": {
          "font": {
           "color": "#4D5663"
          },
          "text": ""
         },
         "zerolinecolor": "#E1E5ED"
        },
        "xaxis4": {
         "anchor": "y4",
         "domain": [
          0.7875,
          1.0
         ],
         "gridcolor": "#E1E5ED",
         "showgrid": false,
         "tickfont": {
          "color": "#4D5663"
         },
         "title": {
          "font": {
           "color": "#4D5663"
          },
          "text": ""
         },
         "zerolinecolor": "#E1E5ED"
        },
        "yaxis4": {
         "anchor": "x4",
         "domain": [
          0.8025,
          1.0
         ],
         "gridcolor": "#E1E5ED",
         "showgrid": false,
         "tickfont": {
          "color": "#4D5663"
         },
         "title": {
          "font": {
           "color": "#4D5663"
          },
          "text": ""
         },
         "zerolinecolor": "#E1E5ED"
        },
        "xaxis5": {
         "anchor": "y5",
         "domain": [
          0.0,
          0.2125
         ],
         "gridcolor": "#E1E5ED",
         "showgrid": false,
         "tickfont": {
          "color": "#4D5663"
         },
         "title": {
          "font": {
           "color": "#4D5663"
          },
          "text": ""
         },
         "zerolinecolor": "#E1E5ED"
        },
        "yaxis5": {
         "anchor": "x5",
         "domain": [
          0.535,
          0.7325
         ],
         "gridcolor": "#E1E5ED",
         "showgrid": false,
         "tickfont": {
          "color": "#4D5663"
         },
         "title": {
          "font": {
           "color": "#4D5663"
          },
          "text": ""
         },
         "zerolinecolor": "#E1E5ED"
        },
        "xaxis6": {
         "anchor": "y6",
         "domain": [
          0.2625,
          0.475
         ],
         "gridcolor": "#E1E5ED",
         "showgrid": false,
         "tickfont": {
          "color": "#4D5663"
         },
         "title": {
          "font": {
           "color": "#4D5663"
          },
          "text": ""
         },
         "zerolinecolor": "#E1E5ED"
        },
        "yaxis6": {
         "anchor": "x6",
         "domain": [
          0.535,
          0.7325
         ],
         "gridcolor": "#E1E5ED",
         "showgrid": false,
         "tickfont": {
          "color": "#4D5663"
         },
         "title": {
          "font": {
           "color": "#4D5663"
          },
          "text": ""
         },
         "zerolinecolor": "#E1E5ED"
        },
        "xaxis7": {
         "anchor": "y7",
         "domain": [
          0.525,
          0.7375
         ],
         "gridcolor": "#E1E5ED",
         "showgrid": false,
         "tickfont": {
          "color": "#4D5663"
         },
         "title": {
          "font": {
           "color": "#4D5663"
          },
          "text": ""
         },
         "zerolinecolor": "#E1E5ED"
        },
        "yaxis7": {
         "anchor": "x7",
         "domain": [
          0.535,
          0.7325
         ],
         "gridcolor": "#E1E5ED",
         "showgrid": false,
         "tickfont": {
          "color": "#4D5663"
         },
         "title": {
          "font": {
           "color": "#4D5663"
          },
          "text": ""
         },
         "zerolinecolor": "#E1E5ED"
        },
        "xaxis8": {
         "anchor": "y8",
         "domain": [
          0.7875,
          1.0
         ],
         "gridcolor": "#E1E5ED",
         "showgrid": false,
         "tickfont": {
          "color": "#4D5663"
         },
         "title": {
          "font": {
           "color": "#4D5663"
          },
          "text": ""
         },
         "zerolinecolor": "#E1E5ED"
        },
        "yaxis8": {
         "anchor": "x8",
         "domain": [
          0.535,
          0.7325
         ],
         "gridcolor": "#E1E5ED",
         "showgrid": false,
         "tickfont": {
          "color": "#4D5663"
         },
         "title": {
          "font": {
           "color": "#4D5663"
          },
          "text": ""
         },
         "zerolinecolor": "#E1E5ED"
        },
        "xaxis9": {
         "anchor": "y9",
         "domain": [
          0.0,
          0.2125
         ],
         "gridcolor": "#E1E5ED",
         "showgrid": false,
         "tickfont": {
          "color": "#4D5663"
         },
         "title": {
          "font": {
           "color": "#4D5663"
          },
          "text": ""
         },
         "zerolinecolor": "#E1E5ED"
        },
        "yaxis9": {
         "anchor": "x9",
         "domain": [
          0.2675,
          0.465
         ],
         "gridcolor": "#E1E5ED",
         "showgrid": false,
         "tickfont": {
          "color": "#4D5663"
         },
         "title": {
          "font": {
           "color": "#4D5663"
          },
          "text": ""
         },
         "zerolinecolor": "#E1E5ED"
        },
        "xaxis10": {
         "anchor": "y10",
         "domain": [
          0.2625,
          0.475
         ],
         "gridcolor": "#E1E5ED",
         "showgrid": false,
         "tickfont": {
          "color": "#4D5663"
         },
         "title": {
          "font": {
           "color": "#4D5663"
          },
          "text": ""
         },
         "zerolinecolor": "#E1E5ED"
        },
        "yaxis10": {
         "anchor": "x10",
         "domain": [
          0.2675,
          0.465
         ],
         "gridcolor": "#E1E5ED",
         "showgrid": false,
         "tickfont": {
          "color": "#4D5663"
         },
         "title": {
          "font": {
           "color": "#4D5663"
          },
          "text": ""
         },
         "zerolinecolor": "#E1E5ED"
        },
        "xaxis11": {
         "anchor": "y11",
         "domain": [
          0.525,
          0.7375
         ],
         "gridcolor": "#E1E5ED",
         "showgrid": false,
         "tickfont": {
          "color": "#4D5663"
         },
         "title": {
          "font": {
           "color": "#4D5663"
          },
          "text": ""
         },
         "zerolinecolor": "#E1E5ED"
        },
        "yaxis11": {
         "anchor": "x11",
         "domain": [
          0.2675,
          0.465
         ],
         "gridcolor": "#E1E5ED",
         "showgrid": false,
         "tickfont": {
          "color": "#4D5663"
         },
         "title": {
          "font": {
           "color": "#4D5663"
          },
          "text": ""
         },
         "zerolinecolor": "#E1E5ED"
        },
        "xaxis12": {
         "anchor": "y12",
         "domain": [
          0.7875,
          1.0
         ],
         "gridcolor": "#E1E5ED",
         "showgrid": false,
         "tickfont": {
          "color": "#4D5663"
         },
         "title": {
          "font": {
           "color": "#4D5663"
          },
          "text": ""
         },
         "zerolinecolor": "#E1E5ED"
        },
        "yaxis12": {
         "anchor": "x12",
         "domain": [
          0.2675,
          0.465
         ],
         "gridcolor": "#E1E5ED",
         "showgrid": false,
         "tickfont": {
          "color": "#4D5663"
         },
         "title": {
          "font": {
           "color": "#4D5663"
          },
          "text": ""
         },
         "zerolinecolor": "#E1E5ED"
        },
        "xaxis13": {
         "anchor": "y13",
         "domain": [
          0.0,
          0.2125
         ],
         "gridcolor": "#E1E5ED",
         "showgrid": false,
         "tickfont": {
          "color": "#4D5663"
         },
         "title": {
          "font": {
           "color": "#4D5663"
          },
          "text": ""
         },
         "zerolinecolor": "#E1E5ED"
        },
        "yaxis13": {
         "anchor": "x13",
         "domain": [
          0.0,
          0.1975
         ],
         "gridcolor": "#E1E5ED",
         "showgrid": false,
         "tickfont": {
          "color": "#4D5663"
         },
         "title": {
          "font": {
           "color": "#4D5663"
          },
          "text": ""
         },
         "zerolinecolor": "#E1E5ED"
        },
        "xaxis14": {
         "anchor": "y14",
         "domain": [
          0.2625,
          0.475
         ],
         "gridcolor": "#E1E5ED",
         "showgrid": false,
         "tickfont": {
          "color": "#4D5663"
         },
         "title": {
          "font": {
           "color": "#4D5663"
          },
          "text": ""
         },
         "zerolinecolor": "#E1E5ED"
        },
        "yaxis14": {
         "anchor": "x14",
         "domain": [
          0.0,
          0.1975
         ],
         "gridcolor": "#E1E5ED",
         "showgrid": false,
         "tickfont": {
          "color": "#4D5663"
         },
         "title": {
          "font": {
           "color": "#4D5663"
          },
          "text": ""
         },
         "zerolinecolor": "#E1E5ED"
        },
        "xaxis15": {
         "anchor": "y15",
         "domain": [
          0.525,
          0.7375
         ],
         "gridcolor": "#E1E5ED",
         "showgrid": false,
         "tickfont": {
          "color": "#4D5663"
         },
         "title": {
          "font": {
           "color": "#4D5663"
          },
          "text": ""
         },
         "zerolinecolor": "#E1E5ED"
        },
        "yaxis15": {
         "anchor": "x15",
         "domain": [
          0.0,
          0.1975
         ],
         "gridcolor": "#E1E5ED",
         "showgrid": false,
         "tickfont": {
          "color": "#4D5663"
         },
         "title": {
          "font": {
           "color": "#4D5663"
          },
          "text": ""
         },
         "zerolinecolor": "#E1E5ED"
        },
        "xaxis16": {
         "anchor": "y16",
         "domain": [
          0.7875,
          1.0
         ],
         "gridcolor": "#E1E5ED",
         "showgrid": false,
         "tickfont": {
          "color": "#4D5663"
         },
         "title": {
          "font": {
           "color": "#4D5663"
          },
          "text": ""
         },
         "zerolinecolor": "#E1E5ED"
        },
        "yaxis16": {
         "anchor": "x16",
         "domain": [
          0.0,
          0.1975
         ],
         "gridcolor": "#E1E5ED",
         "showgrid": false,
         "tickfont": {
          "color": "#4D5663"
         },
         "title": {
          "font": {
           "color": "#4D5663"
          },
          "text": ""
         },
         "zerolinecolor": "#E1E5ED"
        }
       },
       "config": {
        "showLink": true,
        "linkText": "Export to plot.ly",
        "plotlyServerURL": "https://plot.ly"
       }
      },
      "text/html": "<div>                            <div id=\"0615f011-f931-4308-ba27-c1eb8003a6fb\" class=\"plotly-graph-div\" style=\"height:525px; width:100%;\"></div>            <script type=\"text/javascript\">                require([\"plotly\"], function(Plotly) {                    window.PLOTLYENV=window.PLOTLYENV || {};\n                    window.PLOTLYENV.BASE_URL='https://plot.ly';                                    if (document.getElementById(\"0615f011-f931-4308-ba27-c1eb8003a6fb\")) {                    Plotly.newPlot(                        \"0615f011-f931-4308-ba27-c1eb8003a6fb\",                        [{\"histfunc\":\"count\",\"histnorm\":\"\",\"marker\":{\"color\":\"rgba(255, 153, 51, 1.0)\",\"line\":{\"color\":\"#4D5663\",\"width\":1.3}},\"name\":\"A\",\"nbinsx\":10,\"opacity\":0.8,\"orientation\":\"v\",\"x\":[0.14822082851313306,-0.34608891272282194,0.24901271287272922,0.4240644884392381,1.0440983662883718,-1.276609077470786,0.7173135837709251,0.1724501564227296,-1.1216704493486236,0.781576014372293,1.1620631939397135,0.4150420570889104,-1.5521396830291718,-1.3169847130470722,-0.2781776254151489,0.06309633174302318,0.556436849059671,0.42210247531905687,-0.6290252194921633,2.0482652926239022,0.0780057701894443,-1.0368652381136363,-1.2541662496048762,1.3641269677974222,-0.5815112531984108,1.6930307786117214,-0.4427147377234606,-0.7445688117897638,-0.20096265500627905,-0.5983181907981495,-0.3337980932863787,0.6955202873612363,0.8211640518761578,0.058440132841781366,-0.9974922958576941,2.4395074569855955,0.3575072897242947,1.9390462165207785,0.7312082349367491,1.3447152116928895,0.444713249935464,-1.169786449791424,1.0023170061399884,-1.1243268576932697,1.4503665582180947,-0.2900040053277371,-0.5088719735190952,1.2334075477037256,0.22499907847027323,-0.024049951245375886,-0.8758256834084206,-0.3420189487010926,-0.8434583722408066,0.9204550472988404,0.30177024477047126,-0.377492562579996,-1.2884965453566963,0.7746009127096465,-1.64245210047636,0.8542126775410289,-1.3735030353907403,0.8781625056604911,-0.5396336594025676,-1.240198135750007,-0.09794950347543442,-1.312279745338373,0.17805532615954506,0.4299075147494006,-1.1404548328899988,-0.12310121442137532,0.4479245793802654,0.4070954259101387,0.16963828515414067,0.1973157313110605,0.5324630926125037,0.21260533811136523,0.12716194356615354,1.2611059982970452,-0.6971439837941964,-1.4514082154439494,0.6677974863476068,0.5997598573702173,0.2808773015398909,-1.0440558332737448,1.4802503737188173,0.05153994766676817,0.7364419340533024,-0.22705203539660515,-0.6021806468835678,0.4846678743214728,0.4093408586133741,-0.013933365361420797,-0.3141274672417357,0.7403120144688332,0.2110029004515611,-0.33877135624166815,1.6276636601277281,1.3798040926121122,-0.4122807594505736,-1.4787853580946055],\"xaxis\":\"x\",\"yaxis\":\"y\",\"type\":\"histogram\"},{\"line\":{\"color\":\"rgba(128, 128, 128, 1.0)\",\"dash\":\"solid\",\"shape\":\"linear\",\"width\":1.3},\"marker\":{\"size\":2,\"symbol\":\"circle\"},\"mode\":\"markers\",\"name\":\"A\",\"text\":\"\",\"x\":[0.09335618225132572,0.6352634109513319,0.41907936288113773,-0.22798076945126475,-0.4979082166152658,0.03694743289446904,-0.37499194262987345,-1.4320569215939702,-0.2362651597312885,-0.18580302242834376,-2.170568749583378,-0.2527090527912323,-0.3177640387438962,1.3882022876173679,0.5087337692119102,1.7927682536553873,1.2236875377203562,0.21001523755733584,-0.7705541428181553,-0.43484129193107846,-1.4119778801694032,0.9229043979660734,-0.9299146017445847,0.6939271421218565,-0.27618229521632587,2.793021145864615,1.2992340751988656,-1.555370384056118,0.9211366472786398,0.23246834371802508,-1.4410620003372667,-1.1594196104741066,-0.7549479395256614,0.5320441673034443,-1.302371037353287,0.584221182953409,-0.5033363547574853,0.6400333546853904,0.5184263100005203,-0.6092283231484559,-0.8908992929710426,-1.9029428961269146,-0.18158043368950857,0.5008460201718647,-0.1809839430908216,0.7513366197730661,1.922128688864836,0.27485200154688366,-1.3545615921278709,-1.2563620191833995,-0.9748758879945009,-1.9347921316496997,1.5480818687161126,0.12803884189053585,0.6578478863662082,1.2550663929317016,-0.15789460063418348,0.70624349330054,2.110389847005232,-0.8613836802255759,2.430361827827879,-1.1822130719974753,0.7822023619471686,-0.035320864702165104,0.18972620513775132,0.7294931706303271,-0.03774964034918003,1.8175022537610461,0.6367475715019699,-1.29353184816196,0.13556306215106625,-1.1271960376428591,-1.6224500213091382,-0.2626706502000504,-1.0563994576913762,0.14360288063488147,-0.4303216252174318,-1.135237282678753,0.3914594104893218,1.2882790913971087,-0.8583955336919064,-0.5164129539465653,-0.9847788181104075,-0.5640171075998446,1.117732906799216,-0.672617658730878,0.47756166289699004,-1.3525120817432912,-1.015732220293894,-0.5234140283791064,-1.2756075837861574,-0.4061080448964347,-0.545509458282861,-0.8687754951278084,0.19169077957013955,-0.960008089175775,1.2222908778070325,0.1644915055542513,0.9533726745254081,-0.5249693115821974],\"xaxis\":\"x2\",\"y\":[0.14822082851313306,-0.34608891272282194,0.24901271287272922,0.4240644884392381,1.0440983662883718,-1.276609077470786,0.7173135837709251,0.1724501564227296,-1.1216704493486236,0.781576014372293,1.1620631939397135,0.4150420570889104,-1.5521396830291718,-1.3169847130470722,-0.2781776254151489,0.06309633174302318,0.556436849059671,0.42210247531905687,-0.6290252194921633,2.0482652926239022,0.0780057701894443,-1.0368652381136363,-1.2541662496048762,1.3641269677974222,-0.5815112531984108,1.6930307786117214,-0.4427147377234606,-0.7445688117897638,-0.20096265500627905,-0.5983181907981495,-0.3337980932863787,0.6955202873612363,0.8211640518761578,0.058440132841781366,-0.9974922958576941,2.4395074569855955,0.3575072897242947,1.9390462165207785,0.7312082349367491,1.3447152116928895,0.444713249935464,-1.169786449791424,1.0023170061399884,-1.1243268576932697,1.4503665582180947,-0.2900040053277371,-0.5088719735190952,1.2334075477037256,0.22499907847027323,-0.024049951245375886,-0.8758256834084206,-0.3420189487010926,-0.8434583722408066,0.9204550472988404,0.30177024477047126,-0.377492562579996,-1.2884965453566963,0.7746009127096465,-1.64245210047636,0.8542126775410289,-1.3735030353907403,0.8781625056604911,-0.5396336594025676,-1.240198135750007,-0.09794950347543442,-1.312279745338373,0.17805532615954506,0.4299075147494006,-1.1404548328899988,-0.12310121442137532,0.4479245793802654,0.4070954259101387,0.16963828515414067,0.1973157313110605,0.5324630926125037,0.21260533811136523,0.12716194356615354,1.2611059982970452,-0.6971439837941964,-1.4514082154439494,0.6677974863476068,0.5997598573702173,0.2808773015398909,-1.0440558332737448,1.4802503737188173,0.05153994766676817,0.7364419340533024,-0.22705203539660515,-0.6021806468835678,0.4846678743214728,0.4093408586133741,-0.013933365361420797,-0.3141274672417357,0.7403120144688332,0.2110029004515611,-0.33877135624166815,1.6276636601277281,1.3798040926121122,-0.4122807594505736,-1.4787853580946055],\"yaxis\":\"y2\",\"type\":\"scatter\"},{\"line\":{\"color\":\"rgba(128, 128, 128, 1.0)\",\"dash\":\"solid\",\"shape\":\"linear\",\"width\":1.3},\"marker\":{\"size\":2,\"symbol\":\"circle\"},\"mode\":\"markers\",\"name\":\"A\",\"text\":\"\",\"x\":[-1.6953689677756643,1.8194720346242286,-0.6831311730543547,0.5781253867149284,1.6716821802956356,0.5213057287780627,1.4582252043915573,0.10514172777912444,0.5236167417267704,-0.03565465227963288,-0.020885680628682363,1.200145550200681,-0.9846904469215673,0.10950711263964928,1.0445853242309007,0.27529157697533474,0.5983208824340993,-0.3681703126977821,0.5264459784317566,-1.8901304008258482,0.41053724058531343,2.149413721393953,-0.14829351925723355,0.28481667406600414,1.2966105484939134,1.7764474949850584,-0.8658047995647816,0.5308213817143275,-1.120788356364344,1.9454034638537745,1.0587558084959137,-0.7674713924003651,-0.6267594064371546,-0.04346827274230348,-1.0422634069846766,0.09969074130040292,0.39073622722129364,-0.5928957144835026,-0.9641123834614155,-0.2677946868200473,-0.7777178807479489,0.7158199246051675,0.8143290570752546,-0.20654314807608365,-0.6537455646422298,0.22089986844224546,-0.2225633079250923,-0.4534145079716638,0.5861747969856174,-0.8359347930593233,-1.1263047126460155,-0.8262738830817886,-1.7113495932158238,0.08988046821639137,0.17889806708828568,0.6012322374099268,-2.292343144986237,-0.37576863802106686,-0.5461466161962525,-1.1285084981517282,0.25345271040546635,-0.7382027317539311,-0.4164404058879414,0.34892979575774963,-0.5162902086952994,0.10384774185504225,0.04891738989556161,-0.19568143903196195,-0.29457643181972093,1.68215698400926,-0.991347167285361,0.10168122028707241,0.7650140058185785,-0.38206239630257804,0.5662355891522727,0.4099861289131352,1.5423675075616017,-0.2184266039919825,-0.995442082795395,0.4697414139371775,0.8434702620443851,0.21731369535359624,-1.4495647123157822,1.2389903416842123,0.6192037649559717,-0.29962795697765315,0.12043705971204607,0.20746825573080724,-0.6924691888855892,-0.5135158353185701,1.7586618431631418,0.11614058265889382,1.2664850969917103,-0.4829830914711651,-0.7037313752472822,-0.7411842833636715,-0.3546797425798537,0.575255402927518,1.8261781483347446,0.40500211093860605],\"xaxis\":\"x3\",\"y\":[0.14822082851313306,-0.34608891272282194,0.24901271287272922,0.4240644884392381,1.0440983662883718,-1.276609077470786,0.7173135837709251,0.1724501564227296,-1.1216704493486236,0.781576014372293,1.1620631939397135,0.4150420570889104,-1.5521396830291718,-1.3169847130470722,-0.2781776254151489,0.06309633174302318,0.556436849059671,0.42210247531905687,-0.6290252194921633,2.0482652926239022,0.0780057701894443,-1.0368652381136363,-1.2541662496048762,1.3641269677974222,-0.5815112531984108,1.6930307786117214,-0.4427147377234606,-0.7445688117897638,-0.20096265500627905,-0.5983181907981495,-0.3337980932863787,0.6955202873612363,0.8211640518761578,0.058440132841781366,-0.9974922958576941,2.4395074569855955,0.3575072897242947,1.9390462165207785,0.7312082349367491,1.3447152116928895,0.444713249935464,-1.169786449791424,1.0023170061399884,-1.1243268576932697,1.4503665582180947,-0.2900040053277371,-0.5088719735190952,1.2334075477037256,0.22499907847027323,-0.024049951245375886,-0.8758256834084206,-0.3420189487010926,-0.8434583722408066,0.9204550472988404,0.30177024477047126,-0.377492562579996,-1.2884965453566963,0.7746009127096465,-1.64245210047636,0.8542126775410289,-1.3735030353907403,0.8781625056604911,-0.5396336594025676,-1.240198135750007,-0.09794950347543442,-1.312279745338373,0.17805532615954506,0.4299075147494006,-1.1404548328899988,-0.12310121442137532,0.4479245793802654,0.4070954259101387,0.16963828515414067,0.1973157313110605,0.5324630926125037,0.21260533811136523,0.12716194356615354,1.2611059982970452,-0.6971439837941964,-1.4514082154439494,0.6677974863476068,0.5997598573702173,0.2808773015398909,-1.0440558332737448,1.4802503737188173,0.05153994766676817,0.7364419340533024,-0.22705203539660515,-0.6021806468835678,0.4846678743214728,0.4093408586133741,-0.013933365361420797,-0.3141274672417357,0.7403120144688332,0.2110029004515611,-0.33877135624166815,1.6276636601277281,1.3798040926121122,-0.4122807594505736,-1.4787853580946055],\"yaxis\":\"y3\",\"type\":\"scatter\"},{\"line\":{\"color\":\"rgba(128, 128, 128, 1.0)\",\"dash\":\"solid\",\"shape\":\"linear\",\"width\":1.3},\"marker\":{\"size\":2,\"symbol\":\"circle\"},\"mode\":\"markers\",\"name\":\"A\",\"text\":\"\",\"x\":[-0.16933702153120564,0.015463130330103832,1.1675431867274206,0.19510235270609524,0.023244950986804076,-0.37084609411017183,0.6548316799850522,-0.5189778691535102,0.2342070769750843,-1.3154796961121293,0.07527562161836437,-1.3697340353562337,-0.06697804745639586,1.867587665665157,-0.8791349758077466,-0.13386295401003215,1.1106756300478267,0.3273515579371792,0.8318787857317058,-1.4787163202440299,0.4333955884638258,-0.0770530734167716,1.526949947941122,-2.6779294588249183,0.19503577800948696,-0.5008917242815318,-1.2531748428674667,-1.1186659050017485,-1.2209454510933775,0.7104124836933191,-0.8391663887848211,-1.9153402613109618,0.17494802244639612,-2.106112580988103,0.0639331682961319,0.13762601799049493,-1.2848517178910825,0.35066226007728657,-0.6855730595214085,-1.1029537437208903,1.1712444443711851,0.7015001766568368,-0.807228931851719,0.793150685361422,0.05898327588761141,-0.04896712168972895,0.6167559996629923,0.7742544408088669,-0.3631227773459395,-0.4582538474457079,0.6660470856420727,1.9672804673117001,0.6173397582651268,1.622227103562318,0.8209377515075237,0.14434093083396204,-0.5949426378441042,-1.3223803511042727,-0.42172174268526674,-0.08188115397897601,-0.36198727855559226,-0.5680999366641512,-0.45572150400210526,0.34972678193727913,-0.0976013864021273,0.6797156066515974,0.7468042045420421,1.1682632978663434,1.959349756903216,1.5395954090028838,-0.2499787291211412,0.4225481189522686,-0.6409770800538417,-2.114163622529517,-0.21237873104875202,-0.07289603503302809,0.4600098844886235,-0.7872652085433337,-0.6159552178726073,-0.7685467376113275,1.442924207863347,0.07116527971277739,-0.17232643285380164,-0.5198406428874589,-0.7427047695555723,0.6738139606718887,-1.577760071005201,-0.36124234958398077,0.3778100226106513,0.9786286951256322,1.8715841745997923,0.7703852378780824,0.39024405309669197,2.092360580059444,-0.5922001644371345,-1.1485583853852506,-0.21989667043942174,-1.7498720338018705,0.6132968045817001,0.28378004178725824],\"xaxis\":\"x4\",\"y\":[0.14822082851313306,-0.34608891272282194,0.24901271287272922,0.4240644884392381,1.0440983662883718,-1.276609077470786,0.7173135837709251,0.1724501564227296,-1.1216704493486236,0.781576014372293,1.1620631939397135,0.4150420570889104,-1.5521396830291718,-1.3169847130470722,-0.2781776254151489,0.06309633174302318,0.556436849059671,0.42210247531905687,-0.6290252194921633,2.0482652926239022,0.0780057701894443,-1.0368652381136363,-1.2541662496048762,1.3641269677974222,-0.5815112531984108,1.6930307786117214,-0.4427147377234606,-0.7445688117897638,-0.20096265500627905,-0.5983181907981495,-0.3337980932863787,0.6955202873612363,0.8211640518761578,0.058440132841781366,-0.9974922958576941,2.4395074569855955,0.3575072897242947,1.9390462165207785,0.7312082349367491,1.3447152116928895,0.444713249935464,-1.169786449791424,1.0023170061399884,-1.1243268576932697,1.4503665582180947,-0.2900040053277371,-0.5088719735190952,1.2334075477037256,0.22499907847027323,-0.024049951245375886,-0.8758256834084206,-0.3420189487010926,-0.8434583722408066,0.9204550472988404,0.30177024477047126,-0.377492562579996,-1.2884965453566963,0.7746009127096465,-1.64245210047636,0.8542126775410289,-1.3735030353907403,0.8781625056604911,-0.5396336594025676,-1.240198135750007,-0.09794950347543442,-1.312279745338373,0.17805532615954506,0.4299075147494006,-1.1404548328899988,-0.12310121442137532,0.4479245793802654,0.4070954259101387,0.16963828515414067,0.1973157313110605,0.5324630926125037,0.21260533811136523,0.12716194356615354,1.2611059982970452,-0.6971439837941964,-1.4514082154439494,0.6677974863476068,0.5997598573702173,0.2808773015398909,-1.0440558332737448,1.4802503737188173,0.05153994766676817,0.7364419340533024,-0.22705203539660515,-0.6021806468835678,0.4846678743214728,0.4093408586133741,-0.013933365361420797,-0.3141274672417357,0.7403120144688332,0.2110029004515611,-0.33877135624166815,1.6276636601277281,1.3798040926121122,-0.4122807594505736,-1.4787853580946055],\"yaxis\":\"y4\",\"type\":\"scatter\"},{\"line\":{\"color\":\"rgba(128, 128, 128, 1.0)\",\"dash\":\"solid\",\"shape\":\"linear\",\"width\":1.3},\"marker\":{\"size\":2,\"symbol\":\"circle\"},\"mode\":\"markers\",\"name\":\"B\",\"text\":\"\",\"x\":[0.14822082851313306,-0.34608891272282194,0.24901271287272922,0.4240644884392381,1.0440983662883718,-1.276609077470786,0.7173135837709251,0.1724501564227296,-1.1216704493486236,0.781576014372293,1.1620631939397135,0.4150420570889104,-1.5521396830291718,-1.3169847130470722,-0.2781776254151489,0.06309633174302318,0.556436849059671,0.42210247531905687,-0.6290252194921633,2.0482652926239022,0.0780057701894443,-1.0368652381136363,-1.2541662496048762,1.3641269677974222,-0.5815112531984108,1.6930307786117214,-0.4427147377234606,-0.7445688117897638,-0.20096265500627905,-0.5983181907981495,-0.3337980932863787,0.6955202873612363,0.8211640518761578,0.058440132841781366,-0.9974922958576941,2.4395074569855955,0.3575072897242947,1.9390462165207785,0.7312082349367491,1.3447152116928895,0.444713249935464,-1.169786449791424,1.0023170061399884,-1.1243268576932697,1.4503665582180947,-0.2900040053277371,-0.5088719735190952,1.2334075477037256,0.22499907847027323,-0.024049951245375886,-0.8758256834084206,-0.3420189487010926,-0.8434583722408066,0.9204550472988404,0.30177024477047126,-0.377492562579996,-1.2884965453566963,0.7746009127096465,-1.64245210047636,0.8542126775410289,-1.3735030353907403,0.8781625056604911,-0.5396336594025676,-1.240198135750007,-0.09794950347543442,-1.312279745338373,0.17805532615954506,0.4299075147494006,-1.1404548328899988,-0.12310121442137532,0.4479245793802654,0.4070954259101387,0.16963828515414067,0.1973157313110605,0.5324630926125037,0.21260533811136523,0.12716194356615354,1.2611059982970452,-0.6971439837941964,-1.4514082154439494,0.6677974863476068,0.5997598573702173,0.2808773015398909,-1.0440558332737448,1.4802503737188173,0.05153994766676817,0.7364419340533024,-0.22705203539660515,-0.6021806468835678,0.4846678743214728,0.4093408586133741,-0.013933365361420797,-0.3141274672417357,0.7403120144688332,0.2110029004515611,-0.33877135624166815,1.6276636601277281,1.3798040926121122,-0.4122807594505736,-1.4787853580946055],\"xaxis\":\"x5\",\"y\":[0.09335618225132572,0.6352634109513319,0.41907936288113773,-0.22798076945126475,-0.4979082166152658,0.03694743289446904,-0.37499194262987345,-1.4320569215939702,-0.2362651597312885,-0.18580302242834376,-2.170568749583378,-0.2527090527912323,-0.3177640387438962,1.3882022876173679,0.5087337692119102,1.7927682536553873,1.2236875377203562,0.21001523755733584,-0.7705541428181553,-0.43484129193107846,-1.4119778801694032,0.9229043979660734,-0.9299146017445847,0.6939271421218565,-0.27618229521632587,2.793021145864615,1.2992340751988656,-1.555370384056118,0.9211366472786398,0.23246834371802508,-1.4410620003372667,-1.1594196104741066,-0.7549479395256614,0.5320441673034443,-1.302371037353287,0.584221182953409,-0.5033363547574853,0.6400333546853904,0.5184263100005203,-0.6092283231484559,-0.8908992929710426,-1.9029428961269146,-0.18158043368950857,0.5008460201718647,-0.1809839430908216,0.7513366197730661,1.922128688864836,0.27485200154688366,-1.3545615921278709,-1.2563620191833995,-0.9748758879945009,-1.9347921316496997,1.5480818687161126,0.12803884189053585,0.6578478863662082,1.2550663929317016,-0.15789460063418348,0.70624349330054,2.110389847005232,-0.8613836802255759,2.430361827827879,-1.1822130719974753,0.7822023619471686,-0.035320864702165104,0.18972620513775132,0.7294931706303271,-0.03774964034918003,1.8175022537610461,0.6367475715019699,-1.29353184816196,0.13556306215106625,-1.1271960376428591,-1.6224500213091382,-0.2626706502000504,-1.0563994576913762,0.14360288063488147,-0.4303216252174318,-1.135237282678753,0.3914594104893218,1.2882790913971087,-0.8583955336919064,-0.5164129539465653,-0.9847788181104075,-0.5640171075998446,1.117732906799216,-0.672617658730878,0.47756166289699004,-1.3525120817432912,-1.015732220293894,-0.5234140283791064,-1.2756075837861574,-0.4061080448964347,-0.545509458282861,-0.8687754951278084,0.19169077957013955,-0.960008089175775,1.2222908778070325,0.1644915055542513,0.9533726745254081,-0.5249693115821974],\"yaxis\":\"y5\",\"type\":\"scatter\"},{\"histfunc\":\"count\",\"histnorm\":\"\",\"marker\":{\"color\":\"rgba(55, 128, 191, 1.0)\",\"line\":{\"color\":\"#4D5663\",\"width\":1.3}},\"name\":\"B\",\"nbinsx\":10,\"opacity\":0.8,\"orientation\":\"v\",\"x\":[0.09335618225132572,0.6352634109513319,0.41907936288113773,-0.22798076945126475,-0.4979082166152658,0.03694743289446904,-0.37499194262987345,-1.4320569215939702,-0.2362651597312885,-0.18580302242834376,-2.170568749583378,-0.2527090527912323,-0.3177640387438962,1.3882022876173679,0.5087337692119102,1.7927682536553873,1.2236875377203562,0.21001523755733584,-0.7705541428181553,-0.43484129193107846,-1.4119778801694032,0.9229043979660734,-0.9299146017445847,0.6939271421218565,-0.27618229521632587,2.793021145864615,1.2992340751988656,-1.555370384056118,0.9211366472786398,0.23246834371802508,-1.4410620003372667,-1.1594196104741066,-0.7549479395256614,0.5320441673034443,-1.302371037353287,0.584221182953409,-0.5033363547574853,0.6400333546853904,0.5184263100005203,-0.6092283231484559,-0.8908992929710426,-1.9029428961269146,-0.18158043368950857,0.5008460201718647,-0.1809839430908216,0.7513366197730661,1.922128688864836,0.27485200154688366,-1.3545615921278709,-1.2563620191833995,-0.9748758879945009,-1.9347921316496997,1.5480818687161126,0.12803884189053585,0.6578478863662082,1.2550663929317016,-0.15789460063418348,0.70624349330054,2.110389847005232,-0.8613836802255759,2.430361827827879,-1.1822130719974753,0.7822023619471686,-0.035320864702165104,0.18972620513775132,0.7294931706303271,-0.03774964034918003,1.8175022537610461,0.6367475715019699,-1.29353184816196,0.13556306215106625,-1.1271960376428591,-1.6224500213091382,-0.2626706502000504,-1.0563994576913762,0.14360288063488147,-0.4303216252174318,-1.135237282678753,0.3914594104893218,1.2882790913971087,-0.8583955336919064,-0.5164129539465653,-0.9847788181104075,-0.5640171075998446,1.117732906799216,-0.672617658730878,0.47756166289699004,-1.3525120817432912,-1.015732220293894,-0.5234140283791064,-1.2756075837861574,-0.4061080448964347,-0.545509458282861,-0.8687754951278084,0.19169077957013955,-0.960008089175775,1.2222908778070325,0.1644915055542513,0.9533726745254081,-0.5249693115821974],\"xaxis\":\"x6\",\"yaxis\":\"y6\",\"type\":\"histogram\"},{\"line\":{\"color\":\"rgba(128, 128, 128, 1.0)\",\"dash\":\"solid\",\"shape\":\"linear\",\"width\":1.3},\"marker\":{\"size\":2,\"symbol\":\"circle\"},\"mode\":\"markers\",\"name\":\"B\",\"text\":\"\",\"x\":[-1.6953689677756643,1.8194720346242286,-0.6831311730543547,0.5781253867149284,1.6716821802956356,0.5213057287780627,1.4582252043915573,0.10514172777912444,0.5236167417267704,-0.03565465227963288,-0.020885680628682363,1.200145550200681,-0.9846904469215673,0.10950711263964928,1.0445853242309007,0.27529157697533474,0.5983208824340993,-0.3681703126977821,0.5264459784317566,-1.8901304008258482,0.41053724058531343,2.149413721393953,-0.14829351925723355,0.28481667406600414,1.2966105484939134,1.7764474949850584,-0.8658047995647816,0.5308213817143275,-1.120788356364344,1.9454034638537745,1.0587558084959137,-0.7674713924003651,-0.6267594064371546,-0.04346827274230348,-1.0422634069846766,0.09969074130040292,0.39073622722129364,-0.5928957144835026,-0.9641123834614155,-0.2677946868200473,-0.7777178807479489,0.7158199246051675,0.8143290570752546,-0.20654314807608365,-0.6537455646422298,0.22089986844224546,-0.2225633079250923,-0.4534145079716638,0.5861747969856174,-0.8359347930593233,-1.1263047126460155,-0.8262738830817886,-1.7113495932158238,0.08988046821639137,0.17889806708828568,0.6012322374099268,-2.292343144986237,-0.37576863802106686,-0.5461466161962525,-1.1285084981517282,0.25345271040546635,-0.7382027317539311,-0.4164404058879414,0.34892979575774963,-0.5162902086952994,0.10384774185504225,0.04891738989556161,-0.19568143903196195,-0.29457643181972093,1.68215698400926,-0.991347167285361,0.10168122028707241,0.7650140058185785,-0.38206239630257804,0.5662355891522727,0.4099861289131352,1.5423675075616017,-0.2184266039919825,-0.995442082795395,0.4697414139371775,0.8434702620443851,0.21731369535359624,-1.4495647123157822,1.2389903416842123,0.6192037649559717,-0.29962795697765315,0.12043705971204607,0.20746825573080724,-0.6924691888855892,-0.5135158353185701,1.7586618431631418,0.11614058265889382,1.2664850969917103,-0.4829830914711651,-0.7037313752472822,-0.7411842833636715,-0.3546797425798537,0.575255402927518,1.8261781483347446,0.40500211093860605],\"xaxis\":\"x7\",\"y\":[0.09335618225132572,0.6352634109513319,0.41907936288113773,-0.22798076945126475,-0.4979082166152658,0.03694743289446904,-0.37499194262987345,-1.4320569215939702,-0.2362651597312885,-0.18580302242834376,-2.170568749583378,-0.2527090527912323,-0.3177640387438962,1.3882022876173679,0.5087337692119102,1.7927682536553873,1.2236875377203562,0.21001523755733584,-0.7705541428181553,-0.43484129193107846,-1.4119778801694032,0.9229043979660734,-0.9299146017445847,0.6939271421218565,-0.27618229521632587,2.793021145864615,1.2992340751988656,-1.555370384056118,0.9211366472786398,0.23246834371802508,-1.4410620003372667,-1.1594196104741066,-0.7549479395256614,0.5320441673034443,-1.302371037353287,0.584221182953409,-0.5033363547574853,0.6400333546853904,0.5184263100005203,-0.6092283231484559,-0.8908992929710426,-1.9029428961269146,-0.18158043368950857,0.5008460201718647,-0.1809839430908216,0.7513366197730661,1.922128688864836,0.27485200154688366,-1.3545615921278709,-1.2563620191833995,-0.9748758879945009,-1.9347921316496997,1.5480818687161126,0.12803884189053585,0.6578478863662082,1.2550663929317016,-0.15789460063418348,0.70624349330054,2.110389847005232,-0.8613836802255759,2.430361827827879,-1.1822130719974753,0.7822023619471686,-0.035320864702165104,0.18972620513775132,0.7294931706303271,-0.03774964034918003,1.8175022537610461,0.6367475715019699,-1.29353184816196,0.13556306215106625,-1.1271960376428591,-1.6224500213091382,-0.2626706502000504,-1.0563994576913762,0.14360288063488147,-0.4303216252174318,-1.135237282678753,0.3914594104893218,1.2882790913971087,-0.8583955336919064,-0.5164129539465653,-0.9847788181104075,-0.5640171075998446,1.117732906799216,-0.672617658730878,0.47756166289699004,-1.3525120817432912,-1.015732220293894,-0.5234140283791064,-1.2756075837861574,-0.4061080448964347,-0.545509458282861,-0.8687754951278084,0.19169077957013955,-0.960008089175775,1.2222908778070325,0.1644915055542513,0.9533726745254081,-0.5249693115821974],\"yaxis\":\"y7\",\"type\":\"scatter\"},{\"line\":{\"color\":\"rgba(128, 128, 128, 1.0)\",\"dash\":\"solid\",\"shape\":\"linear\",\"width\":1.3},\"marker\":{\"size\":2,\"symbol\":\"circle\"},\"mode\":\"markers\",\"name\":\"B\",\"text\":\"\",\"x\":[-0.16933702153120564,0.015463130330103832,1.1675431867274206,0.19510235270609524,0.023244950986804076,-0.37084609411017183,0.6548316799850522,-0.5189778691535102,0.2342070769750843,-1.3154796961121293,0.07527562161836437,-1.3697340353562337,-0.06697804745639586,1.867587665665157,-0.8791349758077466,-0.13386295401003215,1.1106756300478267,0.3273515579371792,0.8318787857317058,-1.4787163202440299,0.4333955884638258,-0.0770530734167716,1.526949947941122,-2.6779294588249183,0.19503577800948696,-0.5008917242815318,-1.2531748428674667,-1.1186659050017485,-1.2209454510933775,0.7104124836933191,-0.8391663887848211,-1.9153402613109618,0.17494802244639612,-2.106112580988103,0.0639331682961319,0.13762601799049493,-1.2848517178910825,0.35066226007728657,-0.6855730595214085,-1.1029537437208903,1.1712444443711851,0.7015001766568368,-0.807228931851719,0.793150685361422,0.05898327588761141,-0.04896712168972895,0.6167559996629923,0.7742544408088669,-0.3631227773459395,-0.4582538474457079,0.6660470856420727,1.9672804673117001,0.6173397582651268,1.622227103562318,0.8209377515075237,0.14434093083396204,-0.5949426378441042,-1.3223803511042727,-0.42172174268526674,-0.08188115397897601,-0.36198727855559226,-0.5680999366641512,-0.45572150400210526,0.34972678193727913,-0.0976013864021273,0.6797156066515974,0.7468042045420421,1.1682632978663434,1.959349756903216,1.5395954090028838,-0.2499787291211412,0.4225481189522686,-0.6409770800538417,-2.114163622529517,-0.21237873104875202,-0.07289603503302809,0.4600098844886235,-0.7872652085433337,-0.6159552178726073,-0.7685467376113275,1.442924207863347,0.07116527971277739,-0.17232643285380164,-0.5198406428874589,-0.7427047695555723,0.6738139606718887,-1.577760071005201,-0.36124234958398077,0.3778100226106513,0.9786286951256322,1.8715841745997923,0.7703852378780824,0.39024405309669197,2.092360580059444,-0.5922001644371345,-1.1485583853852506,-0.21989667043942174,-1.7498720338018705,0.6132968045817001,0.28378004178725824],\"xaxis\":\"x8\",\"y\":[0.09335618225132572,0.6352634109513319,0.41907936288113773,-0.22798076945126475,-0.4979082166152658,0.03694743289446904,-0.37499194262987345,-1.4320569215939702,-0.2362651597312885,-0.18580302242834376,-2.170568749583378,-0.2527090527912323,-0.3177640387438962,1.3882022876173679,0.5087337692119102,1.7927682536553873,1.2236875377203562,0.21001523755733584,-0.7705541428181553,-0.43484129193107846,-1.4119778801694032,0.9229043979660734,-0.9299146017445847,0.6939271421218565,-0.27618229521632587,2.793021145864615,1.2992340751988656,-1.555370384056118,0.9211366472786398,0.23246834371802508,-1.4410620003372667,-1.1594196104741066,-0.7549479395256614,0.5320441673034443,-1.302371037353287,0.584221182953409,-0.5033363547574853,0.6400333546853904,0.5184263100005203,-0.6092283231484559,-0.8908992929710426,-1.9029428961269146,-0.18158043368950857,0.5008460201718647,-0.1809839430908216,0.7513366197730661,1.922128688864836,0.27485200154688366,-1.3545615921278709,-1.2563620191833995,-0.9748758879945009,-1.9347921316496997,1.5480818687161126,0.12803884189053585,0.6578478863662082,1.2550663929317016,-0.15789460063418348,0.70624349330054,2.110389847005232,-0.8613836802255759,2.430361827827879,-1.1822130719974753,0.7822023619471686,-0.035320864702165104,0.18972620513775132,0.7294931706303271,-0.03774964034918003,1.8175022537610461,0.6367475715019699,-1.29353184816196,0.13556306215106625,-1.1271960376428591,-1.6224500213091382,-0.2626706502000504,-1.0563994576913762,0.14360288063488147,-0.4303216252174318,-1.135237282678753,0.3914594104893218,1.2882790913971087,-0.8583955336919064,-0.5164129539465653,-0.9847788181104075,-0.5640171075998446,1.117732906799216,-0.672617658730878,0.47756166289699004,-1.3525120817432912,-1.015732220293894,-0.5234140283791064,-1.2756075837861574,-0.4061080448964347,-0.545509458282861,-0.8687754951278084,0.19169077957013955,-0.960008089175775,1.2222908778070325,0.1644915055542513,0.9533726745254081,-0.5249693115821974],\"yaxis\":\"y8\",\"type\":\"scatter\"},{\"line\":{\"color\":\"rgba(128, 128, 128, 1.0)\",\"dash\":\"solid\",\"shape\":\"linear\",\"width\":1.3},\"marker\":{\"size\":2,\"symbol\":\"circle\"},\"mode\":\"markers\",\"name\":\"C\",\"text\":\"\",\"x\":[0.14822082851313306,-0.34608891272282194,0.24901271287272922,0.4240644884392381,1.0440983662883718,-1.276609077470786,0.7173135837709251,0.1724501564227296,-1.1216704493486236,0.781576014372293,1.1620631939397135,0.4150420570889104,-1.5521396830291718,-1.3169847130470722,-0.2781776254151489,0.06309633174302318,0.556436849059671,0.42210247531905687,-0.6290252194921633,2.0482652926239022,0.0780057701894443,-1.0368652381136363,-1.2541662496048762,1.3641269677974222,-0.5815112531984108,1.6930307786117214,-0.4427147377234606,-0.7445688117897638,-0.20096265500627905,-0.5983181907981495,-0.3337980932863787,0.6955202873612363,0.8211640518761578,0.058440132841781366,-0.9974922958576941,2.4395074569855955,0.3575072897242947,1.9390462165207785,0.7312082349367491,1.3447152116928895,0.444713249935464,-1.169786449791424,1.0023170061399884,-1.1243268576932697,1.4503665582180947,-0.2900040053277371,-0.5088719735190952,1.2334075477037256,0.22499907847027323,-0.024049951245375886,-0.8758256834084206,-0.3420189487010926,-0.8434583722408066,0.9204550472988404,0.30177024477047126,-0.377492562579996,-1.2884965453566963,0.7746009127096465,-1.64245210047636,0.8542126775410289,-1.3735030353907403,0.8781625056604911,-0.5396336594025676,-1.240198135750007,-0.09794950347543442,-1.312279745338373,0.17805532615954506,0.4299075147494006,-1.1404548328899988,-0.12310121442137532,0.4479245793802654,0.4070954259101387,0.16963828515414067,0.1973157313110605,0.5324630926125037,0.21260533811136523,0.12716194356615354,1.2611059982970452,-0.6971439837941964,-1.4514082154439494,0.6677974863476068,0.5997598573702173,0.2808773015398909,-1.0440558332737448,1.4802503737188173,0.05153994766676817,0.7364419340533024,-0.22705203539660515,-0.6021806468835678,0.4846678743214728,0.4093408586133741,-0.013933365361420797,-0.3141274672417357,0.7403120144688332,0.2110029004515611,-0.33877135624166815,1.6276636601277281,1.3798040926121122,-0.4122807594505736,-1.4787853580946055],\"xaxis\":\"x9\",\"y\":[-1.6953689677756643,1.8194720346242286,-0.6831311730543547,0.5781253867149284,1.6716821802956356,0.5213057287780627,1.4582252043915573,0.10514172777912444,0.5236167417267704,-0.03565465227963288,-0.020885680628682363,1.200145550200681,-0.9846904469215673,0.10950711263964928,1.0445853242309007,0.27529157697533474,0.5983208824340993,-0.3681703126977821,0.5264459784317566,-1.8901304008258482,0.41053724058531343,2.149413721393953,-0.14829351925723355,0.28481667406600414,1.2966105484939134,1.7764474949850584,-0.8658047995647816,0.5308213817143275,-1.120788356364344,1.9454034638537745,1.0587558084959137,-0.7674713924003651,-0.6267594064371546,-0.04346827274230348,-1.0422634069846766,0.09969074130040292,0.39073622722129364,-0.5928957144835026,-0.9641123834614155,-0.2677946868200473,-0.7777178807479489,0.7158199246051675,0.8143290570752546,-0.20654314807608365,-0.6537455646422298,0.22089986844224546,-0.2225633079250923,-0.4534145079716638,0.5861747969856174,-0.8359347930593233,-1.1263047126460155,-0.8262738830817886,-1.7113495932158238,0.08988046821639137,0.17889806708828568,0.6012322374099268,-2.292343144986237,-0.37576863802106686,-0.5461466161962525,-1.1285084981517282,0.25345271040546635,-0.7382027317539311,-0.4164404058879414,0.34892979575774963,-0.5162902086952994,0.10384774185504225,0.04891738989556161,-0.19568143903196195,-0.29457643181972093,1.68215698400926,-0.991347167285361,0.10168122028707241,0.7650140058185785,-0.38206239630257804,0.5662355891522727,0.4099861289131352,1.5423675075616017,-0.2184266039919825,-0.995442082795395,0.4697414139371775,0.8434702620443851,0.21731369535359624,-1.4495647123157822,1.2389903416842123,0.6192037649559717,-0.29962795697765315,0.12043705971204607,0.20746825573080724,-0.6924691888855892,-0.5135158353185701,1.7586618431631418,0.11614058265889382,1.2664850969917103,-0.4829830914711651,-0.7037313752472822,-0.7411842833636715,-0.3546797425798537,0.575255402927518,1.8261781483347446,0.40500211093860605],\"yaxis\":\"y9\",\"type\":\"scatter\"},{\"line\":{\"color\":\"rgba(128, 128, 128, 1.0)\",\"dash\":\"solid\",\"shape\":\"linear\",\"width\":1.3},\"marker\":{\"size\":2,\"symbol\":\"circle\"},\"mode\":\"markers\",\"name\":\"C\",\"text\":\"\",\"x\":[0.09335618225132572,0.6352634109513319,0.41907936288113773,-0.22798076945126475,-0.4979082166152658,0.03694743289446904,-0.37499194262987345,-1.4320569215939702,-0.2362651597312885,-0.18580302242834376,-2.170568749583378,-0.2527090527912323,-0.3177640387438962,1.3882022876173679,0.5087337692119102,1.7927682536553873,1.2236875377203562,0.21001523755733584,-0.7705541428181553,-0.43484129193107846,-1.4119778801694032,0.9229043979660734,-0.9299146017445847,0.6939271421218565,-0.27618229521632587,2.793021145864615,1.2992340751988656,-1.555370384056118,0.9211366472786398,0.23246834371802508,-1.4410620003372667,-1.1594196104741066,-0.7549479395256614,0.5320441673034443,-1.302371037353287,0.584221182953409,-0.5033363547574853,0.6400333546853904,0.5184263100005203,-0.6092283231484559,-0.8908992929710426,-1.9029428961269146,-0.18158043368950857,0.5008460201718647,-0.1809839430908216,0.7513366197730661,1.922128688864836,0.27485200154688366,-1.3545615921278709,-1.2563620191833995,-0.9748758879945009,-1.9347921316496997,1.5480818687161126,0.12803884189053585,0.6578478863662082,1.2550663929317016,-0.15789460063418348,0.70624349330054,2.110389847005232,-0.8613836802255759,2.430361827827879,-1.1822130719974753,0.7822023619471686,-0.035320864702165104,0.18972620513775132,0.7294931706303271,-0.03774964034918003,1.8175022537610461,0.6367475715019699,-1.29353184816196,0.13556306215106625,-1.1271960376428591,-1.6224500213091382,-0.2626706502000504,-1.0563994576913762,0.14360288063488147,-0.4303216252174318,-1.135237282678753,0.3914594104893218,1.2882790913971087,-0.8583955336919064,-0.5164129539465653,-0.9847788181104075,-0.5640171075998446,1.117732906799216,-0.672617658730878,0.47756166289699004,-1.3525120817432912,-1.015732220293894,-0.5234140283791064,-1.2756075837861574,-0.4061080448964347,-0.545509458282861,-0.8687754951278084,0.19169077957013955,-0.960008089175775,1.2222908778070325,0.1644915055542513,0.9533726745254081,-0.5249693115821974],\"xaxis\":\"x10\",\"y\":[-1.6953689677756643,1.8194720346242286,-0.6831311730543547,0.5781253867149284,1.6716821802956356,0.5213057287780627,1.4582252043915573,0.10514172777912444,0.5236167417267704,-0.03565465227963288,-0.020885680628682363,1.200145550200681,-0.9846904469215673,0.10950711263964928,1.0445853242309007,0.27529157697533474,0.5983208824340993,-0.3681703126977821,0.5264459784317566,-1.8901304008258482,0.41053724058531343,2.149413721393953,-0.14829351925723355,0.28481667406600414,1.2966105484939134,1.7764474949850584,-0.8658047995647816,0.5308213817143275,-1.120788356364344,1.9454034638537745,1.0587558084959137,-0.7674713924003651,-0.6267594064371546,-0.04346827274230348,-1.0422634069846766,0.09969074130040292,0.39073622722129364,-0.5928957144835026,-0.9641123834614155,-0.2677946868200473,-0.7777178807479489,0.7158199246051675,0.8143290570752546,-0.20654314807608365,-0.6537455646422298,0.22089986844224546,-0.2225633079250923,-0.4534145079716638,0.5861747969856174,-0.8359347930593233,-1.1263047126460155,-0.8262738830817886,-1.7113495932158238,0.08988046821639137,0.17889806708828568,0.6012322374099268,-2.292343144986237,-0.37576863802106686,-0.5461466161962525,-1.1285084981517282,0.25345271040546635,-0.7382027317539311,-0.4164404058879414,0.34892979575774963,-0.5162902086952994,0.10384774185504225,0.04891738989556161,-0.19568143903196195,-0.29457643181972093,1.68215698400926,-0.991347167285361,0.10168122028707241,0.7650140058185785,-0.38206239630257804,0.5662355891522727,0.4099861289131352,1.5423675075616017,-0.2184266039919825,-0.995442082795395,0.4697414139371775,0.8434702620443851,0.21731369535359624,-1.4495647123157822,1.2389903416842123,0.6192037649559717,-0.29962795697765315,0.12043705971204607,0.20746825573080724,-0.6924691888855892,-0.5135158353185701,1.7586618431631418,0.11614058265889382,1.2664850969917103,-0.4829830914711651,-0.7037313752472822,-0.7411842833636715,-0.3546797425798537,0.575255402927518,1.8261781483347446,0.40500211093860605],\"yaxis\":\"y10\",\"type\":\"scatter\"},{\"histfunc\":\"count\",\"histnorm\":\"\",\"marker\":{\"color\":\"rgba(50, 171, 96, 1.0)\",\"line\":{\"color\":\"#4D5663\",\"width\":1.3}},\"name\":\"C\",\"nbinsx\":10,\"opacity\":0.8,\"orientation\":\"v\",\"x\":[-1.6953689677756643,1.8194720346242286,-0.6831311730543547,0.5781253867149284,1.6716821802956356,0.5213057287780627,1.4582252043915573,0.10514172777912444,0.5236167417267704,-0.03565465227963288,-0.020885680628682363,1.200145550200681,-0.9846904469215673,0.10950711263964928,1.0445853242309007,0.27529157697533474,0.5983208824340993,-0.3681703126977821,0.5264459784317566,-1.8901304008258482,0.41053724058531343,2.149413721393953,-0.14829351925723355,0.28481667406600414,1.2966105484939134,1.7764474949850584,-0.8658047995647816,0.5308213817143275,-1.120788356364344,1.9454034638537745,1.0587558084959137,-0.7674713924003651,-0.6267594064371546,-0.04346827274230348,-1.0422634069846766,0.09969074130040292,0.39073622722129364,-0.5928957144835026,-0.9641123834614155,-0.2677946868200473,-0.7777178807479489,0.7158199246051675,0.8143290570752546,-0.20654314807608365,-0.6537455646422298,0.22089986844224546,-0.2225633079250923,-0.4534145079716638,0.5861747969856174,-0.8359347930593233,-1.1263047126460155,-0.8262738830817886,-1.7113495932158238,0.08988046821639137,0.17889806708828568,0.6012322374099268,-2.292343144986237,-0.37576863802106686,-0.5461466161962525,-1.1285084981517282,0.25345271040546635,-0.7382027317539311,-0.4164404058879414,0.34892979575774963,-0.5162902086952994,0.10384774185504225,0.04891738989556161,-0.19568143903196195,-0.29457643181972093,1.68215698400926,-0.991347167285361,0.10168122028707241,0.7650140058185785,-0.38206239630257804,0.5662355891522727,0.4099861289131352,1.5423675075616017,-0.2184266039919825,-0.995442082795395,0.4697414139371775,0.8434702620443851,0.21731369535359624,-1.4495647123157822,1.2389903416842123,0.6192037649559717,-0.29962795697765315,0.12043705971204607,0.20746825573080724,-0.6924691888855892,-0.5135158353185701,1.7586618431631418,0.11614058265889382,1.2664850969917103,-0.4829830914711651,-0.7037313752472822,-0.7411842833636715,-0.3546797425798537,0.575255402927518,1.8261781483347446,0.40500211093860605],\"xaxis\":\"x11\",\"yaxis\":\"y11\",\"type\":\"histogram\"},{\"line\":{\"color\":\"rgba(128, 128, 128, 1.0)\",\"dash\":\"solid\",\"shape\":\"linear\",\"width\":1.3},\"marker\":{\"size\":2,\"symbol\":\"circle\"},\"mode\":\"markers\",\"name\":\"C\",\"text\":\"\",\"x\":[-0.16933702153120564,0.015463130330103832,1.1675431867274206,0.19510235270609524,0.023244950986804076,-0.37084609411017183,0.6548316799850522,-0.5189778691535102,0.2342070769750843,-1.3154796961121293,0.07527562161836437,-1.3697340353562337,-0.06697804745639586,1.867587665665157,-0.8791349758077466,-0.13386295401003215,1.1106756300478267,0.3273515579371792,0.8318787857317058,-1.4787163202440299,0.4333955884638258,-0.0770530734167716,1.526949947941122,-2.6779294588249183,0.19503577800948696,-0.5008917242815318,-1.2531748428674667,-1.1186659050017485,-1.2209454510933775,0.7104124836933191,-0.8391663887848211,-1.9153402613109618,0.17494802244639612,-2.106112580988103,0.0639331682961319,0.13762601799049493,-1.2848517178910825,0.35066226007728657,-0.6855730595214085,-1.1029537437208903,1.1712444443711851,0.7015001766568368,-0.807228931851719,0.793150685361422,0.05898327588761141,-0.04896712168972895,0.6167559996629923,0.7742544408088669,-0.3631227773459395,-0.4582538474457079,0.6660470856420727,1.9672804673117001,0.6173397582651268,1.622227103562318,0.8209377515075237,0.14434093083396204,-0.5949426378441042,-1.3223803511042727,-0.42172174268526674,-0.08188115397897601,-0.36198727855559226,-0.5680999366641512,-0.45572150400210526,0.34972678193727913,-0.0976013864021273,0.6797156066515974,0.7468042045420421,1.1682632978663434,1.959349756903216,1.5395954090028838,-0.2499787291211412,0.4225481189522686,-0.6409770800538417,-2.114163622529517,-0.21237873104875202,-0.07289603503302809,0.4600098844886235,-0.7872652085433337,-0.6159552178726073,-0.7685467376113275,1.442924207863347,0.07116527971277739,-0.17232643285380164,-0.5198406428874589,-0.7427047695555723,0.6738139606718887,-1.577760071005201,-0.36124234958398077,0.3778100226106513,0.9786286951256322,1.8715841745997923,0.7703852378780824,0.39024405309669197,2.092360580059444,-0.5922001644371345,-1.1485583853852506,-0.21989667043942174,-1.7498720338018705,0.6132968045817001,0.28378004178725824],\"xaxis\":\"x12\",\"y\":[-1.6953689677756643,1.8194720346242286,-0.6831311730543547,0.5781253867149284,1.6716821802956356,0.5213057287780627,1.4582252043915573,0.10514172777912444,0.5236167417267704,-0.03565465227963288,-0.020885680628682363,1.200145550200681,-0.9846904469215673,0.10950711263964928,1.0445853242309007,0.27529157697533474,0.5983208824340993,-0.3681703126977821,0.5264459784317566,-1.8901304008258482,0.41053724058531343,2.149413721393953,-0.14829351925723355,0.28481667406600414,1.2966105484939134,1.7764474949850584,-0.8658047995647816,0.5308213817143275,-1.120788356364344,1.9454034638537745,1.0587558084959137,-0.7674713924003651,-0.6267594064371546,-0.04346827274230348,-1.0422634069846766,0.09969074130040292,0.39073622722129364,-0.5928957144835026,-0.9641123834614155,-0.2677946868200473,-0.7777178807479489,0.7158199246051675,0.8143290570752546,-0.20654314807608365,-0.6537455646422298,0.22089986844224546,-0.2225633079250923,-0.4534145079716638,0.5861747969856174,-0.8359347930593233,-1.1263047126460155,-0.8262738830817886,-1.7113495932158238,0.08988046821639137,0.17889806708828568,0.6012322374099268,-2.292343144986237,-0.37576863802106686,-0.5461466161962525,-1.1285084981517282,0.25345271040546635,-0.7382027317539311,-0.4164404058879414,0.34892979575774963,-0.5162902086952994,0.10384774185504225,0.04891738989556161,-0.19568143903196195,-0.29457643181972093,1.68215698400926,-0.991347167285361,0.10168122028707241,0.7650140058185785,-0.38206239630257804,0.5662355891522727,0.4099861289131352,1.5423675075616017,-0.2184266039919825,-0.995442082795395,0.4697414139371775,0.8434702620443851,0.21731369535359624,-1.4495647123157822,1.2389903416842123,0.6192037649559717,-0.29962795697765315,0.12043705971204607,0.20746825573080724,-0.6924691888855892,-0.5135158353185701,1.7586618431631418,0.11614058265889382,1.2664850969917103,-0.4829830914711651,-0.7037313752472822,-0.7411842833636715,-0.3546797425798537,0.575255402927518,1.8261781483347446,0.40500211093860605],\"yaxis\":\"y12\",\"type\":\"scatter\"},{\"line\":{\"color\":\"rgba(128, 128, 128, 1.0)\",\"dash\":\"solid\",\"shape\":\"linear\",\"width\":1.3},\"marker\":{\"size\":2,\"symbol\":\"circle\"},\"mode\":\"markers\",\"name\":\"D\",\"text\":\"\",\"x\":[0.14822082851313306,-0.34608891272282194,0.24901271287272922,0.4240644884392381,1.0440983662883718,-1.276609077470786,0.7173135837709251,0.1724501564227296,-1.1216704493486236,0.781576014372293,1.1620631939397135,0.4150420570889104,-1.5521396830291718,-1.3169847130470722,-0.2781776254151489,0.06309633174302318,0.556436849059671,0.42210247531905687,-0.6290252194921633,2.0482652926239022,0.0780057701894443,-1.0368652381136363,-1.2541662496048762,1.3641269677974222,-0.5815112531984108,1.6930307786117214,-0.4427147377234606,-0.7445688117897638,-0.20096265500627905,-0.5983181907981495,-0.3337980932863787,0.6955202873612363,0.8211640518761578,0.058440132841781366,-0.9974922958576941,2.4395074569855955,0.3575072897242947,1.9390462165207785,0.7312082349367491,1.3447152116928895,0.444713249935464,-1.169786449791424,1.0023170061399884,-1.1243268576932697,1.4503665582180947,-0.2900040053277371,-0.5088719735190952,1.2334075477037256,0.22499907847027323,-0.024049951245375886,-0.8758256834084206,-0.3420189487010926,-0.8434583722408066,0.9204550472988404,0.30177024477047126,-0.377492562579996,-1.2884965453566963,0.7746009127096465,-1.64245210047636,0.8542126775410289,-1.3735030353907403,0.8781625056604911,-0.5396336594025676,-1.240198135750007,-0.09794950347543442,-1.312279745338373,0.17805532615954506,0.4299075147494006,-1.1404548328899988,-0.12310121442137532,0.4479245793802654,0.4070954259101387,0.16963828515414067,0.1973157313110605,0.5324630926125037,0.21260533811136523,0.12716194356615354,1.2611059982970452,-0.6971439837941964,-1.4514082154439494,0.6677974863476068,0.5997598573702173,0.2808773015398909,-1.0440558332737448,1.4802503737188173,0.05153994766676817,0.7364419340533024,-0.22705203539660515,-0.6021806468835678,0.4846678743214728,0.4093408586133741,-0.013933365361420797,-0.3141274672417357,0.7403120144688332,0.2110029004515611,-0.33877135624166815,1.6276636601277281,1.3798040926121122,-0.4122807594505736,-1.4787853580946055],\"xaxis\":\"x13\",\"y\":[-0.16933702153120564,0.015463130330103832,1.1675431867274206,0.19510235270609524,0.023244950986804076,-0.37084609411017183,0.6548316799850522,-0.5189778691535102,0.2342070769750843,-1.3154796961121293,0.07527562161836437,-1.3697340353562337,-0.06697804745639586,1.867587665665157,-0.8791349758077466,-0.13386295401003215,1.1106756300478267,0.3273515579371792,0.8318787857317058,-1.4787163202440299,0.4333955884638258,-0.0770530734167716,1.526949947941122,-2.6779294588249183,0.19503577800948696,-0.5008917242815318,-1.2531748428674667,-1.1186659050017485,-1.2209454510933775,0.7104124836933191,-0.8391663887848211,-1.9153402613109618,0.17494802244639612,-2.106112580988103,0.0639331682961319,0.13762601799049493,-1.2848517178910825,0.35066226007728657,-0.6855730595214085,-1.1029537437208903,1.1712444443711851,0.7015001766568368,-0.807228931851719,0.793150685361422,0.05898327588761141,-0.04896712168972895,0.6167559996629923,0.7742544408088669,-0.3631227773459395,-0.4582538474457079,0.6660470856420727,1.9672804673117001,0.6173397582651268,1.622227103562318,0.8209377515075237,0.14434093083396204,-0.5949426378441042,-1.3223803511042727,-0.42172174268526674,-0.08188115397897601,-0.36198727855559226,-0.5680999366641512,-0.45572150400210526,0.34972678193727913,-0.0976013864021273,0.6797156066515974,0.7468042045420421,1.1682632978663434,1.959349756903216,1.5395954090028838,-0.2499787291211412,0.4225481189522686,-0.6409770800538417,-2.114163622529517,-0.21237873104875202,-0.07289603503302809,0.4600098844886235,-0.7872652085433337,-0.6159552178726073,-0.7685467376113275,1.442924207863347,0.07116527971277739,-0.17232643285380164,-0.5198406428874589,-0.7427047695555723,0.6738139606718887,-1.577760071005201,-0.36124234958398077,0.3778100226106513,0.9786286951256322,1.8715841745997923,0.7703852378780824,0.39024405309669197,2.092360580059444,-0.5922001644371345,-1.1485583853852506,-0.21989667043942174,-1.7498720338018705,0.6132968045817001,0.28378004178725824],\"yaxis\":\"y13\",\"type\":\"scatter\"},{\"line\":{\"color\":\"rgba(128, 128, 128, 1.0)\",\"dash\":\"solid\",\"shape\":\"linear\",\"width\":1.3},\"marker\":{\"size\":2,\"symbol\":\"circle\"},\"mode\":\"markers\",\"name\":\"D\",\"text\":\"\",\"x\":[0.09335618225132572,0.6352634109513319,0.41907936288113773,-0.22798076945126475,-0.4979082166152658,0.03694743289446904,-0.37499194262987345,-1.4320569215939702,-0.2362651597312885,-0.18580302242834376,-2.170568749583378,-0.2527090527912323,-0.3177640387438962,1.3882022876173679,0.5087337692119102,1.7927682536553873,1.2236875377203562,0.21001523755733584,-0.7705541428181553,-0.43484129193107846,-1.4119778801694032,0.9229043979660734,-0.9299146017445847,0.6939271421218565,-0.27618229521632587,2.793021145864615,1.2992340751988656,-1.555370384056118,0.9211366472786398,0.23246834371802508,-1.4410620003372667,-1.1594196104741066,-0.7549479395256614,0.5320441673034443,-1.302371037353287,0.584221182953409,-0.5033363547574853,0.6400333546853904,0.5184263100005203,-0.6092283231484559,-0.8908992929710426,-1.9029428961269146,-0.18158043368950857,0.5008460201718647,-0.1809839430908216,0.7513366197730661,1.922128688864836,0.27485200154688366,-1.3545615921278709,-1.2563620191833995,-0.9748758879945009,-1.9347921316496997,1.5480818687161126,0.12803884189053585,0.6578478863662082,1.2550663929317016,-0.15789460063418348,0.70624349330054,2.110389847005232,-0.8613836802255759,2.430361827827879,-1.1822130719974753,0.7822023619471686,-0.035320864702165104,0.18972620513775132,0.7294931706303271,-0.03774964034918003,1.8175022537610461,0.6367475715019699,-1.29353184816196,0.13556306215106625,-1.1271960376428591,-1.6224500213091382,-0.2626706502000504,-1.0563994576913762,0.14360288063488147,-0.4303216252174318,-1.135237282678753,0.3914594104893218,1.2882790913971087,-0.8583955336919064,-0.5164129539465653,-0.9847788181104075,-0.5640171075998446,1.117732906799216,-0.672617658730878,0.47756166289699004,-1.3525120817432912,-1.015732220293894,-0.5234140283791064,-1.2756075837861574,-0.4061080448964347,-0.545509458282861,-0.8687754951278084,0.19169077957013955,-0.960008089175775,1.2222908778070325,0.1644915055542513,0.9533726745254081,-0.5249693115821974],\"xaxis\":\"x14\",\"y\":[-0.16933702153120564,0.015463130330103832,1.1675431867274206,0.19510235270609524,0.023244950986804076,-0.37084609411017183,0.6548316799850522,-0.5189778691535102,0.2342070769750843,-1.3154796961121293,0.07527562161836437,-1.3697340353562337,-0.06697804745639586,1.867587665665157,-0.8791349758077466,-0.13386295401003215,1.1106756300478267,0.3273515579371792,0.8318787857317058,-1.4787163202440299,0.4333955884638258,-0.0770530734167716,1.526949947941122,-2.6779294588249183,0.19503577800948696,-0.5008917242815318,-1.2531748428674667,-1.1186659050017485,-1.2209454510933775,0.7104124836933191,-0.8391663887848211,-1.9153402613109618,0.17494802244639612,-2.106112580988103,0.0639331682961319,0.13762601799049493,-1.2848517178910825,0.35066226007728657,-0.6855730595214085,-1.1029537437208903,1.1712444443711851,0.7015001766568368,-0.807228931851719,0.793150685361422,0.05898327588761141,-0.04896712168972895,0.6167559996629923,0.7742544408088669,-0.3631227773459395,-0.4582538474457079,0.6660470856420727,1.9672804673117001,0.6173397582651268,1.622227103562318,0.8209377515075237,0.14434093083396204,-0.5949426378441042,-1.3223803511042727,-0.42172174268526674,-0.08188115397897601,-0.36198727855559226,-0.5680999366641512,-0.45572150400210526,0.34972678193727913,-0.0976013864021273,0.6797156066515974,0.7468042045420421,1.1682632978663434,1.959349756903216,1.5395954090028838,-0.2499787291211412,0.4225481189522686,-0.6409770800538417,-2.114163622529517,-0.21237873104875202,-0.07289603503302809,0.4600098844886235,-0.7872652085433337,-0.6159552178726073,-0.7685467376113275,1.442924207863347,0.07116527971277739,-0.17232643285380164,-0.5198406428874589,-0.7427047695555723,0.6738139606718887,-1.577760071005201,-0.36124234958398077,0.3778100226106513,0.9786286951256322,1.8715841745997923,0.7703852378780824,0.39024405309669197,2.092360580059444,-0.5922001644371345,-1.1485583853852506,-0.21989667043942174,-1.7498720338018705,0.6132968045817001,0.28378004178725824],\"yaxis\":\"y14\",\"type\":\"scatter\"},{\"line\":{\"color\":\"rgba(128, 128, 128, 1.0)\",\"dash\":\"solid\",\"shape\":\"linear\",\"width\":1.3},\"marker\":{\"size\":2,\"symbol\":\"circle\"},\"mode\":\"markers\",\"name\":\"D\",\"text\":\"\",\"x\":[-1.6953689677756643,1.8194720346242286,-0.6831311730543547,0.5781253867149284,1.6716821802956356,0.5213057287780627,1.4582252043915573,0.10514172777912444,0.5236167417267704,-0.03565465227963288,-0.020885680628682363,1.200145550200681,-0.9846904469215673,0.10950711263964928,1.0445853242309007,0.27529157697533474,0.5983208824340993,-0.3681703126977821,0.5264459784317566,-1.8901304008258482,0.41053724058531343,2.149413721393953,-0.14829351925723355,0.28481667406600414,1.2966105484939134,1.7764474949850584,-0.8658047995647816,0.5308213817143275,-1.120788356364344,1.9454034638537745,1.0587558084959137,-0.7674713924003651,-0.6267594064371546,-0.04346827274230348,-1.0422634069846766,0.09969074130040292,0.39073622722129364,-0.5928957144835026,-0.9641123834614155,-0.2677946868200473,-0.7777178807479489,0.7158199246051675,0.8143290570752546,-0.20654314807608365,-0.6537455646422298,0.22089986844224546,-0.2225633079250923,-0.4534145079716638,0.5861747969856174,-0.8359347930593233,-1.1263047126460155,-0.8262738830817886,-1.7113495932158238,0.08988046821639137,0.17889806708828568,0.6012322374099268,-2.292343144986237,-0.37576863802106686,-0.5461466161962525,-1.1285084981517282,0.25345271040546635,-0.7382027317539311,-0.4164404058879414,0.34892979575774963,-0.5162902086952994,0.10384774185504225,0.04891738989556161,-0.19568143903196195,-0.29457643181972093,1.68215698400926,-0.991347167285361,0.10168122028707241,0.7650140058185785,-0.38206239630257804,0.5662355891522727,0.4099861289131352,1.5423675075616017,-0.2184266039919825,-0.995442082795395,0.4697414139371775,0.8434702620443851,0.21731369535359624,-1.4495647123157822,1.2389903416842123,0.6192037649559717,-0.29962795697765315,0.12043705971204607,0.20746825573080724,-0.6924691888855892,-0.5135158353185701,1.7586618431631418,0.11614058265889382,1.2664850969917103,-0.4829830914711651,-0.7037313752472822,-0.7411842833636715,-0.3546797425798537,0.575255402927518,1.8261781483347446,0.40500211093860605],\"xaxis\":\"x15\",\"y\":[-0.16933702153120564,0.015463130330103832,1.1675431867274206,0.19510235270609524,0.023244950986804076,-0.37084609411017183,0.6548316799850522,-0.5189778691535102,0.2342070769750843,-1.3154796961121293,0.07527562161836437,-1.3697340353562337,-0.06697804745639586,1.867587665665157,-0.8791349758077466,-0.13386295401003215,1.1106756300478267,0.3273515579371792,0.8318787857317058,-1.4787163202440299,0.4333955884638258,-0.0770530734167716,1.526949947941122,-2.6779294588249183,0.19503577800948696,-0.5008917242815318,-1.2531748428674667,-1.1186659050017485,-1.2209454510933775,0.7104124836933191,-0.8391663887848211,-1.9153402613109618,0.17494802244639612,-2.106112580988103,0.0639331682961319,0.13762601799049493,-1.2848517178910825,0.35066226007728657,-0.6855730595214085,-1.1029537437208903,1.1712444443711851,0.7015001766568368,-0.807228931851719,0.793150685361422,0.05898327588761141,-0.04896712168972895,0.6167559996629923,0.7742544408088669,-0.3631227773459395,-0.4582538474457079,0.6660470856420727,1.9672804673117001,0.6173397582651268,1.622227103562318,0.8209377515075237,0.14434093083396204,-0.5949426378441042,-1.3223803511042727,-0.42172174268526674,-0.08188115397897601,-0.36198727855559226,-0.5680999366641512,-0.45572150400210526,0.34972678193727913,-0.0976013864021273,0.6797156066515974,0.7468042045420421,1.1682632978663434,1.959349756903216,1.5395954090028838,-0.2499787291211412,0.4225481189522686,-0.6409770800538417,-2.114163622529517,-0.21237873104875202,-0.07289603503302809,0.4600098844886235,-0.7872652085433337,-0.6159552178726073,-0.7685467376113275,1.442924207863347,0.07116527971277739,-0.17232643285380164,-0.5198406428874589,-0.7427047695555723,0.6738139606718887,-1.577760071005201,-0.36124234958398077,0.3778100226106513,0.9786286951256322,1.8715841745997923,0.7703852378780824,0.39024405309669197,2.092360580059444,-0.5922001644371345,-1.1485583853852506,-0.21989667043942174,-1.7498720338018705,0.6132968045817001,0.28378004178725824],\"yaxis\":\"y15\",\"type\":\"scatter\"},{\"histfunc\":\"count\",\"histnorm\":\"\",\"marker\":{\"color\":\"rgba(128, 0, 128, 1.0)\",\"line\":{\"color\":\"#4D5663\",\"width\":1.3}},\"name\":\"D\",\"nbinsx\":10,\"opacity\":0.8,\"orientation\":\"v\",\"x\":[-0.16933702153120564,0.015463130330103832,1.1675431867274206,0.19510235270609524,0.023244950986804076,-0.37084609411017183,0.6548316799850522,-0.5189778691535102,0.2342070769750843,-1.3154796961121293,0.07527562161836437,-1.3697340353562337,-0.06697804745639586,1.867587665665157,-0.8791349758077466,-0.13386295401003215,1.1106756300478267,0.3273515579371792,0.8318787857317058,-1.4787163202440299,0.4333955884638258,-0.0770530734167716,1.526949947941122,-2.6779294588249183,0.19503577800948696,-0.5008917242815318,-1.2531748428674667,-1.1186659050017485,-1.2209454510933775,0.7104124836933191,-0.8391663887848211,-1.9153402613109618,0.17494802244639612,-2.106112580988103,0.0639331682961319,0.13762601799049493,-1.2848517178910825,0.35066226007728657,-0.6855730595214085,-1.1029537437208903,1.1712444443711851,0.7015001766568368,-0.807228931851719,0.793150685361422,0.05898327588761141,-0.04896712168972895,0.6167559996629923,0.7742544408088669,-0.3631227773459395,-0.4582538474457079,0.6660470856420727,1.9672804673117001,0.6173397582651268,1.622227103562318,0.8209377515075237,0.14434093083396204,-0.5949426378441042,-1.3223803511042727,-0.42172174268526674,-0.08188115397897601,-0.36198727855559226,-0.5680999366641512,-0.45572150400210526,0.34972678193727913,-0.0976013864021273,0.6797156066515974,0.7468042045420421,1.1682632978663434,1.959349756903216,1.5395954090028838,-0.2499787291211412,0.4225481189522686,-0.6409770800538417,-2.114163622529517,-0.21237873104875202,-0.07289603503302809,0.4600098844886235,-0.7872652085433337,-0.6159552178726073,-0.7685467376113275,1.442924207863347,0.07116527971277739,-0.17232643285380164,-0.5198406428874589,-0.7427047695555723,0.6738139606718887,-1.577760071005201,-0.36124234958398077,0.3778100226106513,0.9786286951256322,1.8715841745997923,0.7703852378780824,0.39024405309669197,2.092360580059444,-0.5922001644371345,-1.1485583853852506,-0.21989667043942174,-1.7498720338018705,0.6132968045817001,0.28378004178725824],\"xaxis\":\"x16\",\"yaxis\":\"y16\",\"type\":\"histogram\"}],                        {\"bargap\":0.02,\"legend\":{\"bgcolor\":\"#F5F6F9\",\"font\":{\"color\":\"#4D5663\"}},\"paper_bgcolor\":\"#F5F6F9\",\"plot_bgcolor\":\"#F5F6F9\",\"showlegend\":false,\"template\":{\"data\":{\"barpolar\":[{\"marker\":{\"line\":{\"color\":\"rgb(17,17,17)\",\"width\":0.5},\"pattern\":{\"fillmode\":\"overlay\",\"size\":10,\"solidity\":0.2}},\"type\":\"barpolar\"}],\"bar\":[{\"error_x\":{\"color\":\"#f2f5fa\"},\"error_y\":{\"color\":\"#f2f5fa\"},\"marker\":{\"line\":{\"color\":\"rgb(17,17,17)\",\"width\":0.5},\"pattern\":{\"fillmode\":\"overlay\",\"size\":10,\"solidity\":0.2}},\"type\":\"bar\"}],\"carpet\":[{\"aaxis\":{\"endlinecolor\":\"#A2B1C6\",\"gridcolor\":\"#506784\",\"linecolor\":\"#506784\",\"minorgridcolor\":\"#506784\",\"startlinecolor\":\"#A2B1C6\"},\"baxis\":{\"endlinecolor\":\"#A2B1C6\",\"gridcolor\":\"#506784\",\"linecolor\":\"#506784\",\"minorgridcolor\":\"#506784\",\"startlinecolor\":\"#A2B1C6\"},\"type\":\"carpet\"}],\"choropleth\":[{\"colorbar\":{\"outlinewidth\":0,\"ticks\":\"\"},\"type\":\"choropleth\"}],\"contourcarpet\":[{\"colorbar\":{\"outlinewidth\":0,\"ticks\":\"\"},\"type\":\"contourcarpet\"}],\"contour\":[{\"colorbar\":{\"outlinewidth\":0,\"ticks\":\"\"},\"colorscale\":[[0.0,\"#0d0887\"],[0.1111111111111111,\"#46039f\"],[0.2222222222222222,\"#7201a8\"],[0.3333333333333333,\"#9c179e\"],[0.4444444444444444,\"#bd3786\"],[0.5555555555555556,\"#d8576b\"],[0.6666666666666666,\"#ed7953\"],[0.7777777777777778,\"#fb9f3a\"],[0.8888888888888888,\"#fdca26\"],[1.0,\"#f0f921\"]],\"type\":\"contour\"}],\"heatmapgl\":[{\"colorbar\":{\"outlinewidth\":0,\"ticks\":\"\"},\"colorscale\":[[0.0,\"#0d0887\"],[0.1111111111111111,\"#46039f\"],[0.2222222222222222,\"#7201a8\"],[0.3333333333333333,\"#9c179e\"],[0.4444444444444444,\"#bd3786\"],[0.5555555555555556,\"#d8576b\"],[0.6666666666666666,\"#ed7953\"],[0.7777777777777778,\"#fb9f3a\"],[0.8888888888888888,\"#fdca26\"],[1.0,\"#f0f921\"]],\"type\":\"heatmapgl\"}],\"heatmap\":[{\"colorbar\":{\"outlinewidth\":0,\"ticks\":\"\"},\"colorscale\":[[0.0,\"#0d0887\"],[0.1111111111111111,\"#46039f\"],[0.2222222222222222,\"#7201a8\"],[0.3333333333333333,\"#9c179e\"],[0.4444444444444444,\"#bd3786\"],[0.5555555555555556,\"#d8576b\"],[0.6666666666666666,\"#ed7953\"],[0.7777777777777778,\"#fb9f3a\"],[0.8888888888888888,\"#fdca26\"],[1.0,\"#f0f921\"]],\"type\":\"heatmap\"}],\"histogram2dcontour\":[{\"colorbar\":{\"outlinewidth\":0,\"ticks\":\"\"},\"colorscale\":[[0.0,\"#0d0887\"],[0.1111111111111111,\"#46039f\"],[0.2222222222222222,\"#7201a8\"],[0.3333333333333333,\"#9c179e\"],[0.4444444444444444,\"#bd3786\"],[0.5555555555555556,\"#d8576b\"],[0.6666666666666666,\"#ed7953\"],[0.7777777777777778,\"#fb9f3a\"],[0.8888888888888888,\"#fdca26\"],[1.0,\"#f0f921\"]],\"type\":\"histogram2dcontour\"}],\"histogram2d\":[{\"colorbar\":{\"outlinewidth\":0,\"ticks\":\"\"},\"colorscale\":[[0.0,\"#0d0887\"],[0.1111111111111111,\"#46039f\"],[0.2222222222222222,\"#7201a8\"],[0.3333333333333333,\"#9c179e\"],[0.4444444444444444,\"#bd3786\"],[0.5555555555555556,\"#d8576b\"],[0.6666666666666666,\"#ed7953\"],[0.7777777777777778,\"#fb9f3a\"],[0.8888888888888888,\"#fdca26\"],[1.0,\"#f0f921\"]],\"type\":\"histogram2d\"}],\"histogram\":[{\"marker\":{\"pattern\":{\"fillmode\":\"overlay\",\"size\":10,\"solidity\":0.2}},\"type\":\"histogram\"}],\"mesh3d\":[{\"colorbar\":{\"outlinewidth\":0,\"ticks\":\"\"},\"type\":\"mesh3d\"}],\"parcoords\":[{\"line\":{\"colorbar\":{\"outlinewidth\":0,\"ticks\":\"\"}},\"type\":\"parcoords\"}],\"pie\":[{\"automargin\":true,\"type\":\"pie\"}],\"scatter3d\":[{\"line\":{\"colorbar\":{\"outlinewidth\":0,\"ticks\":\"\"}},\"marker\":{\"colorbar\":{\"outlinewidth\":0,\"ticks\":\"\"}},\"type\":\"scatter3d\"}],\"scattercarpet\":[{\"marker\":{\"colorbar\":{\"outlinewidth\":0,\"ticks\":\"\"}},\"type\":\"scattercarpet\"}],\"scattergeo\":[{\"marker\":{\"colorbar\":{\"outlinewidth\":0,\"ticks\":\"\"}},\"type\":\"scattergeo\"}],\"scattergl\":[{\"marker\":{\"line\":{\"color\":\"#283442\"}},\"type\":\"scattergl\"}],\"scattermapbox\":[{\"marker\":{\"colorbar\":{\"outlinewidth\":0,\"ticks\":\"\"}},\"type\":\"scattermapbox\"}],\"scatterpolargl\":[{\"marker\":{\"colorbar\":{\"outlinewidth\":0,\"ticks\":\"\"}},\"type\":\"scatterpolargl\"}],\"scatterpolar\":[{\"marker\":{\"colorbar\":{\"outlinewidth\":0,\"ticks\":\"\"}},\"type\":\"scatterpolar\"}],\"scatter\":[{\"marker\":{\"line\":{\"color\":\"#283442\"}},\"type\":\"scatter\"}],\"scatterternary\":[{\"marker\":{\"colorbar\":{\"outlinewidth\":0,\"ticks\":\"\"}},\"type\":\"scatterternary\"}],\"surface\":[{\"colorbar\":{\"outlinewidth\":0,\"ticks\":\"\"},\"colorscale\":[[0.0,\"#0d0887\"],[0.1111111111111111,\"#46039f\"],[0.2222222222222222,\"#7201a8\"],[0.3333333333333333,\"#9c179e\"],[0.4444444444444444,\"#bd3786\"],[0.5555555555555556,\"#d8576b\"],[0.6666666666666666,\"#ed7953\"],[0.7777777777777778,\"#fb9f3a\"],[0.8888888888888888,\"#fdca26\"],[1.0,\"#f0f921\"]],\"type\":\"surface\"}],\"table\":[{\"cells\":{\"fill\":{\"color\":\"#506784\"},\"line\":{\"color\":\"rgb(17,17,17)\"}},\"header\":{\"fill\":{\"color\":\"#2a3f5f\"},\"line\":{\"color\":\"rgb(17,17,17)\"}},\"type\":\"table\"}]},\"layout\":{\"annotationdefaults\":{\"arrowcolor\":\"#f2f5fa\",\"arrowhead\":0,\"arrowwidth\":1},\"autotypenumbers\":\"strict\",\"coloraxis\":{\"colorbar\":{\"outlinewidth\":0,\"ticks\":\"\"}},\"colorscale\":{\"diverging\":[[0,\"#8e0152\"],[0.1,\"#c51b7d\"],[0.2,\"#de77ae\"],[0.3,\"#f1b6da\"],[0.4,\"#fde0ef\"],[0.5,\"#f7f7f7\"],[0.6,\"#e6f5d0\"],[0.7,\"#b8e186\"],[0.8,\"#7fbc41\"],[0.9,\"#4d9221\"],[1,\"#276419\"]],\"sequential\":[[0.0,\"#0d0887\"],[0.1111111111111111,\"#46039f\"],[0.2222222222222222,\"#7201a8\"],[0.3333333333333333,\"#9c179e\"],[0.4444444444444444,\"#bd3786\"],[0.5555555555555556,\"#d8576b\"],[0.6666666666666666,\"#ed7953\"],[0.7777777777777778,\"#fb9f3a\"],[0.8888888888888888,\"#fdca26\"],[1.0,\"#f0f921\"]],\"sequentialminus\":[[0.0,\"#0d0887\"],[0.1111111111111111,\"#46039f\"],[0.2222222222222222,\"#7201a8\"],[0.3333333333333333,\"#9c179e\"],[0.4444444444444444,\"#bd3786\"],[0.5555555555555556,\"#d8576b\"],[0.6666666666666666,\"#ed7953\"],[0.7777777777777778,\"#fb9f3a\"],[0.8888888888888888,\"#fdca26\"],[1.0,\"#f0f921\"]]},\"colorway\":[\"#636efa\",\"#EF553B\",\"#00cc96\",\"#ab63fa\",\"#FFA15A\",\"#19d3f3\",\"#FF6692\",\"#B6E880\",\"#FF97FF\",\"#FECB52\"],\"font\":{\"color\":\"#f2f5fa\"},\"geo\":{\"bgcolor\":\"rgb(17,17,17)\",\"lakecolor\":\"rgb(17,17,17)\",\"landcolor\":\"rgb(17,17,17)\",\"showlakes\":true,\"showland\":true,\"subunitcolor\":\"#506784\"},\"hoverlabel\":{\"align\":\"left\"},\"hovermode\":\"closest\",\"mapbox\":{\"style\":\"dark\"},\"paper_bgcolor\":\"rgb(17,17,17)\",\"plot_bgcolor\":\"rgb(17,17,17)\",\"polar\":{\"angularaxis\":{\"gridcolor\":\"#506784\",\"linecolor\":\"#506784\",\"ticks\":\"\"},\"bgcolor\":\"rgb(17,17,17)\",\"radialaxis\":{\"gridcolor\":\"#506784\",\"linecolor\":\"#506784\",\"ticks\":\"\"}},\"scene\":{\"xaxis\":{\"backgroundcolor\":\"rgb(17,17,17)\",\"gridcolor\":\"#506784\",\"gridwidth\":2,\"linecolor\":\"#506784\",\"showbackground\":true,\"ticks\":\"\",\"zerolinecolor\":\"#C8D4E3\"},\"yaxis\":{\"backgroundcolor\":\"rgb(17,17,17)\",\"gridcolor\":\"#506784\",\"gridwidth\":2,\"linecolor\":\"#506784\",\"showbackground\":true,\"ticks\":\"\",\"zerolinecolor\":\"#C8D4E3\"},\"zaxis\":{\"backgroundcolor\":\"rgb(17,17,17)\",\"gridcolor\":\"#506784\",\"gridwidth\":2,\"linecolor\":\"#506784\",\"showbackground\":true,\"ticks\":\"\",\"zerolinecolor\":\"#C8D4E3\"}},\"shapedefaults\":{\"line\":{\"color\":\"#f2f5fa\"}},\"sliderdefaults\":{\"bgcolor\":\"#C8D4E3\",\"bordercolor\":\"rgb(17,17,17)\",\"borderwidth\":1,\"tickwidth\":0},\"ternary\":{\"aaxis\":{\"gridcolor\":\"#506784\",\"linecolor\":\"#506784\",\"ticks\":\"\"},\"baxis\":{\"gridcolor\":\"#506784\",\"linecolor\":\"#506784\",\"ticks\":\"\"},\"bgcolor\":\"rgb(17,17,17)\",\"caxis\":{\"gridcolor\":\"#506784\",\"linecolor\":\"#506784\",\"ticks\":\"\"}},\"title\":{\"x\":0.05},\"updatemenudefaults\":{\"bgcolor\":\"#506784\",\"borderwidth\":0},\"xaxis\":{\"automargin\":true,\"gridcolor\":\"#283442\",\"linecolor\":\"#506784\",\"ticks\":\"\",\"title\":{\"standoff\":15},\"zerolinecolor\":\"#283442\",\"zerolinewidth\":2},\"yaxis\":{\"automargin\":true,\"gridcolor\":\"#283442\",\"linecolor\":\"#506784\",\"ticks\":\"\",\"title\":{\"standoff\":15},\"zerolinecolor\":\"#283442\",\"zerolinewidth\":2}}},\"title\":{\"font\":{\"color\":\"#4D5663\"}},\"xaxis\":{\"anchor\":\"y\",\"domain\":[0.0,0.2125],\"gridcolor\":\"#E1E5ED\",\"showgrid\":false,\"tickfont\":{\"color\":\"#4D5663\"},\"title\":{\"font\":{\"color\":\"#4D5663\"},\"text\":\"\"},\"zerolinecolor\":\"#E1E5ED\"},\"yaxis\":{\"anchor\":\"x\",\"domain\":[0.8025,1.0],\"gridcolor\":\"#E1E5ED\",\"showgrid\":false,\"tickfont\":{\"color\":\"#4D5663\"},\"title\":{\"font\":{\"color\":\"#4D5663\"},\"text\":\"\"},\"zerolinecolor\":\"#E1E5ED\"},\"xaxis2\":{\"anchor\":\"y2\",\"domain\":[0.2625,0.475],\"gridcolor\":\"#E1E5ED\",\"showgrid\":false,\"tickfont\":{\"color\":\"#4D5663\"},\"title\":{\"font\":{\"color\":\"#4D5663\"},\"text\":\"\"},\"zerolinecolor\":\"#E1E5ED\"},\"yaxis2\":{\"anchor\":\"x2\",\"domain\":[0.8025,1.0],\"gridcolor\":\"#E1E5ED\",\"showgrid\":false,\"tickfont\":{\"color\":\"#4D5663\"},\"title\":{\"font\":{\"color\":\"#4D5663\"},\"text\":\"\"},\"zerolinecolor\":\"#E1E5ED\"},\"xaxis3\":{\"anchor\":\"y3\",\"domain\":[0.525,0.7375],\"gridcolor\":\"#E1E5ED\",\"showgrid\":false,\"tickfont\":{\"color\":\"#4D5663\"},\"title\":{\"font\":{\"color\":\"#4D5663\"},\"text\":\"\"},\"zerolinecolor\":\"#E1E5ED\"},\"yaxis3\":{\"anchor\":\"x3\",\"domain\":[0.8025,1.0],\"gridcolor\":\"#E1E5ED\",\"showgrid\":false,\"tickfont\":{\"color\":\"#4D5663\"},\"title\":{\"font\":{\"color\":\"#4D5663\"},\"text\":\"\"},\"zerolinecolor\":\"#E1E5ED\"},\"xaxis4\":{\"anchor\":\"y4\",\"domain\":[0.7875,1.0],\"gridcolor\":\"#E1E5ED\",\"showgrid\":false,\"tickfont\":{\"color\":\"#4D5663\"},\"title\":{\"font\":{\"color\":\"#4D5663\"},\"text\":\"\"},\"zerolinecolor\":\"#E1E5ED\"},\"yaxis4\":{\"anchor\":\"x4\",\"domain\":[0.8025,1.0],\"gridcolor\":\"#E1E5ED\",\"showgrid\":false,\"tickfont\":{\"color\":\"#4D5663\"},\"title\":{\"font\":{\"color\":\"#4D5663\"},\"text\":\"\"},\"zerolinecolor\":\"#E1E5ED\"},\"xaxis5\":{\"anchor\":\"y5\",\"domain\":[0.0,0.2125],\"gridcolor\":\"#E1E5ED\",\"showgrid\":false,\"tickfont\":{\"color\":\"#4D5663\"},\"title\":{\"font\":{\"color\":\"#4D5663\"},\"text\":\"\"},\"zerolinecolor\":\"#E1E5ED\"},\"yaxis5\":{\"anchor\":\"x5\",\"domain\":[0.535,0.7325],\"gridcolor\":\"#E1E5ED\",\"showgrid\":false,\"tickfont\":{\"color\":\"#4D5663\"},\"title\":{\"font\":{\"color\":\"#4D5663\"},\"text\":\"\"},\"zerolinecolor\":\"#E1E5ED\"},\"xaxis6\":{\"anchor\":\"y6\",\"domain\":[0.2625,0.475],\"gridcolor\":\"#E1E5ED\",\"showgrid\":false,\"tickfont\":{\"color\":\"#4D5663\"},\"title\":{\"font\":{\"color\":\"#4D5663\"},\"text\":\"\"},\"zerolinecolor\":\"#E1E5ED\"},\"yaxis6\":{\"anchor\":\"x6\",\"domain\":[0.535,0.7325],\"gridcolor\":\"#E1E5ED\",\"showgrid\":false,\"tickfont\":{\"color\":\"#4D5663\"},\"title\":{\"font\":{\"color\":\"#4D5663\"},\"text\":\"\"},\"zerolinecolor\":\"#E1E5ED\"},\"xaxis7\":{\"anchor\":\"y7\",\"domain\":[0.525,0.7375],\"gridcolor\":\"#E1E5ED\",\"showgrid\":false,\"tickfont\":{\"color\":\"#4D5663\"},\"title\":{\"font\":{\"color\":\"#4D5663\"},\"text\":\"\"},\"zerolinecolor\":\"#E1E5ED\"},\"yaxis7\":{\"anchor\":\"x7\",\"domain\":[0.535,0.7325],\"gridcolor\":\"#E1E5ED\",\"showgrid\":false,\"tickfont\":{\"color\":\"#4D5663\"},\"title\":{\"font\":{\"color\":\"#4D5663\"},\"text\":\"\"},\"zerolinecolor\":\"#E1E5ED\"},\"xaxis8\":{\"anchor\":\"y8\",\"domain\":[0.7875,1.0],\"gridcolor\":\"#E1E5ED\",\"showgrid\":false,\"tickfont\":{\"color\":\"#4D5663\"},\"title\":{\"font\":{\"color\":\"#4D5663\"},\"text\":\"\"},\"zerolinecolor\":\"#E1E5ED\"},\"yaxis8\":{\"anchor\":\"x8\",\"domain\":[0.535,0.7325],\"gridcolor\":\"#E1E5ED\",\"showgrid\":false,\"tickfont\":{\"color\":\"#4D5663\"},\"title\":{\"font\":{\"color\":\"#4D5663\"},\"text\":\"\"},\"zerolinecolor\":\"#E1E5ED\"},\"xaxis9\":{\"anchor\":\"y9\",\"domain\":[0.0,0.2125],\"gridcolor\":\"#E1E5ED\",\"showgrid\":false,\"tickfont\":{\"color\":\"#4D5663\"},\"title\":{\"font\":{\"color\":\"#4D5663\"},\"text\":\"\"},\"zerolinecolor\":\"#E1E5ED\"},\"yaxis9\":{\"anchor\":\"x9\",\"domain\":[0.2675,0.465],\"gridcolor\":\"#E1E5ED\",\"showgrid\":false,\"tickfont\":{\"color\":\"#4D5663\"},\"title\":{\"font\":{\"color\":\"#4D5663\"},\"text\":\"\"},\"zerolinecolor\":\"#E1E5ED\"},\"xaxis10\":{\"anchor\":\"y10\",\"domain\":[0.2625,0.475],\"gridcolor\":\"#E1E5ED\",\"showgrid\":false,\"tickfont\":{\"color\":\"#4D5663\"},\"title\":{\"font\":{\"color\":\"#4D5663\"},\"text\":\"\"},\"zerolinecolor\":\"#E1E5ED\"},\"yaxis10\":{\"anchor\":\"x10\",\"domain\":[0.2675,0.465],\"gridcolor\":\"#E1E5ED\",\"showgrid\":false,\"tickfont\":{\"color\":\"#4D5663\"},\"title\":{\"font\":{\"color\":\"#4D5663\"},\"text\":\"\"},\"zerolinecolor\":\"#E1E5ED\"},\"xaxis11\":{\"anchor\":\"y11\",\"domain\":[0.525,0.7375],\"gridcolor\":\"#E1E5ED\",\"showgrid\":false,\"tickfont\":{\"color\":\"#4D5663\"},\"title\":{\"font\":{\"color\":\"#4D5663\"},\"text\":\"\"},\"zerolinecolor\":\"#E1E5ED\"},\"yaxis11\":{\"anchor\":\"x11\",\"domain\":[0.2675,0.465],\"gridcolor\":\"#E1E5ED\",\"showgrid\":false,\"tickfont\":{\"color\":\"#4D5663\"},\"title\":{\"font\":{\"color\":\"#4D5663\"},\"text\":\"\"},\"zerolinecolor\":\"#E1E5ED\"},\"xaxis12\":{\"anchor\":\"y12\",\"domain\":[0.7875,1.0],\"gridcolor\":\"#E1E5ED\",\"showgrid\":false,\"tickfont\":{\"color\":\"#4D5663\"},\"title\":{\"font\":{\"color\":\"#4D5663\"},\"text\":\"\"},\"zerolinecolor\":\"#E1E5ED\"},\"yaxis12\":{\"anchor\":\"x12\",\"domain\":[0.2675,0.465],\"gridcolor\":\"#E1E5ED\",\"showgrid\":false,\"tickfont\":{\"color\":\"#4D5663\"},\"title\":{\"font\":{\"color\":\"#4D5663\"},\"text\":\"\"},\"zerolinecolor\":\"#E1E5ED\"},\"xaxis13\":{\"anchor\":\"y13\",\"domain\":[0.0,0.2125],\"gridcolor\":\"#E1E5ED\",\"showgrid\":false,\"tickfont\":{\"color\":\"#4D5663\"},\"title\":{\"font\":{\"color\":\"#4D5663\"},\"text\":\"\"},\"zerolinecolor\":\"#E1E5ED\"},\"yaxis13\":{\"anchor\":\"x13\",\"domain\":[0.0,0.1975],\"gridcolor\":\"#E1E5ED\",\"showgrid\":false,\"tickfont\":{\"color\":\"#4D5663\"},\"title\":{\"font\":{\"color\":\"#4D5663\"},\"text\":\"\"},\"zerolinecolor\":\"#E1E5ED\"},\"xaxis14\":{\"anchor\":\"y14\",\"domain\":[0.2625,0.475],\"gridcolor\":\"#E1E5ED\",\"showgrid\":false,\"tickfont\":{\"color\":\"#4D5663\"},\"title\":{\"font\":{\"color\":\"#4D5663\"},\"text\":\"\"},\"zerolinecolor\":\"#E1E5ED\"},\"yaxis14\":{\"anchor\":\"x14\",\"domain\":[0.0,0.1975],\"gridcolor\":\"#E1E5ED\",\"showgrid\":false,\"tickfont\":{\"color\":\"#4D5663\"},\"title\":{\"font\":{\"color\":\"#4D5663\"},\"text\":\"\"},\"zerolinecolor\":\"#E1E5ED\"},\"xaxis15\":{\"anchor\":\"y15\",\"domain\":[0.525,0.7375],\"gridcolor\":\"#E1E5ED\",\"showgrid\":false,\"tickfont\":{\"color\":\"#4D5663\"},\"title\":{\"font\":{\"color\":\"#4D5663\"},\"text\":\"\"},\"zerolinecolor\":\"#E1E5ED\"},\"yaxis15\":{\"anchor\":\"x15\",\"domain\":[0.0,0.1975],\"gridcolor\":\"#E1E5ED\",\"showgrid\":false,\"tickfont\":{\"color\":\"#4D5663\"},\"title\":{\"font\":{\"color\":\"#4D5663\"},\"text\":\"\"},\"zerolinecolor\":\"#E1E5ED\"},\"xaxis16\":{\"anchor\":\"y16\",\"domain\":[0.7875,1.0],\"gridcolor\":\"#E1E5ED\",\"showgrid\":false,\"tickfont\":{\"color\":\"#4D5663\"},\"title\":{\"font\":{\"color\":\"#4D5663\"},\"text\":\"\"},\"zerolinecolor\":\"#E1E5ED\"},\"yaxis16\":{\"anchor\":\"x16\",\"domain\":[0.0,0.1975],\"gridcolor\":\"#E1E5ED\",\"showgrid\":false,\"tickfont\":{\"color\":\"#4D5663\"},\"title\":{\"font\":{\"color\":\"#4D5663\"},\"text\":\"\"},\"zerolinecolor\":\"#E1E5ED\"}},                        {\"showLink\": true, \"linkText\": \"Export to plot.ly\", \"plotlyServerURL\": \"https://plot.ly\", \"responsive\": true}                    ).then(function(){\n                            \nvar gd = document.getElementById('0615f011-f931-4308-ba27-c1eb8003a6fb');\nvar x = new MutationObserver(function (mutations, observer) {{\n        var display = window.getComputedStyle(gd).display;\n        if (!display || display === 'none') {{\n            console.log([gd, 'removed!']);\n            Plotly.purge(gd);\n            observer.disconnect();\n        }}\n}});\n\n// Listen for the removal of the full notebook cells\nvar notebookContainer = gd.closest('#notebook-container');\nif (notebookContainer) {{\n    x.observe(notebookContainer, {childList: true});\n}}\n\n// Listen for the clearing of the current output cell\nvar outputEl = gd.closest('.output');\nif (outputEl) {{\n    x.observe(outputEl, {childList: true});\n}}\n\n                        })                };                });            </script>        </div>"
     },
     "metadata": {},
     "output_type": "display_data"
    }
   ],
   "source": [
    "df.scatter_matrix()"
   ],
   "metadata": {
    "collapsed": false,
    "pycharm": {
     "name": "#%%\n"
    }
   }
  }
 ],
 "metadata": {
  "kernelspec": {
   "display_name": "Python 3",
   "language": "python",
   "name": "python3"
  },
  "language_info": {
   "codemirror_mode": {
    "name": "ipython",
    "version": 2
   },
   "file_extension": ".py",
   "mimetype": "text/x-python",
   "name": "python",
   "nbconvert_exporter": "python",
   "pygments_lexer": "ipython2",
   "version": "2.7.6"
  }
 },
 "nbformat": 4,
 "nbformat_minor": 0
}